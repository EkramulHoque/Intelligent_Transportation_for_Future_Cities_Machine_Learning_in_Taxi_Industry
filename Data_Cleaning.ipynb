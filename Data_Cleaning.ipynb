{
 "cells": [
  {
   "cell_type": "markdown",
   "metadata": {},
   "source": [
    "**Importing some important libraries**"
   ]
  },
  {
   "cell_type": "code",
   "execution_count": 1,
   "metadata": {
    "collapsed": true
   },
   "outputs": [],
   "source": [
    "import numpy as np\n",
    "import pandas as pd\n",
    "import matplotlib.pyplot as plt\n",
    "import seaborn as sns\n",
    "%matplotlib inline"
   ]
  },
  {
   "cell_type": "markdown",
   "metadata": {},
   "source": [
    "**Lets consider the green data for January 2018**"
   ]
  },
  {
   "cell_type": "code",
   "execution_count": 2,
   "metadata": {
    "collapsed": true
   },
   "outputs": [],
   "source": [
    "#df = pd.read_csv('yellow_tripdata_2018-01.csv')\n",
    "#df = pd.read_csv('green_tripdata_2018-01.csv')\n",
    "df = pd.read_csv('green_2017_20%.csv')\n"
   ]
  },
  {
   "cell_type": "code",
   "execution_count": 3,
   "metadata": {},
   "outputs": [
    {
     "name": "stdout",
     "output_type": "stream",
     "text": [
      "<class 'pandas.core.frame.DataFrame'>\n",
      "RangeIndex: 2348134 entries, 0 to 2348133\n",
      "Data columns (total 19 columns):\n",
      "VendorID                 int64\n",
      "lpep_pickup_datetime     object\n",
      "lpep_dropoff_datetime    object\n",
      "store_and_fwd_flag       object\n",
      "RatecodeID               int64\n",
      "PULocationID             int64\n",
      "DOLocationID             int64\n",
      "passenger_count          int64\n",
      "trip_distance            float64\n",
      "fare_amount              float64\n",
      "extra                    float64\n",
      "mta_tax                  float64\n",
      "tip_amount               float64\n",
      "tolls_amount             float64\n",
      "ehail_fee                float64\n",
      "improvement_surcharge    float64\n",
      "total_amount             float64\n",
      "payment_type             int64\n",
      "trip_type                float64\n",
      "dtypes: float64(10), int64(6), object(3)\n",
      "memory usage: 340.4+ MB\n"
     ]
    }
   ],
   "source": [
    "df.info()"
   ]
  },
  {
   "cell_type": "markdown",
   "metadata": {},
   "source": [
    "Looks like `ehail_fee` is useless column, its 0 all the time, lets drop it at the moment!"
   ]
  },
  {
   "cell_type": "code",
   "execution_count": 4,
   "metadata": {
    "scrolled": false
   },
   "outputs": [
    {
     "name": "stdout",
     "output_type": "stream",
     "text": [
      "<class 'pandas.core.frame.DataFrame'>\n",
      "RangeIndex: 2348134 entries, 0 to 2348133\n",
      "Data columns (total 18 columns):\n",
      "VendorID                 int64\n",
      "lpep_pickup_datetime     object\n",
      "lpep_dropoff_datetime    object\n",
      "store_and_fwd_flag       object\n",
      "RatecodeID               int64\n",
      "PULocationID             int64\n",
      "DOLocationID             int64\n",
      "passenger_count          int64\n",
      "trip_distance            float64\n",
      "fare_amount              float64\n",
      "extra                    float64\n",
      "mta_tax                  float64\n",
      "tip_amount               float64\n",
      "tolls_amount             float64\n",
      "improvement_surcharge    float64\n",
      "total_amount             float64\n",
      "payment_type             int64\n",
      "trip_type                float64\n",
      "dtypes: float64(9), int64(6), object(3)\n",
      "memory usage: 322.5+ MB\n"
     ]
    }
   ],
   "source": [
    "df.drop('ehail_fee', inplace=True, axis=1)\n",
    "df.info()"
   ]
  },
  {
   "cell_type": "markdown",
   "metadata": {},
   "source": [
    "Let's have a quick look on the `store_and_fwd_flag` column"
   ]
  },
  {
   "cell_type": "code",
   "execution_count": 5,
   "metadata": {},
   "outputs": [
    {
     "data": {
      "text/plain": [
       "(array(['N', 'Y'], dtype=object), N    2344735\n",
       " Y       3399\n",
       " Name: store_and_fwd_flag, dtype: int64)"
      ]
     },
     "execution_count": 5,
     "metadata": {},
     "output_type": "execute_result"
    }
   ],
   "source": [
    "df.store_and_fwd_flag.unique(), df.store_and_fwd_flag.value_counts()"
   ]
  },
  {
   "cell_type": "markdown",
   "metadata": {},
   "source": [
    "`store_and_fwd_flag` is either the customer was dispatched or a flag.<br>\n",
    "Let's convert this to `1/0 ==> N = 1, Y = 0` with new column name `dispatch`. **Notice that dispatch is common type of trip**<br>\n",
    "Another thing we can see, which day the flag is more than dispatch, probability if higher for the flag is on weekends nights!<br>\n",
    "Let's write a custom function to convert the categorical col to 1/0"
   ]
  },
  {
   "cell_type": "code",
   "execution_count": 6,
   "metadata": {
    "collapsed": true
   },
   "outputs": [],
   "source": [
    "def cat_to_num(x):\n",
    "    if x.lower() == 'n':\n",
    "        return 1\n",
    "    if x.lower() == 'y':\n",
    "        return 0"
   ]
  },
  {
   "cell_type": "code",
   "execution_count": 7,
   "metadata": {},
   "outputs": [],
   "source": [
    "df['dispatch'] = df['store_and_fwd_flag'].apply(cat_to_num)"
   ]
  },
  {
   "cell_type": "code",
   "execution_count": 8,
   "metadata": {},
   "outputs": [
    {
     "data": {
      "text/plain": [
       "1    2344735\n",
       "0       3399\n",
       "Name: dispatch, dtype: int64"
      ]
     },
     "execution_count": 8,
     "metadata": {},
     "output_type": "execute_result"
    }
   ],
   "source": [
    "df.dispatch.value_counts()"
   ]
  },
  {
   "cell_type": "markdown",
   "metadata": {},
   "source": [
    "We can drop `store_and_fwd_flag`, we don't need it anymore after `dispatch` column."
   ]
  },
  {
   "cell_type": "code",
   "execution_count": 9,
   "metadata": {
    "collapsed": true
   },
   "outputs": [],
   "source": [
    "df.drop('store_and_fwd_flag', inplace=True, axis=1)"
   ]
  },
  {
   "cell_type": "markdown",
   "metadata": {},
   "source": [
    "I don't know what is VendorID! **However**, we can consider two dispatch companies, this could be another feature and suggest the preferred company to call for a cab. "
   ]
  },
  {
   "cell_type": "code",
   "execution_count": 10,
   "metadata": {},
   "outputs": [
    {
     "data": {
      "text/plain": [
       "2    1888895\n",
       "1     459239\n",
       "Name: VendorID, dtype: int64"
      ]
     },
     "execution_count": 10,
     "metadata": {},
     "output_type": "execute_result"
    }
   ],
   "source": [
    "df.VendorID.value_counts()"
   ]
  },
  {
   "cell_type": "code",
   "execution_count": 11,
   "metadata": {},
   "outputs": [
    {
     "data": {
      "text/html": [
       "<div>\n",
       "<style>\n",
       "    .dataframe thead tr:only-child th {\n",
       "        text-align: right;\n",
       "    }\n",
       "\n",
       "    .dataframe thead th {\n",
       "        text-align: left;\n",
       "    }\n",
       "\n",
       "    .dataframe tbody tr th {\n",
       "        vertical-align: top;\n",
       "    }\n",
       "</style>\n",
       "<table border=\"1\" class=\"dataframe\">\n",
       "  <thead>\n",
       "    <tr style=\"text-align: right;\">\n",
       "      <th></th>\n",
       "      <th>VendorID</th>\n",
       "      <th>lpep_pickup_datetime</th>\n",
       "      <th>lpep_dropoff_datetime</th>\n",
       "      <th>RatecodeID</th>\n",
       "      <th>PULocationID</th>\n",
       "      <th>DOLocationID</th>\n",
       "      <th>passenger_count</th>\n",
       "      <th>trip_distance</th>\n",
       "      <th>fare_amount</th>\n",
       "      <th>extra</th>\n",
       "      <th>mta_tax</th>\n",
       "      <th>tip_amount</th>\n",
       "      <th>tolls_amount</th>\n",
       "      <th>improvement_surcharge</th>\n",
       "      <th>total_amount</th>\n",
       "      <th>payment_type</th>\n",
       "      <th>trip_type</th>\n",
       "      <th>dispatch</th>\n",
       "    </tr>\n",
       "  </thead>\n",
       "  <tbody>\n",
       "    <tr>\n",
       "      <th>0</th>\n",
       "      <td>2</td>\n",
       "      <td>2017-01-06 11:07:56</td>\n",
       "      <td>2017-01-06 11:13:00</td>\n",
       "      <td>1</td>\n",
       "      <td>75</td>\n",
       "      <td>41</td>\n",
       "      <td>2</td>\n",
       "      <td>1.36</td>\n",
       "      <td>6.5</td>\n",
       "      <td>0.0</td>\n",
       "      <td>0.5</td>\n",
       "      <td>0.00</td>\n",
       "      <td>0.0</td>\n",
       "      <td>0.3</td>\n",
       "      <td>7.30</td>\n",
       "      <td>2</td>\n",
       "      <td>1.0</td>\n",
       "      <td>1</td>\n",
       "    </tr>\n",
       "    <tr>\n",
       "      <th>1</th>\n",
       "      <td>1</td>\n",
       "      <td>2017-05-18 04:00:07</td>\n",
       "      <td>2017-05-18 04:02:34</td>\n",
       "      <td>1</td>\n",
       "      <td>95</td>\n",
       "      <td>95</td>\n",
       "      <td>1</td>\n",
       "      <td>0.70</td>\n",
       "      <td>4.0</td>\n",
       "      <td>0.5</td>\n",
       "      <td>0.5</td>\n",
       "      <td>1.30</td>\n",
       "      <td>0.0</td>\n",
       "      <td>0.3</td>\n",
       "      <td>6.60</td>\n",
       "      <td>1</td>\n",
       "      <td>1.0</td>\n",
       "      <td>1</td>\n",
       "    </tr>\n",
       "    <tr>\n",
       "      <th>2</th>\n",
       "      <td>2</td>\n",
       "      <td>2017-02-21 22:59:17</td>\n",
       "      <td>2017-02-21 23:03:47</td>\n",
       "      <td>1</td>\n",
       "      <td>196</td>\n",
       "      <td>56</td>\n",
       "      <td>5</td>\n",
       "      <td>0.87</td>\n",
       "      <td>5.5</td>\n",
       "      <td>0.5</td>\n",
       "      <td>0.5</td>\n",
       "      <td>0.00</td>\n",
       "      <td>0.0</td>\n",
       "      <td>0.3</td>\n",
       "      <td>6.80</td>\n",
       "      <td>2</td>\n",
       "      <td>1.0</td>\n",
       "      <td>1</td>\n",
       "    </tr>\n",
       "    <tr>\n",
       "      <th>3</th>\n",
       "      <td>2</td>\n",
       "      <td>2017-12-22 19:05:09</td>\n",
       "      <td>2017-12-22 19:32:57</td>\n",
       "      <td>1</td>\n",
       "      <td>65</td>\n",
       "      <td>225</td>\n",
       "      <td>2</td>\n",
       "      <td>4.65</td>\n",
       "      <td>20.5</td>\n",
       "      <td>1.0</td>\n",
       "      <td>0.5</td>\n",
       "      <td>4.46</td>\n",
       "      <td>0.0</td>\n",
       "      <td>0.3</td>\n",
       "      <td>26.76</td>\n",
       "      <td>1</td>\n",
       "      <td>1.0</td>\n",
       "      <td>1</td>\n",
       "    </tr>\n",
       "    <tr>\n",
       "      <th>4</th>\n",
       "      <td>2</td>\n",
       "      <td>2017-11-12 06:21:34</td>\n",
       "      <td>2017-11-12 06:29:59</td>\n",
       "      <td>1</td>\n",
       "      <td>82</td>\n",
       "      <td>95</td>\n",
       "      <td>5</td>\n",
       "      <td>2.17</td>\n",
       "      <td>9.0</td>\n",
       "      <td>0.0</td>\n",
       "      <td>0.5</td>\n",
       "      <td>0.00</td>\n",
       "      <td>0.0</td>\n",
       "      <td>0.3</td>\n",
       "      <td>9.80</td>\n",
       "      <td>2</td>\n",
       "      <td>1.0</td>\n",
       "      <td>1</td>\n",
       "    </tr>\n",
       "  </tbody>\n",
       "</table>\n",
       "</div>"
      ],
      "text/plain": [
       "   VendorID lpep_pickup_datetime lpep_dropoff_datetime  RatecodeID  \\\n",
       "0         2  2017-01-06 11:07:56   2017-01-06 11:13:00           1   \n",
       "1         1  2017-05-18 04:00:07   2017-05-18 04:02:34           1   \n",
       "2         2  2017-02-21 22:59:17   2017-02-21 23:03:47           1   \n",
       "3         2  2017-12-22 19:05:09   2017-12-22 19:32:57           1   \n",
       "4         2  2017-11-12 06:21:34   2017-11-12 06:29:59           1   \n",
       "\n",
       "   PULocationID  DOLocationID  passenger_count  trip_distance  fare_amount  \\\n",
       "0            75            41                2           1.36          6.5   \n",
       "1            95            95                1           0.70          4.0   \n",
       "2           196            56                5           0.87          5.5   \n",
       "3            65           225                2           4.65         20.5   \n",
       "4            82            95                5           2.17          9.0   \n",
       "\n",
       "   extra  mta_tax  tip_amount  tolls_amount  improvement_surcharge  \\\n",
       "0    0.0      0.5        0.00           0.0                    0.3   \n",
       "1    0.5      0.5        1.30           0.0                    0.3   \n",
       "2    0.5      0.5        0.00           0.0                    0.3   \n",
       "3    1.0      0.5        4.46           0.0                    0.3   \n",
       "4    0.0      0.5        0.00           0.0                    0.3   \n",
       "\n",
       "   total_amount  payment_type  trip_type  dispatch  \n",
       "0          7.30             2        1.0         1  \n",
       "1          6.60             1        1.0         1  \n",
       "2          6.80             2        1.0         1  \n",
       "3         26.76             1        1.0         1  \n",
       "4          9.80             2        1.0         1  "
      ]
     },
     "execution_count": 11,
     "metadata": {},
     "output_type": "execute_result"
    }
   ],
   "source": [
    "df.head()"
   ]
  },
  {
   "cell_type": "markdown",
   "metadata": {},
   "source": [
    "**Dealing with `lpep_pickup_datetime & lpep_dropoff_datetime`** Columns<br>\n",
    "* Separate dates and time from both columns.\n",
    "* Some trips started in one date and end on the next date, we can avoid them to keep the things simple\n",
    "* drop the original columns \n",
    "\n",
    "new columns will be <br>\n",
    "* PUD -- PickUp Date\n",
    "* PUT -- PickUp Time\n",
    "* DOD -- DropOff Date\n",
    "* DOT -- DropOff Time"
   ]
  },
  {
   "cell_type": "code",
   "execution_count": 12,
   "metadata": {
    "collapsed": true
   },
   "outputs": [],
   "source": [
    "df['PUD'] = pd.to_datetime(df['lpep_pickup_datetime']).dt.date\n",
    "df['PUT'] = pd.to_datetime(df['lpep_pickup_datetime']).dt.time\n",
    "df['DOD'] = pd.to_datetime(df['lpep_dropoff_datetime']).dt.date\n",
    "df['DOT'] = pd.to_datetime(df['lpep_dropoff_datetime']).dt.time\n",
    "df.drop(['lpep_pickup_datetime','lpep_dropoff_datetime'], axis = 1, inplace =True)"
   ]
  },
  {
   "cell_type": "code",
   "execution_count": 13,
   "metadata": {
    "collapsed": true
   },
   "outputs": [],
   "source": [
    "df = df[df['DOD'] == df['PUD']]"
   ]
  },
  {
   "cell_type": "markdown",
   "metadata": {},
   "source": [
    "I think, now we don't need two dates now, we can create rename either (DOD or PUD) to data and delete the other!"
   ]
  },
  {
   "cell_type": "code",
   "execution_count": 14,
   "metadata": {
    "collapsed": true
   },
   "outputs": [],
   "source": [
    "df['date']=df['DOD']\n",
    "df.drop(['DOD','PUD'], inplace = True, axis = 1)"
   ]
  },
  {
   "cell_type": "code",
   "execution_count": 15,
   "metadata": {
    "scrolled": false
   },
   "outputs": [
    {
     "name": "stdout",
     "output_type": "stream",
     "text": [
      "<class 'pandas.core.frame.DataFrame'>\n",
      "Int64Index: 2314057 entries, 0 to 2348133\n",
      "Data columns (total 19 columns):\n",
      "VendorID                 int64\n",
      "RatecodeID               int64\n",
      "PULocationID             int64\n",
      "DOLocationID             int64\n",
      "passenger_count          int64\n",
      "trip_distance            float64\n",
      "fare_amount              float64\n",
      "extra                    float64\n",
      "mta_tax                  float64\n",
      "tip_amount               float64\n",
      "tolls_amount             float64\n",
      "improvement_surcharge    float64\n",
      "total_amount             float64\n",
      "payment_type             int64\n",
      "trip_type                float64\n",
      "dispatch                 int64\n",
      "PUT                      object\n",
      "DOT                      object\n",
      "date                     object\n",
      "dtypes: float64(9), int64(7), object(3)\n",
      "memory usage: 353.1+ MB\n"
     ]
    }
   ],
   "source": [
    "df.info()"
   ]
  },
  {
   "cell_type": "markdown",
   "metadata": {},
   "source": [
    "**Comment please**<br>\n",
    "We can create a column for a common hour  for pick-ups and drop-offs in some way (e.g. rounding the ride to the previous hour for some mins in the next hours say 15 mins). This way, we can make the data simple and count no of rides in each hour. A bar plot can tell us the busy hours that will schedule available resources (in this case no of cabs) on the respective time (we can add zone here as well). "
   ]
  },
  {
   "cell_type": "code",
   "execution_count": 16,
   "metadata": {},
   "outputs": [
    {
     "data": {
      "text/plain": [
       "1     2264394\n",
       "5       41826\n",
       "2        5021\n",
       "4        1423\n",
       "3        1351\n",
       "6          35\n",
       "99          7\n",
       "Name: RatecodeID, dtype: int64"
      ]
     },
     "execution_count": 16,
     "metadata": {},
     "output_type": "execute_result"
    }
   ],
   "source": [
    "df.RatecodeID.value_counts()"
   ]
  },
  {
   "cell_type": "markdown",
   "metadata": {},
   "source": [
    "**Comments please**<br>\n",
    "Once again, there are 7 rate codes, it is clear that the regular code '1' is maximum rides. It is great if we can find this information from the website. We can use these codes as is for ML part but for EDA, its good to suggest which code is for what type of customer. If we could not find any info, we can self suggest the codes, no problem!"
   ]
  },
  {
   "cell_type": "code",
   "execution_count": 17,
   "metadata": {},
   "outputs": [
    {
     "data": {
      "text/plain": [
       "<matplotlib.text.Text at 0x1a45f284e0>"
      ]
     },
     "execution_count": 17,
     "metadata": {},
     "output_type": "execute_result"
    },
    {
     "data": {
      "image/png": "[encoded data removed]",
      "text/plain": [
       "<matplotlib.figure.Figure at 0x1a1ace9f60>"
      ]
     },
     "metadata": {},
     "output_type": "display_data"
    }
   ],
   "source": [
    "fig, ax = plt.subplots(figsize = (18,4))\n",
    "sns.barplot(df.PULocationID.value_counts().index, df.PULocationID.value_counts().values, ax = ax)\n",
    "ax.set_ylim(0,60000);\n",
    "ax.set_ylabel('No. of rides')\n",
    "ax.set_xlabel('Zone')\n",
    "ax.set_title('Pick Ups')"
   ]
  },
  {
   "cell_type": "code",
   "execution_count": 18,
   "metadata": {},
   "outputs": [
    {
     "data": {
      "text/plain": [
       "<matplotlib.text.Text at 0x1a1d27f630>"
      ]
     },
     "execution_count": 18,
     "metadata": {},
     "output_type": "execute_result"
    },
    {
     "data": {
      "image/png": "[encoded data removed]",
      "text/plain": [
       "<matplotlib.figure.Figure at 0x1a1ace90f0>"
      ]
     },
     "metadata": {},
     "output_type": "display_data"
    }
   ],
   "source": [
    "fig, ax = plt.subplots(figsize = (18,4))\n",
    "sns.barplot(df.DOLocationID.value_counts().index, df.DOLocationID.value_counts().values, ax = ax)\n",
    "ax.set_ylim(0,60000);\n",
    "ax.set_ylabel('No. of rides')\n",
    "ax.set_xlabel('Zone')\n",
    "ax.set_title('Drop Ups')"
   ]
  },
  {
   "cell_type": "markdown",
   "metadata": {},
   "source": [
    "The plots above may not look very good at the moment, however, they are suggesting the regions for the most calls. If we plot them w.r.t the time, we can see the flow of customer and get an idea of the commercial and residential zones. Remember, people living close to their offices have low probability to take cab.<br>\n",
    "We may need to think about some kind of aggregation for these plots so that they look good. We can use custom pellet with selected colors to convey message.<br>\n",
    "Another idea is to re-zone the city, which might not be a realistic thing because you never know how the zones are divided. Sometime, adjacent zones could have very different numbers, however this is not common in cab industry. <br>\n",
    "We might be able to get a correlation for selected features in a heatmap....we can think about it."
   ]
  },
  {
   "cell_type": "code",
   "execution_count": 19,
   "metadata": {
    "collapsed": true
   },
   "outputs": [],
   "source": [
    "df.to_csv('green_clean_2017_1.csv', index=False)"
   ]
  },
  {
   "cell_type": "code",
   "execution_count": 20,
   "metadata": {},
   "outputs": [
    {
     "name": "stdout",
     "output_type": "stream",
     "text": [
      "<class 'pandas.core.frame.DataFrame'>\n",
      "Int64Index: 2314057 entries, 0 to 2348133\n",
      "Data columns (total 19 columns):\n",
      "VendorID                 int64\n",
      "RatecodeID               int64\n",
      "PULocationID             int64\n",
      "DOLocationID             int64\n",
      "passenger_count          int64\n",
      "trip_distance            float64\n",
      "fare_amount              float64\n",
      "extra                    float64\n",
      "mta_tax                  float64\n",
      "tip_amount               float64\n",
      "tolls_amount             float64\n",
      "improvement_surcharge    float64\n",
      "total_amount             float64\n",
      "payment_type             int64\n",
      "trip_type                float64\n",
      "dispatch                 int64\n",
      "PUT                      object\n",
      "DOT                      object\n",
      "date                     object\n",
      "dtypes: float64(9), int64(7), object(3)\n",
      "memory usage: 353.1+ MB\n"
     ]
    }
   ],
   "source": [
    "df.info()"
   ]
  },
  {
   "cell_type": "code",
   "execution_count": 21,
   "metadata": {},
   "outputs": [
    {
     "data": {
      "text/html": [
       "<div>\n",
       "<style>\n",
       "    .dataframe thead tr:only-child th {\n",
       "        text-align: right;\n",
       "    }\n",
       "\n",
       "    .dataframe thead th {\n",
       "        text-align: left;\n",
       "    }\n",
       "\n",
       "    .dataframe tbody tr th {\n",
       "        vertical-align: top;\n",
       "    }\n",
       "</style>\n",
       "<table border=\"1\" class=\"dataframe\">\n",
       "  <thead>\n",
       "    <tr style=\"text-align: right;\">\n",
       "      <th></th>\n",
       "      <th>VendorID</th>\n",
       "      <th>RatecodeID</th>\n",
       "      <th>PULocationID</th>\n",
       "      <th>DOLocationID</th>\n",
       "      <th>passenger_count</th>\n",
       "      <th>trip_distance</th>\n",
       "      <th>fare_amount</th>\n",
       "      <th>extra</th>\n",
       "      <th>mta_tax</th>\n",
       "      <th>tip_amount</th>\n",
       "      <th>tolls_amount</th>\n",
       "      <th>improvement_surcharge</th>\n",
       "      <th>total_amount</th>\n",
       "      <th>payment_type</th>\n",
       "      <th>trip_type</th>\n",
       "      <th>dispatch</th>\n",
       "      <th>PUT</th>\n",
       "      <th>DOT</th>\n",
       "      <th>date</th>\n",
       "    </tr>\n",
       "  </thead>\n",
       "  <tbody>\n",
       "    <tr>\n",
       "      <th>0</th>\n",
       "      <td>2</td>\n",
       "      <td>1</td>\n",
       "      <td>75</td>\n",
       "      <td>41</td>\n",
       "      <td>2</td>\n",
       "      <td>1.36</td>\n",
       "      <td>6.5</td>\n",
       "      <td>0.0</td>\n",
       "      <td>0.5</td>\n",
       "      <td>0.00</td>\n",
       "      <td>0.0</td>\n",
       "      <td>0.3</td>\n",
       "      <td>7.30</td>\n",
       "      <td>2</td>\n",
       "      <td>1.0</td>\n",
       "      <td>1</td>\n",
       "      <td>11:07:56</td>\n",
       "      <td>11:13:00</td>\n",
       "      <td>2017-01-06</td>\n",
       "    </tr>\n",
       "    <tr>\n",
       "      <th>1</th>\n",
       "      <td>1</td>\n",
       "      <td>1</td>\n",
       "      <td>95</td>\n",
       "      <td>95</td>\n",
       "      <td>1</td>\n",
       "      <td>0.70</td>\n",
       "      <td>4.0</td>\n",
       "      <td>0.5</td>\n",
       "      <td>0.5</td>\n",
       "      <td>1.30</td>\n",
       "      <td>0.0</td>\n",
       "      <td>0.3</td>\n",
       "      <td>6.60</td>\n",
       "      <td>1</td>\n",
       "      <td>1.0</td>\n",
       "      <td>1</td>\n",
       "      <td>04:00:07</td>\n",
       "      <td>04:02:34</td>\n",
       "      <td>2017-05-18</td>\n",
       "    </tr>\n",
       "    <tr>\n",
       "      <th>2</th>\n",
       "      <td>2</td>\n",
       "      <td>1</td>\n",
       "      <td>196</td>\n",
       "      <td>56</td>\n",
       "      <td>5</td>\n",
       "      <td>0.87</td>\n",
       "      <td>5.5</td>\n",
       "      <td>0.5</td>\n",
       "      <td>0.5</td>\n",
       "      <td>0.00</td>\n",
       "      <td>0.0</td>\n",
       "      <td>0.3</td>\n",
       "      <td>6.80</td>\n",
       "      <td>2</td>\n",
       "      <td>1.0</td>\n",
       "      <td>1</td>\n",
       "      <td>22:59:17</td>\n",
       "      <td>23:03:47</td>\n",
       "      <td>2017-02-21</td>\n",
       "    </tr>\n",
       "    <tr>\n",
       "      <th>3</th>\n",
       "      <td>2</td>\n",
       "      <td>1</td>\n",
       "      <td>65</td>\n",
       "      <td>225</td>\n",
       "      <td>2</td>\n",
       "      <td>4.65</td>\n",
       "      <td>20.5</td>\n",
       "      <td>1.0</td>\n",
       "      <td>0.5</td>\n",
       "      <td>4.46</td>\n",
       "      <td>0.0</td>\n",
       "      <td>0.3</td>\n",
       "      <td>26.76</td>\n",
       "      <td>1</td>\n",
       "      <td>1.0</td>\n",
       "      <td>1</td>\n",
       "      <td>19:05:09</td>\n",
       "      <td>19:32:57</td>\n",
       "      <td>2017-12-22</td>\n",
       "    </tr>\n",
       "    <tr>\n",
       "      <th>4</th>\n",
       "      <td>2</td>\n",
       "      <td>1</td>\n",
       "      <td>82</td>\n",
       "      <td>95</td>\n",
       "      <td>5</td>\n",
       "      <td>2.17</td>\n",
       "      <td>9.0</td>\n",
       "      <td>0.0</td>\n",
       "      <td>0.5</td>\n",
       "      <td>0.00</td>\n",
       "      <td>0.0</td>\n",
       "      <td>0.3</td>\n",
       "      <td>9.80</td>\n",
       "      <td>2</td>\n",
       "      <td>1.0</td>\n",
       "      <td>1</td>\n",
       "      <td>06:21:34</td>\n",
       "      <td>06:29:59</td>\n",
       "      <td>2017-11-12</td>\n",
       "    </tr>\n",
       "  </tbody>\n",
       "</table>\n",
       "</div>"
      ],
      "text/plain": [
       "   VendorID  RatecodeID  PULocationID  DOLocationID  passenger_count  \\\n",
       "0         2           1            75            41                2   \n",
       "1         1           1            95            95                1   \n",
       "2         2           1           196            56                5   \n",
       "3         2           1            65           225                2   \n",
       "4         2           1            82            95                5   \n",
       "\n",
       "   trip_distance  fare_amount  extra  mta_tax  tip_amount  tolls_amount  \\\n",
       "0           1.36          6.5    0.0      0.5        0.00           0.0   \n",
       "1           0.70          4.0    0.5      0.5        1.30           0.0   \n",
       "2           0.87          5.5    0.5      0.5        0.00           0.0   \n",
       "3           4.65         20.5    1.0      0.5        4.46           0.0   \n",
       "4           2.17          9.0    0.0      0.5        0.00           0.0   \n",
       "\n",
       "   improvement_surcharge  total_amount  payment_type  trip_type  dispatch  \\\n",
       "0                    0.3          7.30             2        1.0         1   \n",
       "1                    0.3          6.60             1        1.0         1   \n",
       "2                    0.3          6.80             2        1.0         1   \n",
       "3                    0.3         26.76             1        1.0         1   \n",
       "4                    0.3          9.80             2        1.0         1   \n",
       "\n",
       "        PUT       DOT        date  \n",
       "0  11:07:56  11:13:00  2017-01-06  \n",
       "1  04:00:07  04:02:34  2017-05-18  \n",
       "2  22:59:17  23:03:47  2017-02-21  \n",
       "3  19:05:09  19:32:57  2017-12-22  \n",
       "4  06:21:34  06:29:59  2017-11-12  "
      ]
     },
     "execution_count": 21,
     "metadata": {},
     "output_type": "execute_result"
    }
   ],
   "source": [
    "df.head()"
   ]
  },
  {
   "cell_type": "code",
   "execution_count": null,
   "metadata": {},
   "outputs": [],
   "source": []
  }
 ],
 "metadata": {
  "kernelspec": {
   "display_name": "Python 3",
   "language": "python",
   "name": "python3"
  },
  "language_info": {
   "codemirror_mode": {
    "name": "ipython",
    "version": 3
   },
   "file_extension": ".py",
   "mimetype": "text/x-python",
   "name": "python",
   "nbconvert_exporter": "python",
   "pygments_lexer": "ipython3",
   "version": "3.6.1"
  }
 },
 "nbformat": 4,
 "nbformat_minor": 2
}
