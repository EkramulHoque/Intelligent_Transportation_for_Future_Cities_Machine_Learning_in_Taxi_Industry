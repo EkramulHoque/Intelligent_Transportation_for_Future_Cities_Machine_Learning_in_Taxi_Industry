{
 "cells": [
  {
   "cell_type": "markdown",
   "metadata": {},
   "source": [
    "**Importing some important libraries**"
   ]
  },
  {
   "cell_type": "code",
   "execution_count": 3,
   "metadata": {
    "collapsed": true
   },
   "outputs": [],
   "source": [
    "import numpy as np\n",
    "import pandas as pd\n",
    "import matplotlib.pyplot as plt\n",
    "import seaborn as sns\n",
    "%matplotlib inline"
   ]
  },
  {
   "cell_type": "code",
   "execution_count": 18,
   "metadata": {
    "collapsed": true
   },
   "outputs": [],
   "source": [
    "import glob\n",
    "path =r'/Users/junaidqazi-13/Desktop/_SFU_MS_BigData/Sem_1/ML_726_SFU/ML_726_Project/DataGreen2017' # use your path\n",
    "allFiles = glob.glob(path + \"/*.csv\")"
   ]
  },
  {
   "cell_type": "code",
   "execution_count": 19,
   "metadata": {},
   "outputs": [
    {
     "data": {
      "text/plain": [
       "['/Users/junaidqazi-13/Desktop/_SFU_MS_BigData/Sem_1/ML_726_SFU/ML_726_Project/DataGreen2017/green_tripdata_2017-08.csv',\n",
       " '/Users/junaidqazi-13/Desktop/_SFU_MS_BigData/Sem_1/ML_726_SFU/ML_726_Project/DataGreen2017/green_tripdata_2017-09.csv',\n",
       " '/Users/junaidqazi-13/Desktop/_SFU_MS_BigData/Sem_1/ML_726_SFU/ML_726_Project/DataGreen2017/green_tripdata_2017-01.csv',\n",
       " '/Users/junaidqazi-13/Desktop/_SFU_MS_BigData/Sem_1/ML_726_SFU/ML_726_Project/DataGreen2017/green_tripdata_2017-02.csv',\n",
       " '/Users/junaidqazi-13/Desktop/_SFU_MS_BigData/Sem_1/ML_726_SFU/ML_726_Project/DataGreen2017/green_tripdata_2017-03.csv',\n",
       " '/Users/junaidqazi-13/Desktop/_SFU_MS_BigData/Sem_1/ML_726_SFU/ML_726_Project/DataGreen2017/green_tripdata_2017-07.csv',\n",
       " '/Users/junaidqazi-13/Desktop/_SFU_MS_BigData/Sem_1/ML_726_SFU/ML_726_Project/DataGreen2017/green_tripdata_2017-06.csv',\n",
       " '/Users/junaidqazi-13/Desktop/_SFU_MS_BigData/Sem_1/ML_726_SFU/ML_726_Project/DataGreen2017/green_tripdata_2017-12.csv',\n",
       " '/Users/junaidqazi-13/Desktop/_SFU_MS_BigData/Sem_1/ML_726_SFU/ML_726_Project/DataGreen2017/green_tripdata_2017-04.csv',\n",
       " '/Users/junaidqazi-13/Desktop/_SFU_MS_BigData/Sem_1/ML_726_SFU/ML_726_Project/DataGreen2017/green_tripdata_2017-10.csv',\n",
       " '/Users/junaidqazi-13/Desktop/_SFU_MS_BigData/Sem_1/ML_726_SFU/ML_726_Project/DataGreen2017/green_tripdata_2017-11.csv',\n",
       " '/Users/junaidqazi-13/Desktop/_SFU_MS_BigData/Sem_1/ML_726_SFU/ML_726_Project/DataGreen2017/green_tripdata_2017-05.csv']"
      ]
     },
     "execution_count": 19,
     "metadata": {},
     "output_type": "execute_result"
    }
   ],
   "source": [
    "allFiles"
   ]
  },
  {
   "cell_type": "code",
   "execution_count": 14,
   "metadata": {},
   "outputs": [],
   "source": [
    "df_from_each_file = (pd.read_csv(f) for f in allFiles)\n",
    "concatenated_df   = pd.concat(df_from_each_file, ignore_index=True)"
   ]
  },
  {
   "cell_type": "code",
   "execution_count": 15,
   "metadata": {},
   "outputs": [
    {
     "name": "stdout",
     "output_type": "stream",
     "text": [
      "<class 'pandas.core.frame.DataFrame'>\n",
      "RangeIndex: 11740667 entries, 0 to 11740666\n",
      "Data columns (total 19 columns):\n",
      "VendorID                 int64\n",
      "lpep_pickup_datetime     object\n",
      "lpep_dropoff_datetime    object\n",
      "store_and_fwd_flag       object\n",
      "RatecodeID               int64\n",
      "PULocationID             int64\n",
      "DOLocationID             int64\n",
      "passenger_count          int64\n",
      "trip_distance            float64\n",
      "fare_amount              float64\n",
      "extra                    float64\n",
      "mta_tax                  float64\n",
      "tip_amount               float64\n",
      "tolls_amount             float64\n",
      "ehail_fee                float64\n",
      "improvement_surcharge    float64\n",
      "total_amount             float64\n",
      "payment_type             int64\n",
      "trip_type                float64\n",
      "dtypes: float64(10), int64(6), object(3)\n",
      "memory usage: 1.7+ GB\n"
     ]
    }
   ],
   "source": [
    "concatenated_df.info()"
   ]
  },
  {
   "cell_type": "code",
   "execution_count": 17,
   "metadata": {},
   "outputs": [],
   "source": [
    "#concatenated_df.to_csv('green_jan_2017.csv', index=False)"
   ]
  },
  {
   "cell_type": "code",
   "execution_count": 22,
   "metadata": {},
   "outputs": [],
   "source": [
    "from sklearn.model_selection import train_test_split"
   ]
  },
  {
   "cell_type": "code",
   "execution_count": 25,
   "metadata": {},
   "outputs": [],
   "source": [
    "train, test  = train_test_split(\n",
    "    concatenated_df, test_size=0.20)#, random_state=42)"
   ]
  },
  {
   "cell_type": "code",
   "execution_count": 26,
   "metadata": {},
   "outputs": [
    {
     "name": "stdout",
     "output_type": "stream",
     "text": [
      "<class 'pandas.core.frame.DataFrame'>\n",
      "Int64Index: 2348134 entries, 1922559 to 8330219\n",
      "Data columns (total 19 columns):\n",
      "VendorID                 int64\n",
      "lpep_pickup_datetime     object\n",
      "lpep_dropoff_datetime    object\n",
      "store_and_fwd_flag       object\n",
      "RatecodeID               int64\n",
      "PULocationID             int64\n",
      "DOLocationID             int64\n",
      "passenger_count          int64\n",
      "trip_distance            float64\n",
      "fare_amount              float64\n",
      "extra                    float64\n",
      "mta_tax                  float64\n",
      "tip_amount               float64\n",
      "tolls_amount             float64\n",
      "ehail_fee                float64\n",
      "improvement_surcharge    float64\n",
      "total_amount             float64\n",
      "payment_type             int64\n",
      "trip_type                float64\n",
      "dtypes: float64(10), int64(6), object(3)\n",
      "memory usage: 358.3+ MB\n"
     ]
    }
   ],
   "source": [
    "test.info()"
   ]
  },
  {
   "cell_type": "code",
   "execution_count": 29,
   "metadata": {},
   "outputs": [],
   "source": [
    "test.to_csv('green_2017_20%.csv', index=False)"
   ]
  },
  {
   "cell_type": "code",
   "execution_count": null,
   "metadata": {},
   "outputs": [],
   "source": []
  }
 ],
 "metadata": {
  "kernelspec": {
   "display_name": "Python 3",
   "language": "python",
   "name": "python3"
  },
  "language_info": {
   "codemirror_mode": {
    "name": "ipython",
    "version": 3
   },
   "file_extension": ".py",
   "mimetype": "text/x-python",
   "name": "python",
   "nbconvert_exporter": "python",
   "pygments_lexer": "ipython3",
   "version": "3.6.1"
  }
 },
 "nbformat": 4,
 "nbformat_minor": 2
}
