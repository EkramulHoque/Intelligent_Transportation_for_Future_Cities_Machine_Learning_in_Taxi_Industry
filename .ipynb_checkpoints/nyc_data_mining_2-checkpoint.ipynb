{
 "cells": [
  {
   "cell_type": "code",
   "execution_count": 146,
   "metadata": {
    "collapsed": true,
    "scrolled": true
   },
   "outputs": [],
   "source": [
    "import numpy as np\n",
    "import pandas as pd\n",
    "import matplotlib.pyplot as plt\n",
    "import seaborn as sns\n",
    "import datetime\n",
    "import math\n",
    "#import chartify\n",
    "from sklearn.utils import shuffle\n",
    "#import graphlab\n",
    "import warnings\n",
    "warnings.filterwarnings('ignore')#, category=DeprecationWarning) \n",
    "import matplotlib.pyplot as plt\n",
    "import seaborn as sns\n",
    "from sklearn.model_selection import train_test_split\n",
    "%matplotlib inline"
   ]
  },
  {
   "cell_type": "markdown",
   "metadata": {},
   "source": [
    "**Setting path for data files**"
   ]
  },
  {
   "cell_type": "code",
   "execution_count": 147,
   "metadata": {
    "scrolled": false
   },
   "outputs": [
    {
     "data": {
      "text/plain": [
       "'/Users/junaidqazi-13/Desktop/_SFU_MS_BigData/Sem_1/ML_726_SFU/Data_ML_Proj/nyc_weather_2017.csv'"
      ]
     },
     "execution_count": 147,
     "metadata": {},
     "output_type": "execute_result"
    }
   ],
   "source": [
    "path1 = '/Users/junaidqazi-13/Desktop/_SFU_MS_BigData/Sem_1/ML_726_SFU/Data_ML_Proj'\n",
    "path = path1+'/green_clean_2017_1.csv'\n",
    "path_weather = path1+'/nyc_weather_2017.csv'\n",
    "path_weather"
   ]
  },
  {
   "cell_type": "code",
   "execution_count": null,
   "metadata": {
    "collapsed": true
   },
   "outputs": [],
   "source": []
  },
  {
   "cell_type": "markdown",
   "metadata": {},
   "source": [
    "## Exploring weather data"
   ]
  },
  {
   "cell_type": "code",
   "execution_count": 148,
   "metadata": {
    "collapsed": true
   },
   "outputs": [],
   "source": [
    "dfw = pd.read_csv(path_weather)"
   ]
  },
  {
   "cell_type": "code",
   "execution_count": 149,
   "metadata": {
    "scrolled": false
   },
   "outputs": [
    {
     "name": "stdout",
     "output_type": "stream",
     "text": [
      "<class 'pandas.core.frame.DataFrame'>\n",
      "RangeIndex: 365 entries, 0 to 364\n",
      "Data columns (total 21 columns):\n",
      "STATION            365 non-null object\n",
      "NAME               365 non-null object\n",
      "DATE               365 non-null object\n",
      "TAVG               0 non-null float64\n",
      "TAVG_ATTRIBUTES    0 non-null float64\n",
      "TMAX               365 non-null int64\n",
      "TMAX_ATTRIBUTES    365 non-null object\n",
      "TMIN               365 non-null int64\n",
      "TMIN_ATTRIBUTES    365 non-null object\n",
      "WT01               146 non-null float64\n",
      "WT01_ATTRIBUTES    146 non-null object\n",
      "WT02               13 non-null float64\n",
      "WT02_ATTRIBUTES    13 non-null object\n",
      "WT03               0 non-null float64\n",
      "WT03_ATTRIBUTES    0 non-null float64\n",
      "WT04               1 non-null float64\n",
      "WT04_ATTRIBUTES    1 non-null object\n",
      "WT06               1 non-null float64\n",
      "WT06_ATTRIBUTES    1 non-null object\n",
      "WT08               66 non-null float64\n",
      "WT08_ATTRIBUTES    66 non-null object\n",
      "dtypes: float64(9), int64(2), object(10)\n",
      "memory usage: 60.0+ KB\n"
     ]
    }
   ],
   "source": [
    "dfw.info()"
   ]
  },
  {
   "cell_type": "markdown",
   "metadata": {},
   "source": [
    "### getting list of all the columns"
   ]
  },
  {
   "cell_type": "code",
   "execution_count": 150,
   "metadata": {},
   "outputs": [
    {
     "data": {
      "text/plain": [
       "Index(['STATION', 'NAME', 'DATE', 'TAVG', 'TAVG_ATTRIBUTES', 'TMAX',\n",
       "       'TMAX_ATTRIBUTES', 'TMIN', 'TMIN_ATTRIBUTES', 'WT01', 'WT01_ATTRIBUTES',\n",
       "       'WT02', 'WT02_ATTRIBUTES', 'WT03', 'WT03_ATTRIBUTES', 'WT04',\n",
       "       'WT04_ATTRIBUTES', 'WT06', 'WT06_ATTRIBUTES', 'WT08',\n",
       "       'WT08_ATTRIBUTES'],\n",
       "      dtype='object')"
      ]
     },
     "execution_count": 150,
     "metadata": {},
     "output_type": "execute_result"
    }
   ],
   "source": [
    "dfw.columns"
   ]
  },
  {
   "cell_type": "markdown",
   "metadata": {},
   "source": [
    "### dropping the once with missing data"
   ]
  },
  {
   "cell_type": "code",
   "execution_count": 151,
   "metadata": {
    "collapsed": true
   },
   "outputs": [],
   "source": [
    "dfw = dfw[['STATION', 'NAME', 'DATE', 'TMAX',\n",
    "       'TMAX_ATTRIBUTES', 'TMIN', 'TMIN_ATTRIBUTES', 'WT01', 'WT01_ATTRIBUTES']]"
   ]
  },
  {
   "cell_type": "code",
   "execution_count": 152,
   "metadata": {},
   "outputs": [
    {
     "data": {
      "text/html": [
       "<div>\n",
       "<style>\n",
       "    .dataframe thead tr:only-child th {\n",
       "        text-align: right;\n",
       "    }\n",
       "\n",
       "    .dataframe thead th {\n",
       "        text-align: left;\n",
       "    }\n",
       "\n",
       "    .dataframe tbody tr th {\n",
       "        vertical-align: top;\n",
       "    }\n",
       "</style>\n",
       "<table border=\"1\" class=\"dataframe\">\n",
       "  <thead>\n",
       "    <tr style=\"text-align: right;\">\n",
       "      <th></th>\n",
       "      <th>STATION</th>\n",
       "      <th>NAME</th>\n",
       "      <th>DATE</th>\n",
       "      <th>TMAX</th>\n",
       "      <th>TMAX_ATTRIBUTES</th>\n",
       "      <th>TMIN</th>\n",
       "      <th>TMIN_ATTRIBUTES</th>\n",
       "      <th>WT01</th>\n",
       "      <th>WT01_ATTRIBUTES</th>\n",
       "    </tr>\n",
       "  </thead>\n",
       "  <tbody>\n",
       "    <tr>\n",
       "      <th>0</th>\n",
       "      <td>USW00094728</td>\n",
       "      <td>NY CITY CENTRAL PARK, NY US</td>\n",
       "      <td>2017-01-01</td>\n",
       "      <td>48</td>\n",
       "      <td>,,W</td>\n",
       "      <td>40</td>\n",
       "      <td>,,W</td>\n",
       "      <td>NaN</td>\n",
       "      <td>NaN</td>\n",
       "    </tr>\n",
       "    <tr>\n",
       "      <th>1</th>\n",
       "      <td>USW00094728</td>\n",
       "      <td>NY CITY CENTRAL PARK, NY US</td>\n",
       "      <td>2017-01-02</td>\n",
       "      <td>41</td>\n",
       "      <td>,,W</td>\n",
       "      <td>37</td>\n",
       "      <td>,,W</td>\n",
       "      <td>1.0</td>\n",
       "      <td>,,W</td>\n",
       "    </tr>\n",
       "    <tr>\n",
       "      <th>2</th>\n",
       "      <td>USW00094728</td>\n",
       "      <td>NY CITY CENTRAL PARK, NY US</td>\n",
       "      <td>2017-01-03</td>\n",
       "      <td>43</td>\n",
       "      <td>,,W</td>\n",
       "      <td>39</td>\n",
       "      <td>,,W</td>\n",
       "      <td>1.0</td>\n",
       "      <td>,,W</td>\n",
       "    </tr>\n",
       "    <tr>\n",
       "      <th>3</th>\n",
       "      <td>USW00094728</td>\n",
       "      <td>NY CITY CENTRAL PARK, NY US</td>\n",
       "      <td>2017-01-04</td>\n",
       "      <td>52</td>\n",
       "      <td>,,W</td>\n",
       "      <td>34</td>\n",
       "      <td>,,W</td>\n",
       "      <td>1.0</td>\n",
       "      <td>,,W</td>\n",
       "    </tr>\n",
       "    <tr>\n",
       "      <th>4</th>\n",
       "      <td>USW00094728</td>\n",
       "      <td>NY CITY CENTRAL PARK, NY US</td>\n",
       "      <td>2017-01-05</td>\n",
       "      <td>34</td>\n",
       "      <td>,,W</td>\n",
       "      <td>27</td>\n",
       "      <td>,,W</td>\n",
       "      <td>NaN</td>\n",
       "      <td>NaN</td>\n",
       "    </tr>\n",
       "  </tbody>\n",
       "</table>\n",
       "</div>"
      ],
      "text/plain": [
       "       STATION                         NAME        DATE  TMAX TMAX_ATTRIBUTES  \\\n",
       "0  USW00094728  NY CITY CENTRAL PARK, NY US  2017-01-01    48             ,,W   \n",
       "1  USW00094728  NY CITY CENTRAL PARK, NY US  2017-01-02    41             ,,W   \n",
       "2  USW00094728  NY CITY CENTRAL PARK, NY US  2017-01-03    43             ,,W   \n",
       "3  USW00094728  NY CITY CENTRAL PARK, NY US  2017-01-04    52             ,,W   \n",
       "4  USW00094728  NY CITY CENTRAL PARK, NY US  2017-01-05    34             ,,W   \n",
       "\n",
       "   TMIN TMIN_ATTRIBUTES  WT01 WT01_ATTRIBUTES  \n",
       "0    40             ,,W   NaN             NaN  \n",
       "1    37             ,,W   1.0             ,,W  \n",
       "2    39             ,,W   1.0             ,,W  \n",
       "3    34             ,,W   1.0             ,,W  \n",
       "4    27             ,,W   NaN             NaN  "
      ]
     },
     "execution_count": 152,
     "metadata": {},
     "output_type": "execute_result"
    }
   ],
   "source": [
    "dfw.head()"
   ]
  },
  {
   "cell_type": "code",
   "execution_count": 153,
   "metadata": {},
   "outputs": [
    {
     "data": {
      "text/plain": [
       "STATION            365\n",
       "NAME               365\n",
       "DATE               365\n",
       "TMAX               365\n",
       "TMAX_ATTRIBUTES    365\n",
       "TMIN               365\n",
       "TMIN_ATTRIBUTES    365\n",
       "WT01               146\n",
       "WT01_ATTRIBUTES    146\n",
       "dtype: int64"
      ]
     },
     "execution_count": 153,
     "metadata": {},
     "output_type": "execute_result"
    }
   ],
   "source": [
    "dfw.count()"
   ]
  },
  {
   "cell_type": "code",
   "execution_count": 154,
   "metadata": {
    "collapsed": true
   },
   "outputs": [],
   "source": [
    "# Lets check the unique values in attributes!"
   ]
  },
  {
   "cell_type": "code",
   "execution_count": 155,
   "metadata": {},
   "outputs": [
    {
     "data": {
      "text/plain": [
       "(1, 1, 1, 1)"
      ]
     },
     "execution_count": 155,
     "metadata": {},
     "output_type": "execute_result"
    }
   ],
   "source": [
    "dfw.TMAX_ATTRIBUTES.nunique(), dfw.TMIN_ATTRIBUTES.nunique(), dfw.WT01.nunique(), dfw.WT01_ATTRIBUTES.nunique()"
   ]
  },
  {
   "cell_type": "markdown",
   "metadata": {},
   "source": [
    "So, we don't want these columns as well. They are always 1.<br>\n",
    "`TMAX_ATTRIBUTES, TMIN_ATTRIBUTES, WT01, WT01_ATTRIBUTES` Let's drop them!"
   ]
  },
  {
   "cell_type": "code",
   "execution_count": 156,
   "metadata": {
    "collapsed": true
   },
   "outputs": [],
   "source": [
    "dfw = dfw.drop(['TMAX_ATTRIBUTES', \n",
    "                'TMIN_ATTRIBUTES', \n",
    "                'WT01', 'WT01_ATTRIBUTES'], axis = 1)"
   ]
  },
  {
   "cell_type": "code",
   "execution_count": 157,
   "metadata": {},
   "outputs": [
    {
     "name": "stdout",
     "output_type": "stream",
     "text": [
      "<class 'pandas.core.frame.DataFrame'>\n",
      "RangeIndex: 365 entries, 0 to 364\n",
      "Data columns (total 5 columns):\n",
      "STATION    365 non-null object\n",
      "NAME       365 non-null object\n",
      "DATE       365 non-null object\n",
      "TMAX       365 non-null int64\n",
      "TMIN       365 non-null int64\n",
      "dtypes: int64(2), object(3)\n",
      "memory usage: 14.3+ KB\n"
     ]
    }
   ],
   "source": [
    "dfw.info()"
   ]
  },
  {
   "cell_type": "code",
   "execution_count": 158,
   "metadata": {
    "collapsed": true
   },
   "outputs": [],
   "source": [
    "#its easier to have date columns with same name for joining\n",
    "dfw['date'] = dfw['DATE']\n",
    "dfw.drop(['DATE'], axis =1, inplace = True)"
   ]
  },
  {
   "cell_type": "code",
   "execution_count": 159,
   "metadata": {},
   "outputs": [
    {
     "data": {
      "text/html": [
       "<div>\n",
       "<style>\n",
       "    .dataframe thead tr:only-child th {\n",
       "        text-align: right;\n",
       "    }\n",
       "\n",
       "    .dataframe thead th {\n",
       "        text-align: left;\n",
       "    }\n",
       "\n",
       "    .dataframe tbody tr th {\n",
       "        vertical-align: top;\n",
       "    }\n",
       "</style>\n",
       "<table border=\"1\" class=\"dataframe\">\n",
       "  <thead>\n",
       "    <tr style=\"text-align: right;\">\n",
       "      <th></th>\n",
       "      <th>STATION</th>\n",
       "      <th>NAME</th>\n",
       "      <th>TMAX</th>\n",
       "      <th>TMIN</th>\n",
       "      <th>date</th>\n",
       "    </tr>\n",
       "  </thead>\n",
       "  <tbody>\n",
       "    <tr>\n",
       "      <th>0</th>\n",
       "      <td>USW00094728</td>\n",
       "      <td>NY CITY CENTRAL PARK, NY US</td>\n",
       "      <td>48</td>\n",
       "      <td>40</td>\n",
       "      <td>2017-01-01</td>\n",
       "    </tr>\n",
       "    <tr>\n",
       "      <th>1</th>\n",
       "      <td>USW00094728</td>\n",
       "      <td>NY CITY CENTRAL PARK, NY US</td>\n",
       "      <td>41</td>\n",
       "      <td>37</td>\n",
       "      <td>2017-01-02</td>\n",
       "    </tr>\n",
       "    <tr>\n",
       "      <th>2</th>\n",
       "      <td>USW00094728</td>\n",
       "      <td>NY CITY CENTRAL PARK, NY US</td>\n",
       "      <td>43</td>\n",
       "      <td>39</td>\n",
       "      <td>2017-01-03</td>\n",
       "    </tr>\n",
       "    <tr>\n",
       "      <th>3</th>\n",
       "      <td>USW00094728</td>\n",
       "      <td>NY CITY CENTRAL PARK, NY US</td>\n",
       "      <td>52</td>\n",
       "      <td>34</td>\n",
       "      <td>2017-01-04</td>\n",
       "    </tr>\n",
       "    <tr>\n",
       "      <th>4</th>\n",
       "      <td>USW00094728</td>\n",
       "      <td>NY CITY CENTRAL PARK, NY US</td>\n",
       "      <td>34</td>\n",
       "      <td>27</td>\n",
       "      <td>2017-01-05</td>\n",
       "    </tr>\n",
       "  </tbody>\n",
       "</table>\n",
       "</div>"
      ],
      "text/plain": [
       "       STATION                         NAME  TMAX  TMIN        date\n",
       "0  USW00094728  NY CITY CENTRAL PARK, NY US    48    40  2017-01-01\n",
       "1  USW00094728  NY CITY CENTRAL PARK, NY US    41    37  2017-01-02\n",
       "2  USW00094728  NY CITY CENTRAL PARK, NY US    43    39  2017-01-03\n",
       "3  USW00094728  NY CITY CENTRAL PARK, NY US    52    34  2017-01-04\n",
       "4  USW00094728  NY CITY CENTRAL PARK, NY US    34    27  2017-01-05"
      ]
     },
     "execution_count": 159,
     "metadata": {},
     "output_type": "execute_result"
    }
   ],
   "source": [
    "dfw.head()"
   ]
  },
  {
   "cell_type": "code",
   "execution_count": 160,
   "metadata": {
    "scrolled": false
   },
   "outputs": [
    {
     "data": {
      "text/plain": [
       "<matplotlib.legend.Legend at 0x1a2d78af98>"
      ]
     },
     "execution_count": 160,
     "metadata": {},
     "output_type": "execute_result"
    },
    {
     "data": {
      "image/png": "[encoded data removed]",
      "text/plain": [
       "<matplotlib.figure.Figure at 0x1a2d78aeb8>"
      ]
     },
     "metadata": {},
     "output_type": "display_data"
    }
   ],
   "source": [
    "plt.plot(dfw.TMAX), plt.plot(dfw.TMIN)\n",
    "plt.xlabel('Day of the year')\n",
    "plt.ylabel('Temp')\n",
    "plt.legend()"
   ]
  },
  {
   "cell_type": "code",
   "execution_count": 161,
   "metadata": {
    "scrolled": true
   },
   "outputs": [
    {
     "data": {
      "text/plain": [
       "[<matplotlib.lines.Line2D at 0x1a2e501eb8>]"
      ]
     },
     "execution_count": 161,
     "metadata": {},
     "output_type": "execute_result"
    },
    {
     "data": {
      "image/png": "[encoded data removed]",
      "text/plain": [
       "<matplotlib.figure.Figure at 0x1a28fe0390>"
      ]
     },
     "metadata": {},
     "output_type": "display_data"
    }
   ],
   "source": [
    "plt.plot(dfw.TMAX-dfw.TMIN)"
   ]
  },
  {
   "cell_type": "markdown",
   "metadata": {},
   "source": [
    "**No solid trend in the temp difference.....no need to consider**"
   ]
  },
  {
   "cell_type": "code",
   "execution_count": 162,
   "metadata": {},
   "outputs": [
    {
     "data": {
      "text/plain": [
       "Index(['STATION', 'NAME', 'TMAX', 'TMIN', 'date'], dtype='object')"
      ]
     },
     "execution_count": 162,
     "metadata": {},
     "output_type": "execute_result"
    }
   ],
   "source": [
    "dfw.columns"
   ]
  },
  {
   "cell_type": "code",
   "execution_count": 163,
   "metadata": {
    "collapsed": true
   },
   "outputs": [],
   "source": [
    "#so we need only date and TMAX\n",
    "dfw = dfw[['date', 'TMAX']]"
   ]
  },
  {
   "cell_type": "code",
   "execution_count": 164,
   "metadata": {},
   "outputs": [
    {
     "name": "stdout",
     "output_type": "stream",
     "text": [
      "<class 'pandas.core.frame.DataFrame'>\n",
      "RangeIndex: 365 entries, 0 to 364\n",
      "Data columns (total 2 columns):\n",
      "date    365 non-null object\n",
      "TMAX    365 non-null int64\n",
      "dtypes: int64(1), object(1)\n",
      "memory usage: 5.8+ KB\n"
     ]
    }
   ],
   "source": [
    "dfw.info()"
   ]
  },
  {
   "cell_type": "markdown",
   "metadata": {
    "collapsed": true
   },
   "source": [
    "### Checking already cleaned nyc taxi data"
   ]
  },
  {
   "cell_type": "code",
   "execution_count": 165,
   "metadata": {
    "collapsed": true
   },
   "outputs": [],
   "source": [
    "dft = pd.read_csv(path)"
   ]
  },
  {
   "cell_type": "code",
   "execution_count": 166,
   "metadata": {
    "scrolled": false
   },
   "outputs": [
    {
     "data": {
      "text/html": [
       "<div>\n",
       "<style>\n",
       "    .dataframe thead tr:only-child th {\n",
       "        text-align: right;\n",
       "    }\n",
       "\n",
       "    .dataframe thead th {\n",
       "        text-align: left;\n",
       "    }\n",
       "\n",
       "    .dataframe tbody tr th {\n",
       "        vertical-align: top;\n",
       "    }\n",
       "</style>\n",
       "<table border=\"1\" class=\"dataframe\">\n",
       "  <thead>\n",
       "    <tr style=\"text-align: right;\">\n",
       "      <th></th>\n",
       "      <th>VendorID</th>\n",
       "      <th>RatecodeID</th>\n",
       "      <th>PULocationID</th>\n",
       "      <th>DOLocationID</th>\n",
       "      <th>passenger_count</th>\n",
       "      <th>trip_distance</th>\n",
       "      <th>fare_amount</th>\n",
       "      <th>extra</th>\n",
       "      <th>mta_tax</th>\n",
       "      <th>tip_amount</th>\n",
       "      <th>tolls_amount</th>\n",
       "      <th>improvement_surcharge</th>\n",
       "      <th>total_amount</th>\n",
       "      <th>payment_type</th>\n",
       "      <th>trip_type</th>\n",
       "      <th>dispatch</th>\n",
       "      <th>PUT</th>\n",
       "      <th>DOT</th>\n",
       "      <th>date</th>\n",
       "    </tr>\n",
       "  </thead>\n",
       "  <tbody>\n",
       "    <tr>\n",
       "      <th>0</th>\n",
       "      <td>2</td>\n",
       "      <td>1</td>\n",
       "      <td>75</td>\n",
       "      <td>41</td>\n",
       "      <td>2</td>\n",
       "      <td>1.36</td>\n",
       "      <td>6.5</td>\n",
       "      <td>0.0</td>\n",
       "      <td>0.5</td>\n",
       "      <td>0.00</td>\n",
       "      <td>0.0</td>\n",
       "      <td>0.3</td>\n",
       "      <td>7.30</td>\n",
       "      <td>2</td>\n",
       "      <td>1.0</td>\n",
       "      <td>1</td>\n",
       "      <td>11:07:56</td>\n",
       "      <td>11:13:00</td>\n",
       "      <td>2017-01-06</td>\n",
       "    </tr>\n",
       "    <tr>\n",
       "      <th>1</th>\n",
       "      <td>1</td>\n",
       "      <td>1</td>\n",
       "      <td>95</td>\n",
       "      <td>95</td>\n",
       "      <td>1</td>\n",
       "      <td>0.70</td>\n",
       "      <td>4.0</td>\n",
       "      <td>0.5</td>\n",
       "      <td>0.5</td>\n",
       "      <td>1.30</td>\n",
       "      <td>0.0</td>\n",
       "      <td>0.3</td>\n",
       "      <td>6.60</td>\n",
       "      <td>1</td>\n",
       "      <td>1.0</td>\n",
       "      <td>1</td>\n",
       "      <td>04:00:07</td>\n",
       "      <td>04:02:34</td>\n",
       "      <td>2017-05-18</td>\n",
       "    </tr>\n",
       "    <tr>\n",
       "      <th>2</th>\n",
       "      <td>2</td>\n",
       "      <td>1</td>\n",
       "      <td>196</td>\n",
       "      <td>56</td>\n",
       "      <td>5</td>\n",
       "      <td>0.87</td>\n",
       "      <td>5.5</td>\n",
       "      <td>0.5</td>\n",
       "      <td>0.5</td>\n",
       "      <td>0.00</td>\n",
       "      <td>0.0</td>\n",
       "      <td>0.3</td>\n",
       "      <td>6.80</td>\n",
       "      <td>2</td>\n",
       "      <td>1.0</td>\n",
       "      <td>1</td>\n",
       "      <td>22:59:17</td>\n",
       "      <td>23:03:47</td>\n",
       "      <td>2017-02-21</td>\n",
       "    </tr>\n",
       "    <tr>\n",
       "      <th>3</th>\n",
       "      <td>2</td>\n",
       "      <td>1</td>\n",
       "      <td>65</td>\n",
       "      <td>225</td>\n",
       "      <td>2</td>\n",
       "      <td>4.65</td>\n",
       "      <td>20.5</td>\n",
       "      <td>1.0</td>\n",
       "      <td>0.5</td>\n",
       "      <td>4.46</td>\n",
       "      <td>0.0</td>\n",
       "      <td>0.3</td>\n",
       "      <td>26.76</td>\n",
       "      <td>1</td>\n",
       "      <td>1.0</td>\n",
       "      <td>1</td>\n",
       "      <td>19:05:09</td>\n",
       "      <td>19:32:57</td>\n",
       "      <td>2017-12-22</td>\n",
       "    </tr>\n",
       "    <tr>\n",
       "      <th>4</th>\n",
       "      <td>2</td>\n",
       "      <td>1</td>\n",
       "      <td>82</td>\n",
       "      <td>95</td>\n",
       "      <td>5</td>\n",
       "      <td>2.17</td>\n",
       "      <td>9.0</td>\n",
       "      <td>0.0</td>\n",
       "      <td>0.5</td>\n",
       "      <td>0.00</td>\n",
       "      <td>0.0</td>\n",
       "      <td>0.3</td>\n",
       "      <td>9.80</td>\n",
       "      <td>2</td>\n",
       "      <td>1.0</td>\n",
       "      <td>1</td>\n",
       "      <td>06:21:34</td>\n",
       "      <td>06:29:59</td>\n",
       "      <td>2017-11-12</td>\n",
       "    </tr>\n",
       "  </tbody>\n",
       "</table>\n",
       "</div>"
      ],
      "text/plain": [
       "   VendorID  RatecodeID  PULocationID  DOLocationID  passenger_count  \\\n",
       "0         2           1            75            41                2   \n",
       "1         1           1            95            95                1   \n",
       "2         2           1           196            56                5   \n",
       "3         2           1            65           225                2   \n",
       "4         2           1            82            95                5   \n",
       "\n",
       "   trip_distance  fare_amount  extra  mta_tax  tip_amount  tolls_amount  \\\n",
       "0           1.36          6.5    0.0      0.5        0.00           0.0   \n",
       "1           0.70          4.0    0.5      0.5        1.30           0.0   \n",
       "2           0.87          5.5    0.5      0.5        0.00           0.0   \n",
       "3           4.65         20.5    1.0      0.5        4.46           0.0   \n",
       "4           2.17          9.0    0.0      0.5        0.00           0.0   \n",
       "\n",
       "   improvement_surcharge  total_amount  payment_type  trip_type  dispatch  \\\n",
       "0                    0.3          7.30             2        1.0         1   \n",
       "1                    0.3          6.60             1        1.0         1   \n",
       "2                    0.3          6.80             2        1.0         1   \n",
       "3                    0.3         26.76             1        1.0         1   \n",
       "4                    0.3          9.80             2        1.0         1   \n",
       "\n",
       "        PUT       DOT        date  \n",
       "0  11:07:56  11:13:00  2017-01-06  \n",
       "1  04:00:07  04:02:34  2017-05-18  \n",
       "2  22:59:17  23:03:47  2017-02-21  \n",
       "3  19:05:09  19:32:57  2017-12-22  \n",
       "4  06:21:34  06:29:59  2017-11-12  "
      ]
     },
     "execution_count": 166,
     "metadata": {},
     "output_type": "execute_result"
    }
   ],
   "source": [
    "#df['poi-1']/83\n",
    "dft.head()"
   ]
  },
  {
   "cell_type": "code",
   "execution_count": 170,
   "metadata": {},
   "outputs": [
    {
     "data": {
      "text/plain": [
       "VendorID                 2314057\n",
       "RatecodeID               2314057\n",
       "PULocationID             2314057\n",
       "DOLocationID             2314057\n",
       "passenger_count          2314057\n",
       "trip_distance            2314057\n",
       "fare_amount              2314057\n",
       "extra                    2314057\n",
       "mta_tax                  2314057\n",
       "tip_amount               2314057\n",
       "tolls_amount             2314057\n",
       "improvement_surcharge    2314057\n",
       "total_amount             2314057\n",
       "payment_type             2314057\n",
       "trip_type                2314051\n",
       "dispatch                 2314057\n",
       "PUT                      2314057\n",
       "DOT                      2314057\n",
       "date                     2314057\n",
       "dtype: int64"
      ]
     },
     "execution_count": 170,
     "metadata": {},
     "output_type": "execute_result"
    }
   ],
   "source": [
    "dft.count()"
   ]
  },
  {
   "cell_type": "code",
   "execution_count": 171,
   "metadata": {
    "collapsed": true
   },
   "outputs": [],
   "source": [
    "dft['PickUp_hr'] = pd.to_datetime(dft['PUT']).dt.hour\n",
    "#df.PUT[0]"
   ]
  },
  {
   "cell_type": "code",
   "execution_count": 172,
   "metadata": {
    "scrolled": true
   },
   "outputs": [
    {
     "data": {
      "text/html": [
       "<div>\n",
       "<style>\n",
       "    .dataframe thead tr:only-child th {\n",
       "        text-align: right;\n",
       "    }\n",
       "\n",
       "    .dataframe thead th {\n",
       "        text-align: left;\n",
       "    }\n",
       "\n",
       "    .dataframe tbody tr th {\n",
       "        vertical-align: top;\n",
       "    }\n",
       "</style>\n",
       "<table border=\"1\" class=\"dataframe\">\n",
       "  <thead>\n",
       "    <tr style=\"text-align: right;\">\n",
       "      <th></th>\n",
       "      <th>VendorID</th>\n",
       "      <th>RatecodeID</th>\n",
       "      <th>PULocationID</th>\n",
       "      <th>DOLocationID</th>\n",
       "      <th>passenger_count</th>\n",
       "      <th>trip_distance</th>\n",
       "      <th>fare_amount</th>\n",
       "      <th>extra</th>\n",
       "      <th>mta_tax</th>\n",
       "      <th>tip_amount</th>\n",
       "      <th>tolls_amount</th>\n",
       "      <th>improvement_surcharge</th>\n",
       "      <th>total_amount</th>\n",
       "      <th>payment_type</th>\n",
       "      <th>trip_type</th>\n",
       "      <th>dispatch</th>\n",
       "      <th>PUT</th>\n",
       "      <th>DOT</th>\n",
       "      <th>date</th>\n",
       "      <th>PickUp_hr</th>\n",
       "    </tr>\n",
       "  </thead>\n",
       "  <tbody>\n",
       "    <tr>\n",
       "      <th>0</th>\n",
       "      <td>2</td>\n",
       "      <td>1</td>\n",
       "      <td>75</td>\n",
       "      <td>41</td>\n",
       "      <td>2</td>\n",
       "      <td>1.36</td>\n",
       "      <td>6.5</td>\n",
       "      <td>0.0</td>\n",
       "      <td>0.5</td>\n",
       "      <td>0.00</td>\n",
       "      <td>0.0</td>\n",
       "      <td>0.3</td>\n",
       "      <td>7.30</td>\n",
       "      <td>2</td>\n",
       "      <td>1.0</td>\n",
       "      <td>1</td>\n",
       "      <td>11:07:56</td>\n",
       "      <td>11:13:00</td>\n",
       "      <td>2017-01-06</td>\n",
       "      <td>11</td>\n",
       "    </tr>\n",
       "    <tr>\n",
       "      <th>1</th>\n",
       "      <td>1</td>\n",
       "      <td>1</td>\n",
       "      <td>95</td>\n",
       "      <td>95</td>\n",
       "      <td>1</td>\n",
       "      <td>0.70</td>\n",
       "      <td>4.0</td>\n",
       "      <td>0.5</td>\n",
       "      <td>0.5</td>\n",
       "      <td>1.30</td>\n",
       "      <td>0.0</td>\n",
       "      <td>0.3</td>\n",
       "      <td>6.60</td>\n",
       "      <td>1</td>\n",
       "      <td>1.0</td>\n",
       "      <td>1</td>\n",
       "      <td>04:00:07</td>\n",
       "      <td>04:02:34</td>\n",
       "      <td>2017-05-18</td>\n",
       "      <td>4</td>\n",
       "    </tr>\n",
       "    <tr>\n",
       "      <th>2</th>\n",
       "      <td>2</td>\n",
       "      <td>1</td>\n",
       "      <td>196</td>\n",
       "      <td>56</td>\n",
       "      <td>5</td>\n",
       "      <td>0.87</td>\n",
       "      <td>5.5</td>\n",
       "      <td>0.5</td>\n",
       "      <td>0.5</td>\n",
       "      <td>0.00</td>\n",
       "      <td>0.0</td>\n",
       "      <td>0.3</td>\n",
       "      <td>6.80</td>\n",
       "      <td>2</td>\n",
       "      <td>1.0</td>\n",
       "      <td>1</td>\n",
       "      <td>22:59:17</td>\n",
       "      <td>23:03:47</td>\n",
       "      <td>2017-02-21</td>\n",
       "      <td>22</td>\n",
       "    </tr>\n",
       "    <tr>\n",
       "      <th>3</th>\n",
       "      <td>2</td>\n",
       "      <td>1</td>\n",
       "      <td>65</td>\n",
       "      <td>225</td>\n",
       "      <td>2</td>\n",
       "      <td>4.65</td>\n",
       "      <td>20.5</td>\n",
       "      <td>1.0</td>\n",
       "      <td>0.5</td>\n",
       "      <td>4.46</td>\n",
       "      <td>0.0</td>\n",
       "      <td>0.3</td>\n",
       "      <td>26.76</td>\n",
       "      <td>1</td>\n",
       "      <td>1.0</td>\n",
       "      <td>1</td>\n",
       "      <td>19:05:09</td>\n",
       "      <td>19:32:57</td>\n",
       "      <td>2017-12-22</td>\n",
       "      <td>19</td>\n",
       "    </tr>\n",
       "    <tr>\n",
       "      <th>4</th>\n",
       "      <td>2</td>\n",
       "      <td>1</td>\n",
       "      <td>82</td>\n",
       "      <td>95</td>\n",
       "      <td>5</td>\n",
       "      <td>2.17</td>\n",
       "      <td>9.0</td>\n",
       "      <td>0.0</td>\n",
       "      <td>0.5</td>\n",
       "      <td>0.00</td>\n",
       "      <td>0.0</td>\n",
       "      <td>0.3</td>\n",
       "      <td>9.80</td>\n",
       "      <td>2</td>\n",
       "      <td>1.0</td>\n",
       "      <td>1</td>\n",
       "      <td>06:21:34</td>\n",
       "      <td>06:29:59</td>\n",
       "      <td>2017-11-12</td>\n",
       "      <td>6</td>\n",
       "    </tr>\n",
       "  </tbody>\n",
       "</table>\n",
       "</div>"
      ],
      "text/plain": [
       "   VendorID  RatecodeID  PULocationID  DOLocationID  passenger_count  \\\n",
       "0         2           1            75            41                2   \n",
       "1         1           1            95            95                1   \n",
       "2         2           1           196            56                5   \n",
       "3         2           1            65           225                2   \n",
       "4         2           1            82            95                5   \n",
       "\n",
       "   trip_distance  fare_amount  extra  mta_tax  tip_amount  tolls_amount  \\\n",
       "0           1.36          6.5    0.0      0.5        0.00           0.0   \n",
       "1           0.70          4.0    0.5      0.5        1.30           0.0   \n",
       "2           0.87          5.5    0.5      0.5        0.00           0.0   \n",
       "3           4.65         20.5    1.0      0.5        4.46           0.0   \n",
       "4           2.17          9.0    0.0      0.5        0.00           0.0   \n",
       "\n",
       "   improvement_surcharge  total_amount  payment_type  trip_type  dispatch  \\\n",
       "0                    0.3          7.30             2        1.0         1   \n",
       "1                    0.3          6.60             1        1.0         1   \n",
       "2                    0.3          6.80             2        1.0         1   \n",
       "3                    0.3         26.76             1        1.0         1   \n",
       "4                    0.3          9.80             2        1.0         1   \n",
       "\n",
       "        PUT       DOT        date  PickUp_hr  \n",
       "0  11:07:56  11:13:00  2017-01-06         11  \n",
       "1  04:00:07  04:02:34  2017-05-18          4  \n",
       "2  22:59:17  23:03:47  2017-02-21         22  \n",
       "3  19:05:09  19:32:57  2017-12-22         19  \n",
       "4  06:21:34  06:29:59  2017-11-12          6  "
      ]
     },
     "execution_count": 172,
     "metadata": {},
     "output_type": "execute_result"
    }
   ],
   "source": [
    "dft.head()"
   ]
  },
  {
   "cell_type": "code",
   "execution_count": 173,
   "metadata": {},
   "outputs": [
    {
     "data": {
      "text/plain": [
       "VendorID                 2314057\n",
       "RatecodeID               2314057\n",
       "PULocationID             2314057\n",
       "DOLocationID             2314057\n",
       "passenger_count          2314057\n",
       "trip_distance            2314057\n",
       "fare_amount              2314057\n",
       "extra                    2314057\n",
       "mta_tax                  2314057\n",
       "tip_amount               2314057\n",
       "tolls_amount             2314057\n",
       "improvement_surcharge    2314057\n",
       "total_amount             2314057\n",
       "payment_type             2314057\n",
       "trip_type                2314051\n",
       "dispatch                 2314057\n",
       "PUT                      2314057\n",
       "DOT                      2314057\n",
       "date                     2314057\n",
       "PickUp_hr                2314057\n",
       "dtype: int64"
      ]
     },
     "execution_count": 173,
     "metadata": {},
     "output_type": "execute_result"
    }
   ],
   "source": [
    "dft.count()"
   ]
  },
  {
   "cell_type": "code",
   "execution_count": 174,
   "metadata": {},
   "outputs": [
    {
     "data": {
      "text/plain": [
       "date    365\n",
       "TMAX    365\n",
       "dtype: int64"
      ]
     },
     "execution_count": 174,
     "metadata": {},
     "output_type": "execute_result"
    }
   ],
   "source": [
    "dfw.count()"
   ]
  },
  {
   "cell_type": "code",
   "execution_count": null,
   "metadata": {
    "collapsed": true
   },
   "outputs": [],
   "source": []
  },
  {
   "cell_type": "markdown",
   "metadata": {},
   "source": [
    "## merging the data on date"
   ]
  },
  {
   "cell_type": "code",
   "execution_count": 175,
   "metadata": {
    "collapsed": true
   },
   "outputs": [],
   "source": [
    "df=dft.merge(dfw, on='date')"
   ]
  },
  {
   "cell_type": "code",
   "execution_count": 176,
   "metadata": {
    "scrolled": false
   },
   "outputs": [
    {
     "data": {
      "text/plain": [
       "VendorID                 2314019\n",
       "RatecodeID               2314019\n",
       "PULocationID             2314019\n",
       "DOLocationID             2314019\n",
       "passenger_count          2314019\n",
       "trip_distance            2314019\n",
       "fare_amount              2314019\n",
       "extra                    2314019\n",
       "mta_tax                  2314019\n",
       "tip_amount               2314019\n",
       "tolls_amount             2314019\n",
       "improvement_surcharge    2314019\n",
       "total_amount             2314019\n",
       "payment_type             2314019\n",
       "trip_type                2314013\n",
       "dispatch                 2314019\n",
       "PUT                      2314019\n",
       "DOT                      2314019\n",
       "date                     2314019\n",
       "PickUp_hr                2314019\n",
       "TMAX                     2314019\n",
       "dtype: int64"
      ]
     },
     "execution_count": 176,
     "metadata": {},
     "output_type": "execute_result"
    }
   ],
   "source": [
    "df.count()"
   ]
  },
  {
   "cell_type": "code",
   "execution_count": 177,
   "metadata": {
    "collapsed": true
   },
   "outputs": [],
   "source": [
    "# we have our dataframe df, saving some memore\n",
    "del dfw\n",
    "del dft"
   ]
  },
  {
   "cell_type": "markdown",
   "metadata": {},
   "source": [
    "## So now we have a combined `dataframe` with weather and taxi related stuff in `df`"
   ]
  },
  {
   "cell_type": "code",
   "execution_count": 178,
   "metadata": {
    "collapsed": true,
    "scrolled": false
   },
   "outputs": [],
   "source": [
    "# In case there is an null value!\n",
    "df.dropna();"
   ]
  },
  {
   "cell_type": "code",
   "execution_count": 179,
   "metadata": {},
   "outputs": [
    {
     "data": {
      "text/plain": [
       "VendorID                 2314019\n",
       "RatecodeID               2314019\n",
       "PULocationID             2314019\n",
       "DOLocationID             2314019\n",
       "passenger_count          2314019\n",
       "trip_distance            2314019\n",
       "fare_amount              2314019\n",
       "extra                    2314019\n",
       "mta_tax                  2314019\n",
       "tip_amount               2314019\n",
       "tolls_amount             2314019\n",
       "improvement_surcharge    2314019\n",
       "total_amount             2314019\n",
       "payment_type             2314019\n",
       "trip_type                2314013\n",
       "dispatch                 2314019\n",
       "PUT                      2314019\n",
       "DOT                      2314019\n",
       "date                     2314019\n",
       "PickUp_hr                2314019\n",
       "TMAX                     2314019\n",
       "dtype: int64"
      ]
     },
     "execution_count": 179,
     "metadata": {},
     "output_type": "execute_result"
    }
   ],
   "source": [
    "df.count()"
   ]
  },
  {
   "cell_type": "code",
   "execution_count": 180,
   "metadata": {
    "scrolled": false
   },
   "outputs": [
    {
     "data": {
      "text/plain": [
       "Index(['VendorID', 'RatecodeID', 'PULocationID', 'DOLocationID',\n",
       "       'passenger_count', 'trip_distance', 'fare_amount', 'extra', 'mta_tax',\n",
       "       'tip_amount', 'tolls_amount', 'improvement_surcharge', 'total_amount',\n",
       "       'payment_type', 'trip_type', 'dispatch', 'PUT', 'DOT', 'date',\n",
       "       'PickUp_hr', 'TMAX'],\n",
       "      dtype='object')"
      ]
     },
     "execution_count": 180,
     "metadata": {},
     "output_type": "execute_result"
    }
   ],
   "source": [
    "df.columns"
   ]
  },
  {
   "cell_type": "code",
   "execution_count": 181,
   "metadata": {},
   "outputs": [
    {
     "data": {
      "text/html": [
       "<div>\n",
       "<style>\n",
       "    .dataframe thead tr:only-child th {\n",
       "        text-align: right;\n",
       "    }\n",
       "\n",
       "    .dataframe thead th {\n",
       "        text-align: left;\n",
       "    }\n",
       "\n",
       "    .dataframe tbody tr th {\n",
       "        vertical-align: top;\n",
       "    }\n",
       "</style>\n",
       "<table border=\"1\" class=\"dataframe\">\n",
       "  <thead>\n",
       "    <tr style=\"text-align: right;\">\n",
       "      <th></th>\n",
       "      <th>VendorID</th>\n",
       "      <th>RatecodeID</th>\n",
       "      <th>PULocationID</th>\n",
       "      <th>DOLocationID</th>\n",
       "      <th>passenger_count</th>\n",
       "      <th>trip_distance</th>\n",
       "      <th>fare_amount</th>\n",
       "      <th>extra</th>\n",
       "      <th>mta_tax</th>\n",
       "      <th>tip_amount</th>\n",
       "      <th>...</th>\n",
       "      <th>improvement_surcharge</th>\n",
       "      <th>total_amount</th>\n",
       "      <th>payment_type</th>\n",
       "      <th>trip_type</th>\n",
       "      <th>dispatch</th>\n",
       "      <th>PUT</th>\n",
       "      <th>DOT</th>\n",
       "      <th>date</th>\n",
       "      <th>PickUp_hr</th>\n",
       "      <th>TMAX</th>\n",
       "    </tr>\n",
       "  </thead>\n",
       "  <tbody>\n",
       "    <tr>\n",
       "      <th>0</th>\n",
       "      <td>2</td>\n",
       "      <td>1</td>\n",
       "      <td>75</td>\n",
       "      <td>41</td>\n",
       "      <td>2</td>\n",
       "      <td>1.36</td>\n",
       "      <td>6.5</td>\n",
       "      <td>0.0</td>\n",
       "      <td>0.5</td>\n",
       "      <td>0.0</td>\n",
       "      <td>...</td>\n",
       "      <td>0.3</td>\n",
       "      <td>7.3</td>\n",
       "      <td>2</td>\n",
       "      <td>1.0</td>\n",
       "      <td>1</td>\n",
       "      <td>11:07:56</td>\n",
       "      <td>11:13:00</td>\n",
       "      <td>2017-01-06</td>\n",
       "      <td>11</td>\n",
       "      <td>33</td>\n",
       "    </tr>\n",
       "    <tr>\n",
       "      <th>1</th>\n",
       "      <td>2</td>\n",
       "      <td>1</td>\n",
       "      <td>65</td>\n",
       "      <td>217</td>\n",
       "      <td>1</td>\n",
       "      <td>2.90</td>\n",
       "      <td>14.5</td>\n",
       "      <td>0.0</td>\n",
       "      <td>0.5</td>\n",
       "      <td>0.0</td>\n",
       "      <td>...</td>\n",
       "      <td>0.3</td>\n",
       "      <td>15.3</td>\n",
       "      <td>2</td>\n",
       "      <td>1.0</td>\n",
       "      <td>1</td>\n",
       "      <td>11:01:58</td>\n",
       "      <td>11:20:35</td>\n",
       "      <td>2017-01-06</td>\n",
       "      <td>11</td>\n",
       "      <td>33</td>\n",
       "    </tr>\n",
       "    <tr>\n",
       "      <th>2</th>\n",
       "      <td>2</td>\n",
       "      <td>1</td>\n",
       "      <td>168</td>\n",
       "      <td>74</td>\n",
       "      <td>2</td>\n",
       "      <td>1.51</td>\n",
       "      <td>9.5</td>\n",
       "      <td>0.0</td>\n",
       "      <td>0.5</td>\n",
       "      <td>0.0</td>\n",
       "      <td>...</td>\n",
       "      <td>0.3</td>\n",
       "      <td>10.3</td>\n",
       "      <td>2</td>\n",
       "      <td>1.0</td>\n",
       "      <td>1</td>\n",
       "      <td>14:03:08</td>\n",
       "      <td>14:15:02</td>\n",
       "      <td>2017-01-06</td>\n",
       "      <td>14</td>\n",
       "      <td>33</td>\n",
       "    </tr>\n",
       "    <tr>\n",
       "      <th>3</th>\n",
       "      <td>2</td>\n",
       "      <td>1</td>\n",
       "      <td>173</td>\n",
       "      <td>129</td>\n",
       "      <td>1</td>\n",
       "      <td>1.00</td>\n",
       "      <td>6.0</td>\n",
       "      <td>0.5</td>\n",
       "      <td>0.5</td>\n",
       "      <td>1.0</td>\n",
       "      <td>...</td>\n",
       "      <td>0.3</td>\n",
       "      <td>8.3</td>\n",
       "      <td>1</td>\n",
       "      <td>1.0</td>\n",
       "      <td>1</td>\n",
       "      <td>06:01:10</td>\n",
       "      <td>06:06:28</td>\n",
       "      <td>2017-01-06</td>\n",
       "      <td>6</td>\n",
       "      <td>33</td>\n",
       "    </tr>\n",
       "    <tr>\n",
       "      <th>4</th>\n",
       "      <td>2</td>\n",
       "      <td>1</td>\n",
       "      <td>181</td>\n",
       "      <td>91</td>\n",
       "      <td>6</td>\n",
       "      <td>4.77</td>\n",
       "      <td>16.5</td>\n",
       "      <td>0.5</td>\n",
       "      <td>0.5</td>\n",
       "      <td>0.0</td>\n",
       "      <td>...</td>\n",
       "      <td>0.3</td>\n",
       "      <td>17.8</td>\n",
       "      <td>2</td>\n",
       "      <td>1.0</td>\n",
       "      <td>1</td>\n",
       "      <td>22:15:13</td>\n",
       "      <td>22:32:26</td>\n",
       "      <td>2017-01-06</td>\n",
       "      <td>22</td>\n",
       "      <td>33</td>\n",
       "    </tr>\n",
       "  </tbody>\n",
       "</table>\n",
       "<p>5 rows × 21 columns</p>\n",
       "</div>"
      ],
      "text/plain": [
       "   VendorID  RatecodeID  PULocationID  DOLocationID  passenger_count  \\\n",
       "0         2           1            75            41                2   \n",
       "1         2           1            65           217                1   \n",
       "2         2           1           168            74                2   \n",
       "3         2           1           173           129                1   \n",
       "4         2           1           181            91                6   \n",
       "\n",
       "   trip_distance  fare_amount  extra  mta_tax  tip_amount  ...   \\\n",
       "0           1.36          6.5    0.0      0.5         0.0  ...    \n",
       "1           2.90         14.5    0.0      0.5         0.0  ...    \n",
       "2           1.51          9.5    0.0      0.5         0.0  ...    \n",
       "3           1.00          6.0    0.5      0.5         1.0  ...    \n",
       "4           4.77         16.5    0.5      0.5         0.0  ...    \n",
       "\n",
       "   improvement_surcharge  total_amount  payment_type  trip_type  dispatch  \\\n",
       "0                    0.3           7.3             2        1.0         1   \n",
       "1                    0.3          15.3             2        1.0         1   \n",
       "2                    0.3          10.3             2        1.0         1   \n",
       "3                    0.3           8.3             1        1.0         1   \n",
       "4                    0.3          17.8             2        1.0         1   \n",
       "\n",
       "        PUT       DOT        date PickUp_hr  TMAX  \n",
       "0  11:07:56  11:13:00  2017-01-06        11    33  \n",
       "1  11:01:58  11:20:35  2017-01-06        11    33  \n",
       "2  14:03:08  14:15:02  2017-01-06        14    33  \n",
       "3  06:01:10  06:06:28  2017-01-06         6    33  \n",
       "4  22:15:13  22:32:26  2017-01-06        22    33  \n",
       "\n",
       "[5 rows x 21 columns]"
      ]
     },
     "execution_count": 181,
     "metadata": {},
     "output_type": "execute_result"
    }
   ],
   "source": [
    "df.head()"
   ]
  },
  {
   "cell_type": "code",
   "execution_count": 182,
   "metadata": {
    "collapsed": true
   },
   "outputs": [],
   "source": [
    "df['day'] = pd.to_datetime(df['date']).dt.day"
   ]
  },
  {
   "cell_type": "code",
   "execution_count": 183,
   "metadata": {
    "collapsed": true
   },
   "outputs": [],
   "source": [
    "df['month'] = pd.to_datetime(df['date']).dt.month"
   ]
  },
  {
   "cell_type": "code",
   "execution_count": 184,
   "metadata": {
    "scrolled": false
   },
   "outputs": [
    {
     "data": {
      "text/plain": [
       "(31, 12)"
      ]
     },
     "execution_count": 184,
     "metadata": {},
     "output_type": "execute_result"
    }
   ],
   "source": [
    "#maming sure we have all the (max month day 31) days and all the month (12 months)\n",
    "df.day.nunique(), df.month.nunique()"
   ]
  },
  {
   "cell_type": "code",
   "execution_count": 185,
   "metadata": {},
   "outputs": [
    {
     "data": {
      "text/plain": [
       "Index(['VendorID', 'RatecodeID', 'PULocationID', 'DOLocationID',\n",
       "       'passenger_count', 'trip_distance', 'fare_amount', 'extra', 'mta_tax',\n",
       "       'tip_amount', 'tolls_amount', 'improvement_surcharge', 'total_amount',\n",
       "       'payment_type', 'trip_type', 'dispatch', 'PUT', 'DOT', 'date',\n",
       "       'PickUp_hr', 'TMAX', 'day', 'month'],\n",
       "      dtype='object')"
      ]
     },
     "execution_count": 185,
     "metadata": {},
     "output_type": "execute_result"
    }
   ],
   "source": [
    "df.columns"
   ]
  },
  {
   "cell_type": "code",
   "execution_count": 186,
   "metadata": {},
   "outputs": [
    {
     "data": {
      "text/plain": [
       "VendorID                 2314019\n",
       "RatecodeID               2314019\n",
       "PULocationID             2314019\n",
       "DOLocationID             2314019\n",
       "passenger_count          2314019\n",
       "trip_distance            2314019\n",
       "fare_amount              2314019\n",
       "extra                    2314019\n",
       "mta_tax                  2314019\n",
       "tip_amount               2314019\n",
       "tolls_amount             2314019\n",
       "improvement_surcharge    2314019\n",
       "total_amount             2314019\n",
       "payment_type             2314019\n",
       "trip_type                2314013\n",
       "dispatch                 2314019\n",
       "PUT                      2314019\n",
       "DOT                      2314019\n",
       "date                     2314019\n",
       "PickUp_hr                2314019\n",
       "TMAX                     2314019\n",
       "day                      2314019\n",
       "month                    2314019\n",
       "dtype: int64"
      ]
     },
     "execution_count": 186,
     "metadata": {},
     "output_type": "execute_result"
    }
   ],
   "source": [
    "df.count()"
   ]
  },
  {
   "cell_type": "code",
   "execution_count": 187,
   "metadata": {
    "collapsed": true
   },
   "outputs": [],
   "source": [
    "df_time = df[['PUT', 'DOT']]"
   ]
  },
  {
   "cell_type": "code",
   "execution_count": 188,
   "metadata": {
    "collapsed": true,
    "scrolled": true
   },
   "outputs": [],
   "source": [
    "#df_time = df[.apply(pd.to_timedelta)"
   ]
  },
  {
   "cell_type": "markdown",
   "metadata": {},
   "source": [
    "## Creating another feature -- ride time "
   ]
  },
  {
   "cell_type": "code",
   "execution_count": 189,
   "metadata": {
    "collapsed": true
   },
   "outputs": [],
   "source": [
    "df_time = df_time.apply(pd.to_timedelta)"
   ]
  },
  {
   "cell_type": "code",
   "execution_count": 190,
   "metadata": {
    "collapsed": true
   },
   "outputs": [],
   "source": [
    "df_time_diff = df_time.DOT - df_time.PUT"
   ]
  },
  {
   "cell_type": "code",
   "execution_count": 191,
   "metadata": {
    "collapsed": true
   },
   "outputs": [],
   "source": [
    "df['ride_time'] = df_time.DOT - df_time.PUT"
   ]
  },
  {
   "cell_type": "code",
   "execution_count": 192,
   "metadata": {
    "scrolled": false
   },
   "outputs": [
    {
     "data": {
      "text/html": [
       "<div>\n",
       "<style>\n",
       "    .dataframe thead tr:only-child th {\n",
       "        text-align: right;\n",
       "    }\n",
       "\n",
       "    .dataframe thead th {\n",
       "        text-align: left;\n",
       "    }\n",
       "\n",
       "    .dataframe tbody tr th {\n",
       "        vertical-align: top;\n",
       "    }\n",
       "</style>\n",
       "<table border=\"1\" class=\"dataframe\">\n",
       "  <thead>\n",
       "    <tr style=\"text-align: right;\">\n",
       "      <th></th>\n",
       "      <th>VendorID</th>\n",
       "      <th>RatecodeID</th>\n",
       "      <th>PULocationID</th>\n",
       "      <th>DOLocationID</th>\n",
       "      <th>passenger_count</th>\n",
       "      <th>trip_distance</th>\n",
       "      <th>fare_amount</th>\n",
       "      <th>extra</th>\n",
       "      <th>mta_tax</th>\n",
       "      <th>tip_amount</th>\n",
       "      <th>...</th>\n",
       "      <th>trip_type</th>\n",
       "      <th>dispatch</th>\n",
       "      <th>PUT</th>\n",
       "      <th>DOT</th>\n",
       "      <th>date</th>\n",
       "      <th>PickUp_hr</th>\n",
       "      <th>TMAX</th>\n",
       "      <th>day</th>\n",
       "      <th>month</th>\n",
       "      <th>ride_time</th>\n",
       "    </tr>\n",
       "  </thead>\n",
       "  <tbody>\n",
       "    <tr>\n",
       "      <th>0</th>\n",
       "      <td>2</td>\n",
       "      <td>1</td>\n",
       "      <td>75</td>\n",
       "      <td>41</td>\n",
       "      <td>2</td>\n",
       "      <td>1.36</td>\n",
       "      <td>6.5</td>\n",
       "      <td>0.0</td>\n",
       "      <td>0.5</td>\n",
       "      <td>0.0</td>\n",
       "      <td>...</td>\n",
       "      <td>1.0</td>\n",
       "      <td>1</td>\n",
       "      <td>11:07:56</td>\n",
       "      <td>11:13:00</td>\n",
       "      <td>2017-01-06</td>\n",
       "      <td>11</td>\n",
       "      <td>33</td>\n",
       "      <td>6</td>\n",
       "      <td>1</td>\n",
       "      <td>00:05:04</td>\n",
       "    </tr>\n",
       "    <tr>\n",
       "      <th>1</th>\n",
       "      <td>2</td>\n",
       "      <td>1</td>\n",
       "      <td>65</td>\n",
       "      <td>217</td>\n",
       "      <td>1</td>\n",
       "      <td>2.90</td>\n",
       "      <td>14.5</td>\n",
       "      <td>0.0</td>\n",
       "      <td>0.5</td>\n",
       "      <td>0.0</td>\n",
       "      <td>...</td>\n",
       "      <td>1.0</td>\n",
       "      <td>1</td>\n",
       "      <td>11:01:58</td>\n",
       "      <td>11:20:35</td>\n",
       "      <td>2017-01-06</td>\n",
       "      <td>11</td>\n",
       "      <td>33</td>\n",
       "      <td>6</td>\n",
       "      <td>1</td>\n",
       "      <td>00:18:37</td>\n",
       "    </tr>\n",
       "    <tr>\n",
       "      <th>2</th>\n",
       "      <td>2</td>\n",
       "      <td>1</td>\n",
       "      <td>168</td>\n",
       "      <td>74</td>\n",
       "      <td>2</td>\n",
       "      <td>1.51</td>\n",
       "      <td>9.5</td>\n",
       "      <td>0.0</td>\n",
       "      <td>0.5</td>\n",
       "      <td>0.0</td>\n",
       "      <td>...</td>\n",
       "      <td>1.0</td>\n",
       "      <td>1</td>\n",
       "      <td>14:03:08</td>\n",
       "      <td>14:15:02</td>\n",
       "      <td>2017-01-06</td>\n",
       "      <td>14</td>\n",
       "      <td>33</td>\n",
       "      <td>6</td>\n",
       "      <td>1</td>\n",
       "      <td>00:11:54</td>\n",
       "    </tr>\n",
       "    <tr>\n",
       "      <th>3</th>\n",
       "      <td>2</td>\n",
       "      <td>1</td>\n",
       "      <td>173</td>\n",
       "      <td>129</td>\n",
       "      <td>1</td>\n",
       "      <td>1.00</td>\n",
       "      <td>6.0</td>\n",
       "      <td>0.5</td>\n",
       "      <td>0.5</td>\n",
       "      <td>1.0</td>\n",
       "      <td>...</td>\n",
       "      <td>1.0</td>\n",
       "      <td>1</td>\n",
       "      <td>06:01:10</td>\n",
       "      <td>06:06:28</td>\n",
       "      <td>2017-01-06</td>\n",
       "      <td>6</td>\n",
       "      <td>33</td>\n",
       "      <td>6</td>\n",
       "      <td>1</td>\n",
       "      <td>00:05:18</td>\n",
       "    </tr>\n",
       "    <tr>\n",
       "      <th>4</th>\n",
       "      <td>2</td>\n",
       "      <td>1</td>\n",
       "      <td>181</td>\n",
       "      <td>91</td>\n",
       "      <td>6</td>\n",
       "      <td>4.77</td>\n",
       "      <td>16.5</td>\n",
       "      <td>0.5</td>\n",
       "      <td>0.5</td>\n",
       "      <td>0.0</td>\n",
       "      <td>...</td>\n",
       "      <td>1.0</td>\n",
       "      <td>1</td>\n",
       "      <td>22:15:13</td>\n",
       "      <td>22:32:26</td>\n",
       "      <td>2017-01-06</td>\n",
       "      <td>22</td>\n",
       "      <td>33</td>\n",
       "      <td>6</td>\n",
       "      <td>1</td>\n",
       "      <td>00:17:13</td>\n",
       "    </tr>\n",
       "  </tbody>\n",
       "</table>\n",
       "<p>5 rows × 24 columns</p>\n",
       "</div>"
      ],
      "text/plain": [
       "   VendorID  RatecodeID  PULocationID  DOLocationID  passenger_count  \\\n",
       "0         2           1            75            41                2   \n",
       "1         2           1            65           217                1   \n",
       "2         2           1           168            74                2   \n",
       "3         2           1           173           129                1   \n",
       "4         2           1           181            91                6   \n",
       "\n",
       "   trip_distance  fare_amount  extra  mta_tax  tip_amount    ...      \\\n",
       "0           1.36          6.5    0.0      0.5         0.0    ...       \n",
       "1           2.90         14.5    0.0      0.5         0.0    ...       \n",
       "2           1.51          9.5    0.0      0.5         0.0    ...       \n",
       "3           1.00          6.0    0.5      0.5         1.0    ...       \n",
       "4           4.77         16.5    0.5      0.5         0.0    ...       \n",
       "\n",
       "   trip_type  dispatch       PUT       DOT        date  PickUp_hr TMAX day  \\\n",
       "0        1.0         1  11:07:56  11:13:00  2017-01-06         11   33   6   \n",
       "1        1.0         1  11:01:58  11:20:35  2017-01-06         11   33   6   \n",
       "2        1.0         1  14:03:08  14:15:02  2017-01-06         14   33   6   \n",
       "3        1.0         1  06:01:10  06:06:28  2017-01-06          6   33   6   \n",
       "4        1.0         1  22:15:13  22:32:26  2017-01-06         22   33   6   \n",
       "\n",
       "  month  ride_time  \n",
       "0     1   00:05:04  \n",
       "1     1   00:18:37  \n",
       "2     1   00:11:54  \n",
       "3     1   00:05:18  \n",
       "4     1   00:17:13  \n",
       "\n",
       "[5 rows x 24 columns]"
      ]
     },
     "execution_count": 192,
     "metadata": {},
     "output_type": "execute_result"
    }
   ],
   "source": [
    "df.head()"
   ]
  },
  {
   "cell_type": "code",
   "execution_count": 193,
   "metadata": {},
   "outputs": [
    {
     "data": {
      "text/plain": [
       "VendorID                 2314019\n",
       "RatecodeID               2314019\n",
       "PULocationID             2314019\n",
       "DOLocationID             2314019\n",
       "passenger_count          2314019\n",
       "trip_distance            2314019\n",
       "fare_amount              2314019\n",
       "extra                    2314019\n",
       "mta_tax                  2314019\n",
       "tip_amount               2314019\n",
       "tolls_amount             2314019\n",
       "improvement_surcharge    2314019\n",
       "total_amount             2314019\n",
       "payment_type             2314019\n",
       "trip_type                2314013\n",
       "dispatch                 2314019\n",
       "PUT                      2314019\n",
       "DOT                      2314019\n",
       "date                     2314019\n",
       "PickUp_hr                2314019\n",
       "TMAX                     2314019\n",
       "day                      2314019\n",
       "month                    2314019\n",
       "ride_time                2314019\n",
       "dtype: int64"
      ]
     },
     "execution_count": 193,
     "metadata": {},
     "output_type": "execute_result"
    }
   ],
   "source": [
    "df.count()"
   ]
  },
  {
   "cell_type": "code",
   "execution_count": 194,
   "metadata": {
    "collapsed": true
   },
   "outputs": [],
   "source": [
    "# saving memory\n",
    "del df_time\n",
    "del df_time_diff"
   ]
  },
  {
   "cell_type": "code",
   "execution_count": 195,
   "metadata": {
    "collapsed": true
   },
   "outputs": [],
   "source": [
    "df['ride_time_sec'] = df['ride_time'].dt.total_seconds()"
   ]
  },
  {
   "cell_type": "code",
   "execution_count": 196,
   "metadata": {
    "scrolled": true
   },
   "outputs": [
    {
     "data": {
      "text/html": [
       "<div>\n",
       "<style>\n",
       "    .dataframe thead tr:only-child th {\n",
       "        text-align: right;\n",
       "    }\n",
       "\n",
       "    .dataframe thead th {\n",
       "        text-align: left;\n",
       "    }\n",
       "\n",
       "    .dataframe tbody tr th {\n",
       "        vertical-align: top;\n",
       "    }\n",
       "</style>\n",
       "<table border=\"1\" class=\"dataframe\">\n",
       "  <thead>\n",
       "    <tr style=\"text-align: right;\">\n",
       "      <th></th>\n",
       "      <th>VendorID</th>\n",
       "      <th>RatecodeID</th>\n",
       "      <th>PULocationID</th>\n",
       "      <th>DOLocationID</th>\n",
       "      <th>passenger_count</th>\n",
       "      <th>trip_distance</th>\n",
       "      <th>fare_amount</th>\n",
       "      <th>extra</th>\n",
       "      <th>mta_tax</th>\n",
       "      <th>tip_amount</th>\n",
       "      <th>...</th>\n",
       "      <th>dispatch</th>\n",
       "      <th>PUT</th>\n",
       "      <th>DOT</th>\n",
       "      <th>date</th>\n",
       "      <th>PickUp_hr</th>\n",
       "      <th>TMAX</th>\n",
       "      <th>day</th>\n",
       "      <th>month</th>\n",
       "      <th>ride_time</th>\n",
       "      <th>ride_time_sec</th>\n",
       "    </tr>\n",
       "  </thead>\n",
       "  <tbody>\n",
       "    <tr>\n",
       "      <th>0</th>\n",
       "      <td>2</td>\n",
       "      <td>1</td>\n",
       "      <td>75</td>\n",
       "      <td>41</td>\n",
       "      <td>2</td>\n",
       "      <td>1.36</td>\n",
       "      <td>6.5</td>\n",
       "      <td>0.0</td>\n",
       "      <td>0.5</td>\n",
       "      <td>0.0</td>\n",
       "      <td>...</td>\n",
       "      <td>1</td>\n",
       "      <td>11:07:56</td>\n",
       "      <td>11:13:00</td>\n",
       "      <td>2017-01-06</td>\n",
       "      <td>11</td>\n",
       "      <td>33</td>\n",
       "      <td>6</td>\n",
       "      <td>1</td>\n",
       "      <td>00:05:04</td>\n",
       "      <td>304.0</td>\n",
       "    </tr>\n",
       "    <tr>\n",
       "      <th>1</th>\n",
       "      <td>2</td>\n",
       "      <td>1</td>\n",
       "      <td>65</td>\n",
       "      <td>217</td>\n",
       "      <td>1</td>\n",
       "      <td>2.90</td>\n",
       "      <td>14.5</td>\n",
       "      <td>0.0</td>\n",
       "      <td>0.5</td>\n",
       "      <td>0.0</td>\n",
       "      <td>...</td>\n",
       "      <td>1</td>\n",
       "      <td>11:01:58</td>\n",
       "      <td>11:20:35</td>\n",
       "      <td>2017-01-06</td>\n",
       "      <td>11</td>\n",
       "      <td>33</td>\n",
       "      <td>6</td>\n",
       "      <td>1</td>\n",
       "      <td>00:18:37</td>\n",
       "      <td>1117.0</td>\n",
       "    </tr>\n",
       "    <tr>\n",
       "      <th>2</th>\n",
       "      <td>2</td>\n",
       "      <td>1</td>\n",
       "      <td>168</td>\n",
       "      <td>74</td>\n",
       "      <td>2</td>\n",
       "      <td>1.51</td>\n",
       "      <td>9.5</td>\n",
       "      <td>0.0</td>\n",
       "      <td>0.5</td>\n",
       "      <td>0.0</td>\n",
       "      <td>...</td>\n",
       "      <td>1</td>\n",
       "      <td>14:03:08</td>\n",
       "      <td>14:15:02</td>\n",
       "      <td>2017-01-06</td>\n",
       "      <td>14</td>\n",
       "      <td>33</td>\n",
       "      <td>6</td>\n",
       "      <td>1</td>\n",
       "      <td>00:11:54</td>\n",
       "      <td>714.0</td>\n",
       "    </tr>\n",
       "    <tr>\n",
       "      <th>3</th>\n",
       "      <td>2</td>\n",
       "      <td>1</td>\n",
       "      <td>173</td>\n",
       "      <td>129</td>\n",
       "      <td>1</td>\n",
       "      <td>1.00</td>\n",
       "      <td>6.0</td>\n",
       "      <td>0.5</td>\n",
       "      <td>0.5</td>\n",
       "      <td>1.0</td>\n",
       "      <td>...</td>\n",
       "      <td>1</td>\n",
       "      <td>06:01:10</td>\n",
       "      <td>06:06:28</td>\n",
       "      <td>2017-01-06</td>\n",
       "      <td>6</td>\n",
       "      <td>33</td>\n",
       "      <td>6</td>\n",
       "      <td>1</td>\n",
       "      <td>00:05:18</td>\n",
       "      <td>318.0</td>\n",
       "    </tr>\n",
       "    <tr>\n",
       "      <th>4</th>\n",
       "      <td>2</td>\n",
       "      <td>1</td>\n",
       "      <td>181</td>\n",
       "      <td>91</td>\n",
       "      <td>6</td>\n",
       "      <td>4.77</td>\n",
       "      <td>16.5</td>\n",
       "      <td>0.5</td>\n",
       "      <td>0.5</td>\n",
       "      <td>0.0</td>\n",
       "      <td>...</td>\n",
       "      <td>1</td>\n",
       "      <td>22:15:13</td>\n",
       "      <td>22:32:26</td>\n",
       "      <td>2017-01-06</td>\n",
       "      <td>22</td>\n",
       "      <td>33</td>\n",
       "      <td>6</td>\n",
       "      <td>1</td>\n",
       "      <td>00:17:13</td>\n",
       "      <td>1033.0</td>\n",
       "    </tr>\n",
       "  </tbody>\n",
       "</table>\n",
       "<p>5 rows × 25 columns</p>\n",
       "</div>"
      ],
      "text/plain": [
       "   VendorID  RatecodeID  PULocationID  DOLocationID  passenger_count  \\\n",
       "0         2           1            75            41                2   \n",
       "1         2           1            65           217                1   \n",
       "2         2           1           168            74                2   \n",
       "3         2           1           173           129                1   \n",
       "4         2           1           181            91                6   \n",
       "\n",
       "   trip_distance  fare_amount  extra  mta_tax  tip_amount      ...        \\\n",
       "0           1.36          6.5    0.0      0.5         0.0      ...         \n",
       "1           2.90         14.5    0.0      0.5         0.0      ...         \n",
       "2           1.51          9.5    0.0      0.5         0.0      ...         \n",
       "3           1.00          6.0    0.5      0.5         1.0      ...         \n",
       "4           4.77         16.5    0.5      0.5         0.0      ...         \n",
       "\n",
       "   dispatch       PUT       DOT        date  PickUp_hr  TMAX day month  \\\n",
       "0         1  11:07:56  11:13:00  2017-01-06         11    33   6     1   \n",
       "1         1  11:01:58  11:20:35  2017-01-06         11    33   6     1   \n",
       "2         1  14:03:08  14:15:02  2017-01-06         14    33   6     1   \n",
       "3         1  06:01:10  06:06:28  2017-01-06          6    33   6     1   \n",
       "4         1  22:15:13  22:32:26  2017-01-06         22    33   6     1   \n",
       "\n",
       "  ride_time  ride_time_sec  \n",
       "0  00:05:04          304.0  \n",
       "1  00:18:37         1117.0  \n",
       "2  00:11:54          714.0  \n",
       "3  00:05:18          318.0  \n",
       "4  00:17:13         1033.0  \n",
       "\n",
       "[5 rows x 25 columns]"
      ]
     },
     "execution_count": 196,
     "metadata": {},
     "output_type": "execute_result"
    }
   ],
   "source": [
    "df.head()"
   ]
  },
  {
   "cell_type": "code",
   "execution_count": 197,
   "metadata": {},
   "outputs": [
    {
     "data": {
      "text/plain": [
       "VendorID                 2314019\n",
       "RatecodeID               2314019\n",
       "PULocationID             2314019\n",
       "DOLocationID             2314019\n",
       "passenger_count          2314019\n",
       "trip_distance            2314019\n",
       "fare_amount              2314019\n",
       "extra                    2314019\n",
       "mta_tax                  2314019\n",
       "tip_amount               2314019\n",
       "tolls_amount             2314019\n",
       "improvement_surcharge    2314019\n",
       "total_amount             2314019\n",
       "payment_type             2314019\n",
       "trip_type                2314013\n",
       "dispatch                 2314019\n",
       "PUT                      2314019\n",
       "DOT                      2314019\n",
       "date                     2314019\n",
       "PickUp_hr                2314019\n",
       "TMAX                     2314019\n",
       "day                      2314019\n",
       "month                    2314019\n",
       "ride_time                2314019\n",
       "ride_time_sec            2314019\n",
       "dtype: int64"
      ]
     },
     "execution_count": 197,
     "metadata": {},
     "output_type": "execute_result"
    }
   ],
   "source": [
    "df.count()"
   ]
  },
  {
   "cell_type": "markdown",
   "metadata": {},
   "source": [
    "### Checking for the rides with more than 1 hr long"
   ]
  },
  {
   "cell_type": "code",
   "execution_count": 198,
   "metadata": {
    "collapsed": true,
    "scrolled": false
   },
   "outputs": [],
   "source": [
    "#df.loc[df['ride_time'].idxmax()]\n",
    "df_time_over_1hr = df[df['ride_time_sec'] > 3600.00]#.count()"
   ]
  },
  {
   "cell_type": "code",
   "execution_count": 199,
   "metadata": {
    "collapsed": true
   },
   "outputs": [],
   "source": [
    "#plt.plot(df['ride_time'].dt.total_seconds()/3600)"
   ]
  },
  {
   "cell_type": "code",
   "execution_count": 200,
   "metadata": {
    "collapsed": true
   },
   "outputs": [],
   "source": [
    "#df['ride_time']"
   ]
  },
  {
   "cell_type": "code",
   "execution_count": 201,
   "metadata": {
    "scrolled": false
   },
   "outputs": [
    {
     "data": {
      "text/plain": [
       "<matplotlib.text.Text at 0x1a2e8f0e48>"
      ]
     },
     "execution_count": 201,
     "metadata": {},
     "output_type": "execute_result"
    },
    {
     "data": {
      "image/png": "[encoded data removed]",
      "text/plain": [
       "<matplotlib.figure.Figure at 0x1a2e3ab630>"
      ]
     },
     "metadata": {},
     "output_type": "display_data"
    }
   ],
   "source": [
    "plt.scatter(df_time_over_1hr.ride_time_sec/3600, df_time_over_1hr.fare_amount)\n",
    "plt.ylim(0,500)\n",
    "plt.xlabel('Taxi meter time / hours')\n",
    "plt.ylabel('Fare amount ($)')"
   ]
  },
  {
   "cell_type": "code",
   "execution_count": null,
   "metadata": {
    "collapsed": true
   },
   "outputs": [],
   "source": []
  },
  {
   "cell_type": "code",
   "execution_count": null,
   "metadata": {
    "collapsed": true
   },
   "outputs": [],
   "source": []
  },
  {
   "cell_type": "markdown",
   "metadata": {},
   "source": [
    "### Checking for the rides with under 1 hr long"
   ]
  },
  {
   "cell_type": "code",
   "execution_count": 202,
   "metadata": {
    "collapsed": true
   },
   "outputs": [],
   "source": [
    "#Checking for the time with \n",
    "df_time_under_1hr = df[df['ride_time_sec'] < 3600.00]#.count()"
   ]
  },
  {
   "cell_type": "code",
   "execution_count": 203,
   "metadata": {},
   "outputs": [
    {
     "data": {
      "text/plain": [
       "<matplotlib.text.Text at 0x1a2efae7b8>"
      ]
     },
     "execution_count": 203,
     "metadata": {},
     "output_type": "execute_result"
    },
    {
     "data": {
      "image/png": "[encoded data removed]",
      "text/plain": [
       "<matplotlib.figure.Figure at 0x1a2ef7f390>"
      ]
     },
     "metadata": {},
     "output_type": "display_data"
    }
   ],
   "source": [
    "plt.scatter(df_time_under_1hr.ride_time_sec/3600, df_time_under_1hr.fare_amount)\n",
    "#plt.ylim(0,500)\n",
    "plt.xlabel('Taxi meter time / hours')\n",
    "plt.ylabel('Fare amount ($)')"
   ]
  },
  {
   "cell_type": "markdown",
   "metadata": {},
   "source": [
    "### So, we have some strange entries, getting rid of the rides longer than 1 hr, less than 0 hr and all those with negative fare and fare above 500 dollars and of less time (e.g. 1 min) "
   ]
  },
  {
   "cell_type": "code",
   "execution_count": 204,
   "metadata": {},
   "outputs": [
    {
     "data": {
      "text/plain": [
       "VendorID                 2314019\n",
       "RatecodeID               2314019\n",
       "PULocationID             2314019\n",
       "DOLocationID             2314019\n",
       "passenger_count          2314019\n",
       "trip_distance            2314019\n",
       "fare_amount              2314019\n",
       "extra                    2314019\n",
       "mta_tax                  2314019\n",
       "tip_amount               2314019\n",
       "tolls_amount             2314019\n",
       "improvement_surcharge    2314019\n",
       "total_amount             2314019\n",
       "payment_type             2314019\n",
       "trip_type                2314013\n",
       "dispatch                 2314019\n",
       "PUT                      2314019\n",
       "DOT                      2314019\n",
       "date                     2314019\n",
       "PickUp_hr                2314019\n",
       "TMAX                     2314019\n",
       "day                      2314019\n",
       "month                    2314019\n",
       "ride_time                2314019\n",
       "ride_time_sec            2314019\n",
       "dtype: int64"
      ]
     },
     "execution_count": 204,
     "metadata": {},
     "output_type": "execute_result"
    }
   ],
   "source": [
    "df.count()"
   ]
  },
  {
   "cell_type": "code",
   "execution_count": 205,
   "metadata": {
    "collapsed": true
   },
   "outputs": [],
   "source": [
    "# saving memory\n",
    "del df_time_under_1hr\n",
    "del df_time_over_1hr"
   ]
  },
  {
   "cell_type": "code",
   "execution_count": 206,
   "metadata": {
    "collapsed": true
   },
   "outputs": [],
   "source": [
    "# saving in middle to save time, in case the kernal is broken\n",
    "#df.to_csv('mid_way.csv', index=False)"
   ]
  },
  {
   "cell_type": "code",
   "execution_count": 207,
   "metadata": {
    "collapsed": true
   },
   "outputs": [],
   "source": [
    "#df.head()"
   ]
  },
  {
   "cell_type": "code",
   "execution_count": 208,
   "metadata": {
    "collapsed": true,
    "scrolled": true
   },
   "outputs": [],
   "source": [
    "#df = pd.read_csv('mid_way.csv')\n",
    "#df.head()"
   ]
  },
  {
   "cell_type": "code",
   "execution_count": 209,
   "metadata": {
    "scrolled": true
   },
   "outputs": [
    {
     "data": {
      "text/html": [
       "<div>\n",
       "<style>\n",
       "    .dataframe thead tr:only-child th {\n",
       "        text-align: right;\n",
       "    }\n",
       "\n",
       "    .dataframe thead th {\n",
       "        text-align: left;\n",
       "    }\n",
       "\n",
       "    .dataframe tbody tr th {\n",
       "        vertical-align: top;\n",
       "    }\n",
       "</style>\n",
       "<table border=\"1\" class=\"dataframe\">\n",
       "  <thead>\n",
       "    <tr style=\"text-align: right;\">\n",
       "      <th></th>\n",
       "      <th>VendorID</th>\n",
       "      <th>RatecodeID</th>\n",
       "      <th>PULocationID</th>\n",
       "      <th>DOLocationID</th>\n",
       "      <th>passenger_count</th>\n",
       "      <th>trip_distance</th>\n",
       "      <th>fare_amount</th>\n",
       "      <th>extra</th>\n",
       "      <th>mta_tax</th>\n",
       "      <th>tip_amount</th>\n",
       "      <th>...</th>\n",
       "      <th>trip_type</th>\n",
       "      <th>dispatch</th>\n",
       "      <th>PUT</th>\n",
       "      <th>DOT</th>\n",
       "      <th>date</th>\n",
       "      <th>PickUp_hr</th>\n",
       "      <th>TMAX</th>\n",
       "      <th>day</th>\n",
       "      <th>month</th>\n",
       "      <th>ride_time_sec</th>\n",
       "    </tr>\n",
       "  </thead>\n",
       "  <tbody>\n",
       "    <tr>\n",
       "      <th>0</th>\n",
       "      <td>2</td>\n",
       "      <td>1</td>\n",
       "      <td>75</td>\n",
       "      <td>41</td>\n",
       "      <td>2</td>\n",
       "      <td>1.36</td>\n",
       "      <td>6.5</td>\n",
       "      <td>0.0</td>\n",
       "      <td>0.5</td>\n",
       "      <td>0.0</td>\n",
       "      <td>...</td>\n",
       "      <td>1.0</td>\n",
       "      <td>1</td>\n",
       "      <td>11:07:56</td>\n",
       "      <td>11:13:00</td>\n",
       "      <td>2017-01-06</td>\n",
       "      <td>11</td>\n",
       "      <td>33</td>\n",
       "      <td>6</td>\n",
       "      <td>1</td>\n",
       "      <td>304.0</td>\n",
       "    </tr>\n",
       "    <tr>\n",
       "      <th>1</th>\n",
       "      <td>2</td>\n",
       "      <td>1</td>\n",
       "      <td>65</td>\n",
       "      <td>217</td>\n",
       "      <td>1</td>\n",
       "      <td>2.90</td>\n",
       "      <td>14.5</td>\n",
       "      <td>0.0</td>\n",
       "      <td>0.5</td>\n",
       "      <td>0.0</td>\n",
       "      <td>...</td>\n",
       "      <td>1.0</td>\n",
       "      <td>1</td>\n",
       "      <td>11:01:58</td>\n",
       "      <td>11:20:35</td>\n",
       "      <td>2017-01-06</td>\n",
       "      <td>11</td>\n",
       "      <td>33</td>\n",
       "      <td>6</td>\n",
       "      <td>1</td>\n",
       "      <td>1117.0</td>\n",
       "    </tr>\n",
       "    <tr>\n",
       "      <th>2</th>\n",
       "      <td>2</td>\n",
       "      <td>1</td>\n",
       "      <td>168</td>\n",
       "      <td>74</td>\n",
       "      <td>2</td>\n",
       "      <td>1.51</td>\n",
       "      <td>9.5</td>\n",
       "      <td>0.0</td>\n",
       "      <td>0.5</td>\n",
       "      <td>0.0</td>\n",
       "      <td>...</td>\n",
       "      <td>1.0</td>\n",
       "      <td>1</td>\n",
       "      <td>14:03:08</td>\n",
       "      <td>14:15:02</td>\n",
       "      <td>2017-01-06</td>\n",
       "      <td>14</td>\n",
       "      <td>33</td>\n",
       "      <td>6</td>\n",
       "      <td>1</td>\n",
       "      <td>714.0</td>\n",
       "    </tr>\n",
       "    <tr>\n",
       "      <th>3</th>\n",
       "      <td>2</td>\n",
       "      <td>1</td>\n",
       "      <td>173</td>\n",
       "      <td>129</td>\n",
       "      <td>1</td>\n",
       "      <td>1.00</td>\n",
       "      <td>6.0</td>\n",
       "      <td>0.5</td>\n",
       "      <td>0.5</td>\n",
       "      <td>1.0</td>\n",
       "      <td>...</td>\n",
       "      <td>1.0</td>\n",
       "      <td>1</td>\n",
       "      <td>06:01:10</td>\n",
       "      <td>06:06:28</td>\n",
       "      <td>2017-01-06</td>\n",
       "      <td>6</td>\n",
       "      <td>33</td>\n",
       "      <td>6</td>\n",
       "      <td>1</td>\n",
       "      <td>318.0</td>\n",
       "    </tr>\n",
       "    <tr>\n",
       "      <th>4</th>\n",
       "      <td>2</td>\n",
       "      <td>1</td>\n",
       "      <td>181</td>\n",
       "      <td>91</td>\n",
       "      <td>6</td>\n",
       "      <td>4.77</td>\n",
       "      <td>16.5</td>\n",
       "      <td>0.5</td>\n",
       "      <td>0.5</td>\n",
       "      <td>0.0</td>\n",
       "      <td>...</td>\n",
       "      <td>1.0</td>\n",
       "      <td>1</td>\n",
       "      <td>22:15:13</td>\n",
       "      <td>22:32:26</td>\n",
       "      <td>2017-01-06</td>\n",
       "      <td>22</td>\n",
       "      <td>33</td>\n",
       "      <td>6</td>\n",
       "      <td>1</td>\n",
       "      <td>1033.0</td>\n",
       "    </tr>\n",
       "  </tbody>\n",
       "</table>\n",
       "<p>5 rows × 24 columns</p>\n",
       "</div>"
      ],
      "text/plain": [
       "   VendorID  RatecodeID  PULocationID  DOLocationID  passenger_count  \\\n",
       "0         2           1            75            41                2   \n",
       "1         2           1            65           217                1   \n",
       "2         2           1           168            74                2   \n",
       "3         2           1           173           129                1   \n",
       "4         2           1           181            91                6   \n",
       "\n",
       "   trip_distance  fare_amount  extra  mta_tax  tip_amount      ...        \\\n",
       "0           1.36          6.5    0.0      0.5         0.0      ...         \n",
       "1           2.90         14.5    0.0      0.5         0.0      ...         \n",
       "2           1.51          9.5    0.0      0.5         0.0      ...         \n",
       "3           1.00          6.0    0.5      0.5         1.0      ...         \n",
       "4           4.77         16.5    0.5      0.5         0.0      ...         \n",
       "\n",
       "   trip_type  dispatch       PUT       DOT        date  PickUp_hr TMAX day  \\\n",
       "0        1.0         1  11:07:56  11:13:00  2017-01-06         11   33   6   \n",
       "1        1.0         1  11:01:58  11:20:35  2017-01-06         11   33   6   \n",
       "2        1.0         1  14:03:08  14:15:02  2017-01-06         14   33   6   \n",
       "3        1.0         1  06:01:10  06:06:28  2017-01-06          6   33   6   \n",
       "4        1.0         1  22:15:13  22:32:26  2017-01-06         22   33   6   \n",
       "\n",
       "  month  ride_time_sec  \n",
       "0     1          304.0  \n",
       "1     1         1117.0  \n",
       "2     1          714.0  \n",
       "3     1          318.0  \n",
       "4     1         1033.0  \n",
       "\n",
       "[5 rows x 24 columns]"
      ]
     },
     "execution_count": 209,
     "metadata": {},
     "output_type": "execute_result"
    }
   ],
   "source": [
    "df = df.drop('ride_time', axis = 1)\n",
    "df.head()"
   ]
  },
  {
   "cell_type": "code",
   "execution_count": 210,
   "metadata": {
    "scrolled": false
   },
   "outputs": [
    {
     "data": {
      "text/plain": [
       "VendorID                 2314019\n",
       "RatecodeID               2314019\n",
       "PULocationID             2314019\n",
       "DOLocationID             2314019\n",
       "passenger_count          2314019\n",
       "trip_distance            2314019\n",
       "fare_amount              2314019\n",
       "extra                    2314019\n",
       "mta_tax                  2314019\n",
       "tip_amount               2314019\n",
       "tolls_amount             2314019\n",
       "improvement_surcharge    2314019\n",
       "total_amount             2314019\n",
       "payment_type             2314019\n",
       "trip_type                2314013\n",
       "dispatch                 2314019\n",
       "PUT                      2314019\n",
       "DOT                      2314019\n",
       "date                     2314019\n",
       "PickUp_hr                2314019\n",
       "TMAX                     2314019\n",
       "day                      2314019\n",
       "month                    2314019\n",
       "ride_time_sec            2314019\n",
       "dtype: int64"
      ]
     },
     "execution_count": 210,
     "metadata": {},
     "output_type": "execute_result"
    }
   ],
   "source": [
    "df.count()"
   ]
  },
  {
   "cell_type": "markdown",
   "metadata": {},
   "source": [
    "# saving a file in case kernel issue"
   ]
  },
  {
   "cell_type": "code",
   "execution_count": 211,
   "metadata": {},
   "outputs": [
    {
     "data": {
      "text/html": [
       "<div>\n",
       "<style>\n",
       "    .dataframe thead tr:only-child th {\n",
       "        text-align: right;\n",
       "    }\n",
       "\n",
       "    .dataframe thead th {\n",
       "        text-align: left;\n",
       "    }\n",
       "\n",
       "    .dataframe tbody tr th {\n",
       "        vertical-align: top;\n",
       "    }\n",
       "</style>\n",
       "<table border=\"1\" class=\"dataframe\">\n",
       "  <thead>\n",
       "    <tr style=\"text-align: right;\">\n",
       "      <th></th>\n",
       "      <th>VendorID</th>\n",
       "      <th>RatecodeID</th>\n",
       "      <th>PULocationID</th>\n",
       "      <th>DOLocationID</th>\n",
       "      <th>passenger_count</th>\n",
       "      <th>trip_distance</th>\n",
       "      <th>fare_amount</th>\n",
       "      <th>extra</th>\n",
       "      <th>mta_tax</th>\n",
       "      <th>tip_amount</th>\n",
       "      <th>...</th>\n",
       "      <th>trip_type</th>\n",
       "      <th>dispatch</th>\n",
       "      <th>PUT</th>\n",
       "      <th>DOT</th>\n",
       "      <th>date</th>\n",
       "      <th>PickUp_hr</th>\n",
       "      <th>TMAX</th>\n",
       "      <th>day</th>\n",
       "      <th>month</th>\n",
       "      <th>ride_time_sec</th>\n",
       "    </tr>\n",
       "  </thead>\n",
       "  <tbody>\n",
       "    <tr>\n",
       "      <th>0</th>\n",
       "      <td>2</td>\n",
       "      <td>1</td>\n",
       "      <td>75</td>\n",
       "      <td>41</td>\n",
       "      <td>2</td>\n",
       "      <td>1.36</td>\n",
       "      <td>6.5</td>\n",
       "      <td>0.0</td>\n",
       "      <td>0.5</td>\n",
       "      <td>0.0</td>\n",
       "      <td>...</td>\n",
       "      <td>1.0</td>\n",
       "      <td>1</td>\n",
       "      <td>11:07:56</td>\n",
       "      <td>11:13:00</td>\n",
       "      <td>2017-01-06</td>\n",
       "      <td>11</td>\n",
       "      <td>33</td>\n",
       "      <td>6</td>\n",
       "      <td>1</td>\n",
       "      <td>304.0</td>\n",
       "    </tr>\n",
       "    <tr>\n",
       "      <th>1</th>\n",
       "      <td>2</td>\n",
       "      <td>1</td>\n",
       "      <td>65</td>\n",
       "      <td>217</td>\n",
       "      <td>1</td>\n",
       "      <td>2.90</td>\n",
       "      <td>14.5</td>\n",
       "      <td>0.0</td>\n",
       "      <td>0.5</td>\n",
       "      <td>0.0</td>\n",
       "      <td>...</td>\n",
       "      <td>1.0</td>\n",
       "      <td>1</td>\n",
       "      <td>11:01:58</td>\n",
       "      <td>11:20:35</td>\n",
       "      <td>2017-01-06</td>\n",
       "      <td>11</td>\n",
       "      <td>33</td>\n",
       "      <td>6</td>\n",
       "      <td>1</td>\n",
       "      <td>1117.0</td>\n",
       "    </tr>\n",
       "    <tr>\n",
       "      <th>2</th>\n",
       "      <td>2</td>\n",
       "      <td>1</td>\n",
       "      <td>168</td>\n",
       "      <td>74</td>\n",
       "      <td>2</td>\n",
       "      <td>1.51</td>\n",
       "      <td>9.5</td>\n",
       "      <td>0.0</td>\n",
       "      <td>0.5</td>\n",
       "      <td>0.0</td>\n",
       "      <td>...</td>\n",
       "      <td>1.0</td>\n",
       "      <td>1</td>\n",
       "      <td>14:03:08</td>\n",
       "      <td>14:15:02</td>\n",
       "      <td>2017-01-06</td>\n",
       "      <td>14</td>\n",
       "      <td>33</td>\n",
       "      <td>6</td>\n",
       "      <td>1</td>\n",
       "      <td>714.0</td>\n",
       "    </tr>\n",
       "    <tr>\n",
       "      <th>3</th>\n",
       "      <td>2</td>\n",
       "      <td>1</td>\n",
       "      <td>173</td>\n",
       "      <td>129</td>\n",
       "      <td>1</td>\n",
       "      <td>1.00</td>\n",
       "      <td>6.0</td>\n",
       "      <td>0.5</td>\n",
       "      <td>0.5</td>\n",
       "      <td>1.0</td>\n",
       "      <td>...</td>\n",
       "      <td>1.0</td>\n",
       "      <td>1</td>\n",
       "      <td>06:01:10</td>\n",
       "      <td>06:06:28</td>\n",
       "      <td>2017-01-06</td>\n",
       "      <td>6</td>\n",
       "      <td>33</td>\n",
       "      <td>6</td>\n",
       "      <td>1</td>\n",
       "      <td>318.0</td>\n",
       "    </tr>\n",
       "    <tr>\n",
       "      <th>4</th>\n",
       "      <td>2</td>\n",
       "      <td>1</td>\n",
       "      <td>181</td>\n",
       "      <td>91</td>\n",
       "      <td>6</td>\n",
       "      <td>4.77</td>\n",
       "      <td>16.5</td>\n",
       "      <td>0.5</td>\n",
       "      <td>0.5</td>\n",
       "      <td>0.0</td>\n",
       "      <td>...</td>\n",
       "      <td>1.0</td>\n",
       "      <td>1</td>\n",
       "      <td>22:15:13</td>\n",
       "      <td>22:32:26</td>\n",
       "      <td>2017-01-06</td>\n",
       "      <td>22</td>\n",
       "      <td>33</td>\n",
       "      <td>6</td>\n",
       "      <td>1</td>\n",
       "      <td>1033.0</td>\n",
       "    </tr>\n",
       "  </tbody>\n",
       "</table>\n",
       "<p>5 rows × 24 columns</p>\n",
       "</div>"
      ],
      "text/plain": [
       "   VendorID  RatecodeID  PULocationID  DOLocationID  passenger_count  \\\n",
       "0         2           1            75            41                2   \n",
       "1         2           1            65           217                1   \n",
       "2         2           1           168            74                2   \n",
       "3         2           1           173           129                1   \n",
       "4         2           1           181            91                6   \n",
       "\n",
       "   trip_distance  fare_amount  extra  mta_tax  tip_amount      ...        \\\n",
       "0           1.36          6.5    0.0      0.5         0.0      ...         \n",
       "1           2.90         14.5    0.0      0.5         0.0      ...         \n",
       "2           1.51          9.5    0.0      0.5         0.0      ...         \n",
       "3           1.00          6.0    0.5      0.5         1.0      ...         \n",
       "4           4.77         16.5    0.5      0.5         0.0      ...         \n",
       "\n",
       "   trip_type  dispatch       PUT       DOT        date  PickUp_hr TMAX day  \\\n",
       "0        1.0         1  11:07:56  11:13:00  2017-01-06         11   33   6   \n",
       "1        1.0         1  11:01:58  11:20:35  2017-01-06         11   33   6   \n",
       "2        1.0         1  14:03:08  14:15:02  2017-01-06         14   33   6   \n",
       "3        1.0         1  06:01:10  06:06:28  2017-01-06          6   33   6   \n",
       "4        1.0         1  22:15:13  22:32:26  2017-01-06         22   33   6   \n",
       "\n",
       "  month  ride_time_sec  \n",
       "0     1          304.0  \n",
       "1     1         1117.0  \n",
       "2     1          714.0  \n",
       "3     1          318.0  \n",
       "4     1         1033.0  \n",
       "\n",
       "[5 rows x 24 columns]"
      ]
     },
     "execution_count": 211,
     "metadata": {},
     "output_type": "execute_result"
    }
   ],
   "source": [
    "# saving in middle to save time, in case the kernal is broken\n",
    "df.to_csv('mid_way.csv', index=False)"
   ]
  },
  {
   "cell_type": "code",
   "execution_count": 302,
   "metadata": {},
   "outputs": [
    {
     "data": {
      "text/html": [
       "<div>\n",
       "<style>\n",
       "    .dataframe thead tr:only-child th {\n",
       "        text-align: right;\n",
       "    }\n",
       "\n",
       "    .dataframe thead th {\n",
       "        text-align: left;\n",
       "    }\n",
       "\n",
       "    .dataframe tbody tr th {\n",
       "        vertical-align: top;\n",
       "    }\n",
       "</style>\n",
       "<table border=\"1\" class=\"dataframe\">\n",
       "  <thead>\n",
       "    <tr style=\"text-align: right;\">\n",
       "      <th></th>\n",
       "      <th>VendorID</th>\n",
       "      <th>RatecodeID</th>\n",
       "      <th>PULocationID</th>\n",
       "      <th>DOLocationID</th>\n",
       "      <th>passenger_count</th>\n",
       "      <th>trip_distance</th>\n",
       "      <th>fare_amount</th>\n",
       "      <th>extra</th>\n",
       "      <th>mta_tax</th>\n",
       "      <th>tip_amount</th>\n",
       "      <th>...</th>\n",
       "      <th>trip_type</th>\n",
       "      <th>dispatch</th>\n",
       "      <th>PUT</th>\n",
       "      <th>DOT</th>\n",
       "      <th>date</th>\n",
       "      <th>PickUp_hr</th>\n",
       "      <th>TMAX</th>\n",
       "      <th>day</th>\n",
       "      <th>month</th>\n",
       "      <th>ride_time_sec</th>\n",
       "    </tr>\n",
       "  </thead>\n",
       "  <tbody>\n",
       "    <tr>\n",
       "      <th>0</th>\n",
       "      <td>2</td>\n",
       "      <td>1</td>\n",
       "      <td>75</td>\n",
       "      <td>41</td>\n",
       "      <td>2</td>\n",
       "      <td>1.36</td>\n",
       "      <td>6.5</td>\n",
       "      <td>0.0</td>\n",
       "      <td>0.5</td>\n",
       "      <td>0.0</td>\n",
       "      <td>...</td>\n",
       "      <td>1.0</td>\n",
       "      <td>1</td>\n",
       "      <td>11:07:56</td>\n",
       "      <td>11:13:00</td>\n",
       "      <td>2017-01-06</td>\n",
       "      <td>11</td>\n",
       "      <td>33</td>\n",
       "      <td>6</td>\n",
       "      <td>1</td>\n",
       "      <td>304.0</td>\n",
       "    </tr>\n",
       "    <tr>\n",
       "      <th>1</th>\n",
       "      <td>2</td>\n",
       "      <td>1</td>\n",
       "      <td>65</td>\n",
       "      <td>217</td>\n",
       "      <td>1</td>\n",
       "      <td>2.90</td>\n",
       "      <td>14.5</td>\n",
       "      <td>0.0</td>\n",
       "      <td>0.5</td>\n",
       "      <td>0.0</td>\n",
       "      <td>...</td>\n",
       "      <td>1.0</td>\n",
       "      <td>1</td>\n",
       "      <td>11:01:58</td>\n",
       "      <td>11:20:35</td>\n",
       "      <td>2017-01-06</td>\n",
       "      <td>11</td>\n",
       "      <td>33</td>\n",
       "      <td>6</td>\n",
       "      <td>1</td>\n",
       "      <td>1117.0</td>\n",
       "    </tr>\n",
       "    <tr>\n",
       "      <th>2</th>\n",
       "      <td>2</td>\n",
       "      <td>1</td>\n",
       "      <td>168</td>\n",
       "      <td>74</td>\n",
       "      <td>2</td>\n",
       "      <td>1.51</td>\n",
       "      <td>9.5</td>\n",
       "      <td>0.0</td>\n",
       "      <td>0.5</td>\n",
       "      <td>0.0</td>\n",
       "      <td>...</td>\n",
       "      <td>1.0</td>\n",
       "      <td>1</td>\n",
       "      <td>14:03:08</td>\n",
       "      <td>14:15:02</td>\n",
       "      <td>2017-01-06</td>\n",
       "      <td>14</td>\n",
       "      <td>33</td>\n",
       "      <td>6</td>\n",
       "      <td>1</td>\n",
       "      <td>714.0</td>\n",
       "    </tr>\n",
       "    <tr>\n",
       "      <th>3</th>\n",
       "      <td>2</td>\n",
       "      <td>1</td>\n",
       "      <td>173</td>\n",
       "      <td>129</td>\n",
       "      <td>1</td>\n",
       "      <td>1.00</td>\n",
       "      <td>6.0</td>\n",
       "      <td>0.5</td>\n",
       "      <td>0.5</td>\n",
       "      <td>1.0</td>\n",
       "      <td>...</td>\n",
       "      <td>1.0</td>\n",
       "      <td>1</td>\n",
       "      <td>06:01:10</td>\n",
       "      <td>06:06:28</td>\n",
       "      <td>2017-01-06</td>\n",
       "      <td>6</td>\n",
       "      <td>33</td>\n",
       "      <td>6</td>\n",
       "      <td>1</td>\n",
       "      <td>318.0</td>\n",
       "    </tr>\n",
       "    <tr>\n",
       "      <th>4</th>\n",
       "      <td>2</td>\n",
       "      <td>1</td>\n",
       "      <td>181</td>\n",
       "      <td>91</td>\n",
       "      <td>6</td>\n",
       "      <td>4.77</td>\n",
       "      <td>16.5</td>\n",
       "      <td>0.5</td>\n",
       "      <td>0.5</td>\n",
       "      <td>0.0</td>\n",
       "      <td>...</td>\n",
       "      <td>1.0</td>\n",
       "      <td>1</td>\n",
       "      <td>22:15:13</td>\n",
       "      <td>22:32:26</td>\n",
       "      <td>2017-01-06</td>\n",
       "      <td>22</td>\n",
       "      <td>33</td>\n",
       "      <td>6</td>\n",
       "      <td>1</td>\n",
       "      <td>1033.0</td>\n",
       "    </tr>\n",
       "  </tbody>\n",
       "</table>\n",
       "<p>5 rows × 24 columns</p>\n",
       "</div>"
      ],
      "text/plain": [
       "   VendorID  RatecodeID  PULocationID  DOLocationID  passenger_count  \\\n",
       "0         2           1            75            41                2   \n",
       "1         2           1            65           217                1   \n",
       "2         2           1           168            74                2   \n",
       "3         2           1           173           129                1   \n",
       "4         2           1           181            91                6   \n",
       "\n",
       "   trip_distance  fare_amount  extra  mta_tax  tip_amount      ...        \\\n",
       "0           1.36          6.5    0.0      0.5         0.0      ...         \n",
       "1           2.90         14.5    0.0      0.5         0.0      ...         \n",
       "2           1.51          9.5    0.0      0.5         0.0      ...         \n",
       "3           1.00          6.0    0.5      0.5         1.0      ...         \n",
       "4           4.77         16.5    0.5      0.5         0.0      ...         \n",
       "\n",
       "   trip_type  dispatch       PUT       DOT        date  PickUp_hr TMAX day  \\\n",
       "0        1.0         1  11:07:56  11:13:00  2017-01-06         11   33   6   \n",
       "1        1.0         1  11:01:58  11:20:35  2017-01-06         11   33   6   \n",
       "2        1.0         1  14:03:08  14:15:02  2017-01-06         14   33   6   \n",
       "3        1.0         1  06:01:10  06:06:28  2017-01-06          6   33   6   \n",
       "4        1.0         1  22:15:13  22:32:26  2017-01-06         22   33   6   \n",
       "\n",
       "  month  ride_time_sec  \n",
       "0     1          304.0  \n",
       "1     1         1117.0  \n",
       "2     1          714.0  \n",
       "3     1          318.0  \n",
       "4     1         1033.0  \n",
       "\n",
       "[5 rows x 24 columns]"
      ]
     },
     "execution_count": 302,
     "metadata": {},
     "output_type": "execute_result"
    }
   ],
   "source": [
    "df = pd.read_csv('mid_way.csv')\n",
    "df.head()"
   ]
  },
  {
   "cell_type": "code",
   "execution_count": 303,
   "metadata": {},
   "outputs": [
    {
     "data": {
      "text/plain": [
       "VendorID                 2314019\n",
       "RatecodeID               2314019\n",
       "PULocationID             2314019\n",
       "DOLocationID             2314019\n",
       "passenger_count          2314019\n",
       "trip_distance            2314019\n",
       "fare_amount              2314019\n",
       "extra                    2314019\n",
       "mta_tax                  2314019\n",
       "tip_amount               2314019\n",
       "tolls_amount             2314019\n",
       "improvement_surcharge    2314019\n",
       "total_amount             2314019\n",
       "payment_type             2314019\n",
       "trip_type                2314013\n",
       "dispatch                 2314019\n",
       "PUT                      2314019\n",
       "DOT                      2314019\n",
       "date                     2314019\n",
       "PickUp_hr                2314019\n",
       "TMAX                     2314019\n",
       "day                      2314019\n",
       "month                    2314019\n",
       "ride_time_sec            2314019\n",
       "dtype: int64"
      ]
     },
     "execution_count": 303,
     "metadata": {},
     "output_type": "execute_result"
    }
   ],
   "source": [
    "df.count()"
   ]
  },
  {
   "cell_type": "code",
   "execution_count": 304,
   "metadata": {
    "collapsed": true
   },
   "outputs": [],
   "source": [
    "df = df[df['ride_time_sec'] < 3600.00]"
   ]
  },
  {
   "cell_type": "code",
   "execution_count": 305,
   "metadata": {
    "collapsed": true
   },
   "outputs": [],
   "source": [
    "df = df[df['fare_amount'] > 0.00]"
   ]
  },
  {
   "cell_type": "code",
   "execution_count": 306,
   "metadata": {
    "collapsed": true
   },
   "outputs": [],
   "source": [
    "df = df[df['fare_amount'] < 200.00]"
   ]
  },
  {
   "cell_type": "code",
   "execution_count": 307,
   "metadata": {
    "collapsed": true
   },
   "outputs": [],
   "source": [
    "df = df[df['ride_time_sec'] > 0.00]"
   ]
  },
  {
   "cell_type": "code",
   "execution_count": 308,
   "metadata": {},
   "outputs": [
    {
     "data": {
      "text/plain": [
       "<matplotlib.text.Text at 0x1c027bdd68>"
      ]
     },
     "execution_count": 308,
     "metadata": {},
     "output_type": "execute_result"
    },
    {
     "data": {
      "image/png": "[encoded data removed]",
      "text/plain": [
       "<matplotlib.figure.Figure at 0x1bb9490630>"
      ]
     },
     "metadata": {},
     "output_type": "display_data"
    }
   ],
   "source": [
    "#plt.scatter(test.ride_time_sec/3600, test.fare_amount)\n",
    "plt.scatter(df.ride_time_sec, df.fare_amount)\n",
    "plt.ylim(0,200)\n",
    "plt.xlabel('Taxi meter time / hours')\n",
    "plt.ylabel('Fare amount ($)')"
   ]
  },
  {
   "cell_type": "code",
   "execution_count": 309,
   "metadata": {
    "collapsed": true
   },
   "outputs": [],
   "source": [
    "#test = df[(df['fare_amount'] < 200.00) & (df[df['ride_time_sec'] < 500.0])]\n",
    "test = df[df['ride_time_sec'] < 500.0]"
   ]
  },
  {
   "cell_type": "code",
   "execution_count": 310,
   "metadata": {
    "collapsed": true
   },
   "outputs": [],
   "source": [
    "test['fare_amount'] = (test['fare_amount']-(0.6*test['fare_amount']))"
   ]
  },
  {
   "cell_type": "code",
   "execution_count": 311,
   "metadata": {
    "scrolled": true
   },
   "outputs": [
    {
     "data": {
      "text/plain": [
       "<matplotlib.text.Text at 0x1a312ac550>"
      ]
     },
     "execution_count": 311,
     "metadata": {},
     "output_type": "execute_result"
    },
    {
     "data": {
      "image/png": "[encoded data removed]",
      "text/plain": [
       "<matplotlib.figure.Figure at 0x1c6dd3fd30>"
      ]
     },
     "metadata": {},
     "output_type": "display_data"
    }
   ],
   "source": [
    "#plt.scatter(test.ride_time_sec/3600, test.fare_amount)\n",
    "plt.scatter(test.ride_time_sec, test.fare_amount)\n",
    "plt.ylim(0,200)\n",
    "plt.xlabel('Taxi meter time / hours')\n",
    "plt.ylabel('Fare amount ($)')"
   ]
  },
  {
   "cell_type": "code",
   "execution_count": 312,
   "metadata": {},
   "outputs": [
    {
     "data": {
      "text/plain": [
       "VendorID                 941230\n",
       "RatecodeID               941230\n",
       "PULocationID             941230\n",
       "DOLocationID             941230\n",
       "passenger_count          941230\n",
       "trip_distance            941230\n",
       "fare_amount              941230\n",
       "extra                    941230\n",
       "mta_tax                  941230\n",
       "tip_amount               941230\n",
       "tolls_amount             941230\n",
       "improvement_surcharge    941230\n",
       "total_amount             941230\n",
       "payment_type             941230\n",
       "trip_type                941230\n",
       "dispatch                 941230\n",
       "PUT                      941230\n",
       "DOT                      941230\n",
       "date                     941230\n",
       "PickUp_hr                941230\n",
       "TMAX                     941230\n",
       "day                      941230\n",
       "month                    941230\n",
       "ride_time_sec            941230\n",
       "dtype: int64"
      ]
     },
     "execution_count": 312,
     "metadata": {},
     "output_type": "execute_result"
    }
   ],
   "source": [
    "test.count()"
   ]
  },
  {
   "cell_type": "code",
   "execution_count": 313,
   "metadata": {
    "collapsed": true
   },
   "outputs": [],
   "source": [
    "df1 = df[df['ride_time_sec'] > 500.0]"
   ]
  },
  {
   "cell_type": "code",
   "execution_count": 314,
   "metadata": {},
   "outputs": [
    {
     "data": {
      "text/plain": [
       "VendorID                 1349224\n",
       "RatecodeID               1349224\n",
       "PULocationID             1349224\n",
       "DOLocationID             1349224\n",
       "passenger_count          1349224\n",
       "trip_distance            1349224\n",
       "fare_amount              1349224\n",
       "extra                    1349224\n",
       "mta_tax                  1349224\n",
       "tip_amount               1349224\n",
       "tolls_amount             1349224\n",
       "improvement_surcharge    1349224\n",
       "total_amount             1349224\n",
       "payment_type             1349224\n",
       "trip_type                1349224\n",
       "dispatch                 1349224\n",
       "PUT                      1349224\n",
       "DOT                      1349224\n",
       "date                     1349224\n",
       "PickUp_hr                1349224\n",
       "TMAX                     1349224\n",
       "day                      1349224\n",
       "month                    1349224\n",
       "ride_time_sec            1349224\n",
       "dtype: int64"
      ]
     },
     "execution_count": 314,
     "metadata": {},
     "output_type": "execute_result"
    }
   ],
   "source": [
    "df1.count()"
   ]
  },
  {
   "cell_type": "code",
   "execution_count": 315,
   "metadata": {
    "collapsed": true
   },
   "outputs": [],
   "source": [
    "data = [df1, test]\n",
    "df3 = pd.concat(data)"
   ]
  },
  {
   "cell_type": "code",
   "execution_count": 316,
   "metadata": {
    "collapsed": true
   },
   "outputs": [],
   "source": [
    "df3 = df3[df3['fare_amount'] > 0.00]\n",
    "df3 = df3[df3['ride_time_sec'] > 0.00]"
   ]
  },
  {
   "cell_type": "code",
   "execution_count": 317,
   "metadata": {},
   "outputs": [
    {
     "data": {
      "text/plain": [
       "<matplotlib.text.Text at 0x1a24d4ed30>"
      ]
     },
     "execution_count": 317,
     "metadata": {},
     "output_type": "execute_result"
    },
    {
     "data": {
      "image/png": "[encoded data removed]",
      "text/plain": [
       "<matplotlib.figure.Figure at 0x1a334095f8>"
      ]
     },
     "metadata": {},
     "output_type": "display_data"
    }
   ],
   "source": [
    "#plt.scatter(test.ride_time_sec/3600, test.fare_amount)\n",
    "plt.scatter(df3.ride_time_sec, df3.fare_amount)\n",
    "#plt.ylim(0,200)\n",
    "plt.xlabel('Taxi meter time / hours')\n",
    "plt.ylabel('Fare amount ($)')"
   ]
  },
  {
   "cell_type": "markdown",
   "metadata": {},
   "source": [
    "### Don't want to change next part of the code, passing df3 to df and then deleting all the dataframes that I don't need"
   ]
  },
  {
   "cell_type": "code",
   "execution_count": 318,
   "metadata": {
    "collapsed": true
   },
   "outputs": [],
   "source": [
    "df = df3\n",
    "del df3\n",
    "del test"
   ]
  },
  {
   "cell_type": "code",
   "execution_count": 319,
   "metadata": {},
   "outputs": [
    {
     "data": {
      "text/plain": [
       "VendorID                 2290454\n",
       "RatecodeID               2290454\n",
       "PULocationID             2290454\n",
       "DOLocationID             2290454\n",
       "passenger_count          2290454\n",
       "trip_distance            2290454\n",
       "fare_amount              2290454\n",
       "extra                    2290454\n",
       "mta_tax                  2290454\n",
       "tip_amount               2290454\n",
       "tolls_amount             2290454\n",
       "improvement_surcharge    2290454\n",
       "total_amount             2290454\n",
       "payment_type             2290454\n",
       "trip_type                2290454\n",
       "dispatch                 2290454\n",
       "PUT                      2290454\n",
       "DOT                      2290454\n",
       "date                     2290454\n",
       "PickUp_hr                2290454\n",
       "TMAX                     2290454\n",
       "day                      2290454\n",
       "month                    2290454\n",
       "ride_time_sec            2290454\n",
       "dtype: int64"
      ]
     },
     "execution_count": 319,
     "metadata": {},
     "output_type": "execute_result"
    }
   ],
   "source": [
    "df.count()"
   ]
  },
  {
   "cell_type": "code",
   "execution_count": 320,
   "metadata": {
    "collapsed": true
   },
   "outputs": [],
   "source": [
    "#(23000/2300000)*100"
   ]
  },
  {
   "cell_type": "code",
   "execution_count": 321,
   "metadata": {
    "collapsed": true
   },
   "outputs": [],
   "source": [
    "#df3=df.merge(dfw, on='date')"
   ]
  },
  {
   "cell_type": "code",
   "execution_count": 322,
   "metadata": {},
   "outputs": [
    {
     "data": {
      "text/plain": [
       "Index(['VendorID', 'RatecodeID', 'PULocationID', 'DOLocationID',\n",
       "       'passenger_count', 'trip_distance', 'fare_amount', 'extra', 'mta_tax',\n",
       "       'tip_amount', 'tolls_amount', 'improvement_surcharge', 'total_amount',\n",
       "       'payment_type', 'trip_type', 'dispatch', 'PUT', 'DOT', 'date',\n",
       "       'PickUp_hr', 'TMAX', 'day', 'month', 'ride_time_sec'],\n",
       "      dtype='object')"
      ]
     },
     "execution_count": 322,
     "metadata": {},
     "output_type": "execute_result"
    }
   ],
   "source": [
    "df.columns"
   ]
  },
  {
   "cell_type": "markdown",
   "metadata": {},
   "source": [
    "'PULocationID' ===> pick up zone <br>\n",
    "'DOLocationID' ===> drop off zone <br>\n",
    "Considering pick up only"
   ]
  },
  {
   "cell_type": "code",
   "execution_count": 323,
   "metadata": {
    "collapsed": true
   },
   "outputs": [],
   "source": [
    "working_df = df[['VendorID', 'RatecodeID', 'PULocationID', 'DOLocationID',\n",
    "       'passenger_count', 'trip_distance', 'fare_amount', 'extra', 'mta_tax',\n",
    "       'tip_amount', 'tolls_amount', 'improvement_surcharge', 'total_amount',\n",
    "       'payment_type', 'trip_type', 'dispatch', 'PUT', 'DOT',\n",
    "       'PickUp_hr', 'TMAX', 'day', 'month', 'ride_time_sec']]"
   ]
  },
  {
   "cell_type": "code",
   "execution_count": 326,
   "metadata": {
    "collapsed": true
   },
   "outputs": [],
   "source": [
    "del df"
   ]
  },
  {
   "cell_type": "code",
   "execution_count": 327,
   "metadata": {
    "collapsed": true
   },
   "outputs": [],
   "source": [
    "working_df['zone'] = working_df[['PULocationID']]"
   ]
  },
  {
   "cell_type": "code",
   "execution_count": 328,
   "metadata": {
    "scrolled": false
   },
   "outputs": [
    {
     "name": "stdout",
     "output_type": "stream",
     "text": [
      "<class 'pandas.core.frame.DataFrame'>\n",
      "Int64Index: 2290454 entries, 1 to 2314017\n",
      "Data columns (total 23 columns):\n",
      "VendorID                 int64\n",
      "RatecodeID               int64\n",
      "DOLocationID             int64\n",
      "passenger_count          int64\n",
      "trip_distance            float64\n",
      "fare_amount              float64\n",
      "extra                    float64\n",
      "mta_tax                  float64\n",
      "tip_amount               float64\n",
      "tolls_amount             float64\n",
      "improvement_surcharge    float64\n",
      "total_amount             float64\n",
      "payment_type             int64\n",
      "trip_type                float64\n",
      "dispatch                 int64\n",
      "PUT                      object\n",
      "DOT                      object\n",
      "PickUp_hr                int64\n",
      "TMAX                     int64\n",
      "day                      int64\n",
      "month                    int64\n",
      "ride_time_sec            float64\n",
      "zone                     int64\n",
      "dtypes: float64(10), int64(11), object(2)\n",
      "memory usage: 499.4+ MB\n"
     ]
    }
   ],
   "source": [
    "working_df.drop('PULocationID', inplace=True, axis = 1)\n",
    "working_df.info()"
   ]
  },
  {
   "cell_type": "code",
   "execution_count": 331,
   "metadata": {
    "collapsed": true
   },
   "outputs": [],
   "source": [
    "#working_df.count()"
   ]
  },
  {
   "cell_type": "code",
   "execution_count": 332,
   "metadata": {
    "collapsed": true
   },
   "outputs": [],
   "source": [
    "working_df.dropna();"
   ]
  },
  {
   "cell_type": "code",
   "execution_count": 333,
   "metadata": {},
   "outputs": [
    {
     "data": {
      "text/plain": [
       "VendorID                 2290454\n",
       "RatecodeID               2290454\n",
       "DOLocationID             2290454\n",
       "passenger_count          2290454\n",
       "trip_distance            2290454\n",
       "fare_amount              2290454\n",
       "extra                    2290454\n",
       "mta_tax                  2290454\n",
       "tip_amount               2290454\n",
       "tolls_amount             2290454\n",
       "improvement_surcharge    2290454\n",
       "total_amount             2290454\n",
       "payment_type             2290454\n",
       "trip_type                2290454\n",
       "dispatch                 2290454\n",
       "PUT                      2290454\n",
       "DOT                      2290454\n",
       "PickUp_hr                2290454\n",
       "TMAX                     2290454\n",
       "day                      2290454\n",
       "month                    2290454\n",
       "ride_time_sec            2290454\n",
       "zone                     2290454\n",
       "dtype: int64"
      ]
     },
     "execution_count": 333,
     "metadata": {},
     "output_type": "execute_result"
    }
   ],
   "source": [
    "working_df.isnull().count()"
   ]
  },
  {
   "cell_type": "code",
   "execution_count": 334,
   "metadata": {
    "scrolled": false
   },
   "outputs": [
    {
     "data": {
      "text/plain": [
       "VendorID                 False\n",
       "RatecodeID               False\n",
       "DOLocationID             False\n",
       "passenger_count          False\n",
       "trip_distance            False\n",
       "fare_amount              False\n",
       "extra                    False\n",
       "mta_tax                  False\n",
       "tip_amount               False\n",
       "tolls_amount             False\n",
       "improvement_surcharge    False\n",
       "total_amount             False\n",
       "payment_type             False\n",
       "trip_type                False\n",
       "dispatch                 False\n",
       "PUT                      False\n",
       "DOT                      False\n",
       "PickUp_hr                False\n",
       "TMAX                     False\n",
       "day                      False\n",
       "month                    False\n",
       "ride_time_sec            False\n",
       "zone                     False\n",
       "dtype: bool"
      ]
     },
     "execution_count": 334,
     "metadata": {},
     "output_type": "execute_result"
    }
   ],
   "source": [
    "col_mask=working_df.isnull().any(axis=0) \n",
    "col_mask"
   ]
  },
  {
   "cell_type": "markdown",
   "metadata": {},
   "source": [
    "So, we have some NaN in trip_type!<br>"
   ]
  },
  {
   "cell_type": "code",
   "execution_count": 335,
   "metadata": {
    "scrolled": false
   },
   "outputs": [
    {
     "data": {
      "text/plain": [
       "1.0    2253173\n",
       "2.0      37281\n",
       "Name: trip_type, dtype: int64"
      ]
     },
     "execution_count": 335,
     "metadata": {},
     "output_type": "execute_result"
    }
   ],
   "source": [
    "working_df.trip_type.value_counts()#.sum()"
   ]
  },
  {
   "cell_type": "markdown",
   "metadata": {},
   "source": [
    "So there are 6 NaN in `trip_type`<br>\n",
    "Let's fill them with 1.0 as we have more 1's"
   ]
  },
  {
   "cell_type": "code",
   "execution_count": 336,
   "metadata": {},
   "outputs": [
    {
     "data": {
      "text/plain": [
       "VendorID                 False\n",
       "RatecodeID               False\n",
       "DOLocationID             False\n",
       "passenger_count          False\n",
       "trip_distance            False\n",
       "fare_amount              False\n",
       "extra                    False\n",
       "mta_tax                  False\n",
       "tip_amount               False\n",
       "tolls_amount             False\n",
       "improvement_surcharge    False\n",
       "total_amount             False\n",
       "payment_type             False\n",
       "trip_type                False\n",
       "dispatch                 False\n",
       "PUT                      False\n",
       "DOT                      False\n",
       "PickUp_hr                False\n",
       "TMAX                     False\n",
       "day                      False\n",
       "month                    False\n",
       "ride_time_sec            False\n",
       "zone                     False\n",
       "dtype: bool"
      ]
     },
     "execution_count": 336,
     "metadata": {},
     "output_type": "execute_result"
    }
   ],
   "source": [
    "working_df.trip_type.fillna(value=1.0, inplace=True)\n",
    "col_mask=working_df.isnull().any(axis=0) \n",
    "col_mask\n",
    "#.value_counts().sum()"
   ]
  },
  {
   "cell_type": "code",
   "execution_count": 337,
   "metadata": {},
   "outputs": [
    {
     "data": {
      "text/plain": [
       "258"
      ]
     },
     "execution_count": 337,
     "metadata": {},
     "output_type": "execute_result"
    }
   ],
   "source": [
    "working_df.zone.nunique()#value_counts()"
   ]
  },
  {
   "cell_type": "code",
   "execution_count": 338,
   "metadata": {
    "collapsed": true
   },
   "outputs": [],
   "source": [
    "grouped = working_df.groupby('zone').count()"
   ]
  },
  {
   "cell_type": "code",
   "execution_count": 339,
   "metadata": {},
   "outputs": [
    {
     "data": {
      "text/plain": [
       "Int64Index([  7,  25,  33,  41,  42,  49,  65,  66,  74,  75,  82,  95,  97,\n",
       "            112, 116, 129, 130, 145, 166, 181, 223, 244, 255, 256, 260],\n",
       "           dtype='int64', name='zone')"
      ]
     },
     "execution_count": 339,
     "metadata": {},
     "output_type": "execute_result"
    }
   ],
   "source": [
    "#grouped.head()\n",
    "#grouped.index\n",
    "\"\"\"\n",
    "zone_list = grouped[\n",
    "    (grouped['VendorID']>130000) | \n",
    "    ((grouped['VendorID']<100000) & (grouped['VendorID']>90000)) |\n",
    "    ((grouped['VendorID']<70000) & (grouped['VendorID']>60000)) |\n",
    "    ((grouped['VendorID']<50000) & (grouped['VendorID']>40000)) |\n",
    "    ((grouped['VendorID']<30000) & (grouped['VendorID']>25000)) |\n",
    "    ((grouped['VendorID']<10000) & (grouped['VendorID']>8000))   \n",
    "].index\n",
    "zone_list\n",
    "\"\"\"\n",
    "zone_list = grouped[(grouped['VendorID']>30000)].index\n",
    "zone_list"
   ]
  },
  {
   "cell_type": "code",
   "execution_count": 340,
   "metadata": {
    "collapsed": true
   },
   "outputs": [],
   "source": [
    "#grouped.sort_values(by='VendorID').tail(50)"
   ]
  },
  {
   "cell_type": "markdown",
   "metadata": {},
   "source": [
    "There was a problem with missing zones while train test spit, I selected the zones with higher ride demand"
   ]
  },
  {
   "cell_type": "code",
   "execution_count": 341,
   "metadata": {
    "collapsed": true
   },
   "outputs": [],
   "source": [
    "#zone_list = [82,7,75,41,74]\n",
    "#zone_list = [74, 255, 244, 130, 49, 260, 116, 61, 40, 247, 196]"
   ]
  },
  {
   "cell_type": "code",
   "execution_count": 342,
   "metadata": {
    "collapsed": true
   },
   "outputs": [],
   "source": [
    "#df82 = working_df[working_df.zone == 82]\n",
    "#df7 = working_df[working_df.zone == 7]\n",
    "#df75 = working_df[working_df.zone == 75]\n",
    "#df41 = working_df[working_df.zone == 41]\n",
    "#df74 = working_df[working_df.zone == 74]\n",
    "\n",
    "\"\"\"\n",
    "df74 = working_df[working_df.zone == 74]\n",
    "df255 = working_df[working_df.zone == 255]\n",
    "df244 = working_df[working_df.zone == 244]\n",
    "df130 = working_df[working_df.zone == 130]\n",
    "df49 = working_df[working_df.zone == 49]\n",
    "\n",
    "df260 = working_df[working_df.zone == 260]\n",
    "df116 = working_df[working_df.zone == 116]\n",
    "df61 = working_df[working_df.zone == 61]\n",
    "df40 = working_df[working_df.zone == 40]\n",
    "df247 = working_df[working_df.zone == 247]\n",
    "\"\"\"\n",
    "df2 = working_df[working_df.zone.isin(zone_list)]"
   ]
  },
  {
   "cell_type": "code",
   "execution_count": 343,
   "metadata": {
    "collapsed": true
   },
   "outputs": [],
   "source": [
    "#frames = [df82, df7, df75, df41,df74]\n",
    "#frames = [df74, df255, df244, df130, df49, df260, df116, df61, df40, df247]"
   ]
  },
  {
   "cell_type": "code",
   "execution_count": 344,
   "metadata": {
    "collapsed": true
   },
   "outputs": [],
   "source": [
    "#df2 = pd.concat(frames)"
   ]
  },
  {
   "cell_type": "code",
   "execution_count": 345,
   "metadata": {
    "scrolled": false
   },
   "outputs": [
    {
     "name": "stdout",
     "output_type": "stream",
     "text": [
      "<class 'pandas.core.frame.DataFrame'>\n",
      "Int64Index: 1713732 entries, 1 to 2314017\n",
      "Data columns (total 23 columns):\n",
      "VendorID                 int64\n",
      "RatecodeID               int64\n",
      "DOLocationID             int64\n",
      "passenger_count          int64\n",
      "trip_distance            float64\n",
      "fare_amount              float64\n",
      "extra                    float64\n",
      "mta_tax                  float64\n",
      "tip_amount               float64\n",
      "tolls_amount             float64\n",
      "improvement_surcharge    float64\n",
      "total_amount             float64\n",
      "payment_type             int64\n",
      "trip_type                float64\n",
      "dispatch                 int64\n",
      "PUT                      object\n",
      "DOT                      object\n",
      "PickUp_hr                int64\n",
      "TMAX                     int64\n",
      "day                      int64\n",
      "month                    int64\n",
      "ride_time_sec            float64\n",
      "zone                     int64\n",
      "dtypes: float64(10), int64(11), object(2)\n",
      "memory usage: 313.8+ MB\n"
     ]
    }
   ],
   "source": [
    "df2.info()"
   ]
  },
  {
   "cell_type": "code",
   "execution_count": 346,
   "metadata": {},
   "outputs": [
    {
     "data": {
      "text/plain": [
       "VendorID                 False\n",
       "RatecodeID               False\n",
       "DOLocationID             False\n",
       "passenger_count          False\n",
       "trip_distance            False\n",
       "fare_amount              False\n",
       "extra                    False\n",
       "mta_tax                  False\n",
       "tip_amount               False\n",
       "tolls_amount             False\n",
       "improvement_surcharge    False\n",
       "total_amount             False\n",
       "payment_type             False\n",
       "trip_type                False\n",
       "dispatch                 False\n",
       "PUT                      False\n",
       "DOT                      False\n",
       "PickUp_hr                False\n",
       "TMAX                     False\n",
       "day                      False\n",
       "month                    False\n",
       "ride_time_sec            False\n",
       "zone                     False\n",
       "dtype: bool"
      ]
     },
     "execution_count": 346,
     "metadata": {},
     "output_type": "execute_result"
    }
   ],
   "source": [
    "# Checking for NaN\n",
    "col_mask=df2.isnull().any(axis=0) \n",
    "col_mask"
   ]
  },
  {
   "cell_type": "code",
   "execution_count": 347,
   "metadata": {},
   "outputs": [
    {
     "data": {
      "text/plain": [
       "VendorID                 1713732\n",
       "RatecodeID               1713732\n",
       "DOLocationID             1713732\n",
       "passenger_count          1713732\n",
       "trip_distance            1713732\n",
       "fare_amount              1713732\n",
       "extra                    1713732\n",
       "mta_tax                  1713732\n",
       "tip_amount               1713732\n",
       "tolls_amount             1713732\n",
       "improvement_surcharge    1713732\n",
       "total_amount             1713732\n",
       "payment_type             1713732\n",
       "trip_type                1713732\n",
       "dispatch                 1713732\n",
       "PUT                      1713732\n",
       "DOT                      1713732\n",
       "PickUp_hr                1713732\n",
       "TMAX                     1713732\n",
       "day                      1713732\n",
       "month                    1713732\n",
       "ride_time_sec            1713732\n",
       "zone                     1713732\n",
       "dtype: int64"
      ]
     },
     "execution_count": 347,
     "metadata": {},
     "output_type": "execute_result"
    }
   ],
   "source": [
    "df2.count()"
   ]
  },
  {
   "cell_type": "code",
   "execution_count": 274,
   "metadata": {
    "collapsed": true
   },
   "outputs": [],
   "source": [
    "save_path = path1+'/nyc_for_ann.csv'\n",
    "#save_path"
   ]
  },
  {
   "cell_type": "code",
   "execution_count": 287,
   "metadata": {
    "collapsed": true
   },
   "outputs": [],
   "source": [
    "# Created test data with fewer zones\n",
    "#df2.to_csv(save_path, index=False)"
   ]
  },
  {
   "cell_type": "code",
   "execution_count": 363,
   "metadata": {},
   "outputs": [
    {
     "data": {
      "text/html": [
       "<div>\n",
       "<style>\n",
       "    .dataframe thead tr:only-child th {\n",
       "        text-align: right;\n",
       "    }\n",
       "\n",
       "    .dataframe thead th {\n",
       "        text-align: left;\n",
       "    }\n",
       "\n",
       "    .dataframe tbody tr th {\n",
       "        vertical-align: top;\n",
       "    }\n",
       "</style>\n",
       "<table border=\"1\" class=\"dataframe\">\n",
       "  <thead>\n",
       "    <tr style=\"text-align: right;\">\n",
       "      <th></th>\n",
       "      <th>VendorID</th>\n",
       "      <th>RatecodeID</th>\n",
       "      <th>DOLocationID</th>\n",
       "      <th>passenger_count</th>\n",
       "      <th>trip_distance</th>\n",
       "      <th>fare_amount</th>\n",
       "      <th>extra</th>\n",
       "      <th>mta_tax</th>\n",
       "      <th>tip_amount</th>\n",
       "      <th>tolls_amount</th>\n",
       "      <th>...</th>\n",
       "      <th>trip_type</th>\n",
       "      <th>dispatch</th>\n",
       "      <th>PUT</th>\n",
       "      <th>DOT</th>\n",
       "      <th>PickUp_hr</th>\n",
       "      <th>TMAX</th>\n",
       "      <th>day</th>\n",
       "      <th>month</th>\n",
       "      <th>ride_time_sec</th>\n",
       "      <th>zone</th>\n",
       "    </tr>\n",
       "  </thead>\n",
       "  <tbody>\n",
       "    <tr>\n",
       "      <th>0</th>\n",
       "      <td>2</td>\n",
       "      <td>1</td>\n",
       "      <td>217</td>\n",
       "      <td>1</td>\n",
       "      <td>2.90</td>\n",
       "      <td>14.5</td>\n",
       "      <td>0.0</td>\n",
       "      <td>0.5</td>\n",
       "      <td>0.00</td>\n",
       "      <td>0.0</td>\n",
       "      <td>...</td>\n",
       "      <td>1.0</td>\n",
       "      <td>1</td>\n",
       "      <td>11:01:58</td>\n",
       "      <td>11:20:35</td>\n",
       "      <td>11</td>\n",
       "      <td>33</td>\n",
       "      <td>6</td>\n",
       "      <td>1</td>\n",
       "      <td>1117.0</td>\n",
       "      <td>65</td>\n",
       "    </tr>\n",
       "    <tr>\n",
       "      <th>1</th>\n",
       "      <td>2</td>\n",
       "      <td>1</td>\n",
       "      <td>91</td>\n",
       "      <td>6</td>\n",
       "      <td>4.77</td>\n",
       "      <td>16.5</td>\n",
       "      <td>0.5</td>\n",
       "      <td>0.5</td>\n",
       "      <td>0.00</td>\n",
       "      <td>0.0</td>\n",
       "      <td>...</td>\n",
       "      <td>1.0</td>\n",
       "      <td>1</td>\n",
       "      <td>22:15:13</td>\n",
       "      <td>22:32:26</td>\n",
       "      <td>22</td>\n",
       "      <td>33</td>\n",
       "      <td>6</td>\n",
       "      <td>1</td>\n",
       "      <td>1033.0</td>\n",
       "      <td>181</td>\n",
       "    </tr>\n",
       "    <tr>\n",
       "      <th>2</th>\n",
       "      <td>2</td>\n",
       "      <td>1</td>\n",
       "      <td>74</td>\n",
       "      <td>1</td>\n",
       "      <td>1.95</td>\n",
       "      <td>11.5</td>\n",
       "      <td>0.0</td>\n",
       "      <td>0.5</td>\n",
       "      <td>0.00</td>\n",
       "      <td>0.0</td>\n",
       "      <td>...</td>\n",
       "      <td>1.0</td>\n",
       "      <td>1</td>\n",
       "      <td>14:32:37</td>\n",
       "      <td>14:48:22</td>\n",
       "      <td>14</td>\n",
       "      <td>33</td>\n",
       "      <td>6</td>\n",
       "      <td>1</td>\n",
       "      <td>945.0</td>\n",
       "      <td>166</td>\n",
       "    </tr>\n",
       "    <tr>\n",
       "      <th>3</th>\n",
       "      <td>1</td>\n",
       "      <td>1</td>\n",
       "      <td>217</td>\n",
       "      <td>1</td>\n",
       "      <td>2.20</td>\n",
       "      <td>12.5</td>\n",
       "      <td>0.5</td>\n",
       "      <td>0.5</td>\n",
       "      <td>2.75</td>\n",
       "      <td>0.0</td>\n",
       "      <td>...</td>\n",
       "      <td>1.0</td>\n",
       "      <td>1</td>\n",
       "      <td>23:05:00</td>\n",
       "      <td>23:22:01</td>\n",
       "      <td>23</td>\n",
       "      <td>33</td>\n",
       "      <td>6</td>\n",
       "      <td>1</td>\n",
       "      <td>1021.0</td>\n",
       "      <td>112</td>\n",
       "    </tr>\n",
       "    <tr>\n",
       "      <th>4</th>\n",
       "      <td>2</td>\n",
       "      <td>1</td>\n",
       "      <td>4</td>\n",
       "      <td>1</td>\n",
       "      <td>2.82</td>\n",
       "      <td>13.0</td>\n",
       "      <td>0.5</td>\n",
       "      <td>0.5</td>\n",
       "      <td>1.00</td>\n",
       "      <td>0.0</td>\n",
       "      <td>...</td>\n",
       "      <td>1.0</td>\n",
       "      <td>1</td>\n",
       "      <td>23:20:51</td>\n",
       "      <td>23:36:12</td>\n",
       "      <td>23</td>\n",
       "      <td>33</td>\n",
       "      <td>6</td>\n",
       "      <td>1</td>\n",
       "      <td>921.0</td>\n",
       "      <td>255</td>\n",
       "    </tr>\n",
       "  </tbody>\n",
       "</table>\n",
       "<p>5 rows × 23 columns</p>\n",
       "</div>"
      ],
      "text/plain": [
       "   VendorID  RatecodeID  DOLocationID  passenger_count  trip_distance  \\\n",
       "0         2           1           217                1           2.90   \n",
       "1         2           1            91                6           4.77   \n",
       "2         2           1            74                1           1.95   \n",
       "3         1           1           217                1           2.20   \n",
       "4         2           1             4                1           2.82   \n",
       "\n",
       "   fare_amount  extra  mta_tax  tip_amount  tolls_amount  ...   trip_type  \\\n",
       "0         14.5    0.0      0.5        0.00           0.0  ...         1.0   \n",
       "1         16.5    0.5      0.5        0.00           0.0  ...         1.0   \n",
       "2         11.5    0.0      0.5        0.00           0.0  ...         1.0   \n",
       "3         12.5    0.5      0.5        2.75           0.0  ...         1.0   \n",
       "4         13.0    0.5      0.5        1.00           0.0  ...         1.0   \n",
       "\n",
       "   dispatch       PUT       DOT  PickUp_hr TMAX day  month  ride_time_sec  \\\n",
       "0         1  11:01:58  11:20:35         11   33   6      1         1117.0   \n",
       "1         1  22:15:13  22:32:26         22   33   6      1         1033.0   \n",
       "2         1  14:32:37  14:48:22         14   33   6      1          945.0   \n",
       "3         1  23:05:00  23:22:01         23   33   6      1         1021.0   \n",
       "4         1  23:20:51  23:36:12         23   33   6      1          921.0   \n",
       "\n",
       "   zone  \n",
       "0    65  \n",
       "1   181  \n",
       "2   166  \n",
       "3   112  \n",
       "4   255  \n",
       "\n",
       "[5 rows x 23 columns]"
      ]
     },
     "execution_count": 363,
     "metadata": {},
     "output_type": "execute_result"
    }
   ],
   "source": [
    "df2 = pd.read_csv(save_path)\n",
    "df2.head()"
   ]
  },
  {
   "cell_type": "markdown",
   "metadata": {},
   "source": [
    "**Creating dummies for `day, month & PickUp_hr`** "
   ]
  },
  {
   "cell_type": "code",
   "execution_count": 364,
   "metadata": {
    "scrolled": false
   },
   "outputs": [
    {
     "data": {
      "text/plain": [
       "VendorID                 1713732\n",
       "RatecodeID               1713732\n",
       "DOLocationID             1713732\n",
       "passenger_count          1713732\n",
       "trip_distance            1713732\n",
       "fare_amount              1713732\n",
       "extra                    1713732\n",
       "mta_tax                  1713732\n",
       "tip_amount               1713732\n",
       "tolls_amount             1713732\n",
       "improvement_surcharge    1713732\n",
       "total_amount             1713732\n",
       "payment_type             1713732\n",
       "trip_type                1713732\n",
       "dispatch                 1713732\n",
       "PUT                      1713732\n",
       "DOT                      1713732\n",
       "PickUp_hr                1713732\n",
       "TMAX                     1713732\n",
       "day                      1713732\n",
       "month                    1713732\n",
       "ride_time_sec            1713732\n",
       "zone                     1713732\n",
       "dtype: int64"
      ]
     },
     "execution_count": 364,
     "metadata": {},
     "output_type": "execute_result"
    }
   ],
   "source": [
    "df2.count()"
   ]
  },
  {
   "cell_type": "markdown",
   "metadata": {},
   "source": [
    "### Converting month to name"
   ]
  },
  {
   "cell_type": "code",
   "execution_count": 365,
   "metadata": {
    "collapsed": true
   },
   "outputs": [],
   "source": [
    "import calendar\n",
    "df2['month'] = df2['month'].apply(lambda x: calendar.month_abbr[x])"
   ]
  },
  {
   "cell_type": "markdown",
   "metadata": {},
   "source": [
    "### Converting payment_type to cat col"
   ]
  },
  {
   "cell_type": "code",
   "execution_count": 374,
   "metadata": {
    "collapsed": true
   },
   "outputs": [],
   "source": [
    "def p_type(value):\n",
    "    if value == 1:\n",
    "        return 'a'\n",
    "    elif value == 2:\n",
    "        return 'b'\n",
    "    elif value == 3:\n",
    "        return 'c'\n",
    "    elif value == 4:\n",
    "        return 'd'\n",
    "    else:\n",
    "        return 'e'"
   ]
  },
  {
   "cell_type": "code",
   "execution_count": 367,
   "metadata": {
    "collapsed": true
   },
   "outputs": [],
   "source": [
    "df2['payment_type'] = df2['payment_type'].apply(p_type)"
   ]
  },
  {
   "cell_type": "code",
   "execution_count": 368,
   "metadata": {
    "scrolled": true
   },
   "outputs": [
    {
     "data": {
      "text/plain": [
       "array(['b', 'a', 'c', 'd', 'e'], dtype=object)"
      ]
     },
     "execution_count": 368,
     "metadata": {},
     "output_type": "execute_result"
    }
   ],
   "source": [
    "df2.payment_type.unique()"
   ]
  },
  {
   "cell_type": "markdown",
   "metadata": {},
   "source": [
    "### Converting trip_type to cat col"
   ]
  },
  {
   "cell_type": "code",
   "execution_count": 375,
   "metadata": {
    "collapsed": true
   },
   "outputs": [],
   "source": [
    "def t_type(value):\n",
    "    if value == 1.:\n",
    "        return 'f'\n",
    "    else: \n",
    "        return 'g'"
   ]
  },
  {
   "cell_type": "code",
   "execution_count": 380,
   "metadata": {
    "collapsed": true
   },
   "outputs": [],
   "source": [
    "df2['trip_type'] = df2['trip_type'].apply(t_type)"
   ]
  },
  {
   "cell_type": "code",
   "execution_count": 382,
   "metadata": {
    "collapsed": true
   },
   "outputs": [],
   "source": [
    "#df2.trip_type.value_counts()"
   ]
  },
  {
   "cell_type": "code",
   "execution_count": 369,
   "metadata": {},
   "outputs": [
    {
     "data": {
      "text/plain": [
       "array([ 1.,  2.])"
      ]
     },
     "execution_count": 369,
     "metadata": {},
     "output_type": "execute_result"
    }
   ],
   "source": [
    "df2.trip_type.unique()"
   ]
  },
  {
   "cell_type": "code",
   "execution_count": 383,
   "metadata": {
    "collapsed": true
   },
   "outputs": [],
   "source": [
    "payment_type = pd.get_dummies(df2['payment_type'],drop_first=True)\n",
    "trip_type = pd.get_dummies(df2['trip_type'],drop_first=True)\n",
    "PickUp_hr = pd.get_dummies(df2['PickUp_hr'],drop_first=True)\n",
    "day = pd.get_dummies(df2['day'], drop_first=True)\n",
    "month = pd.get_dummies(df2['month'],drop_first=True)"
   ]
  },
  {
   "cell_type": "code",
   "execution_count": 385,
   "metadata": {
    "collapsed": true
   },
   "outputs": [],
   "source": [
    "df = pd.concat([df2,payment_type,trip_type,PickUp_hr,day,month],axis=1)"
   ]
  },
  {
   "cell_type": "code",
   "execution_count": 389,
   "metadata": {},
   "outputs": [
    {
     "data": {
      "text/plain": [
       "Index([             'VendorID',            'RatecodeID',\n",
       "                'DOLocationID',       'passenger_count',\n",
       "               'trip_distance',           'fare_amount',\n",
       "                       'extra',               'mta_tax',\n",
       "                  'tip_amount',          'tolls_amount',\n",
       "       'improvement_surcharge',          'total_amount',\n",
       "                    'dispatch',                  'TMAX',\n",
       "               'ride_time_sec',                  'zone',\n",
       "                           'b',                     'c',\n",
       "                           'd',                     'e',\n",
       "                           'g',                       1,\n",
       "                             2,                       3,\n",
       "                             4,                       5,\n",
       "                             6,                       7,\n",
       "                             8,                       9,\n",
       "                            10,                      11,\n",
       "                            12,                      13,\n",
       "                            14,                      15,\n",
       "                            16,                      17,\n",
       "                            18,                      19,\n",
       "                            20,                      21,\n",
       "                            22,                      23,\n",
       "                             2,                       3,\n",
       "                             4,                       5,\n",
       "                             6,                       7,\n",
       "                             8,                       9,\n",
       "                            10,                      11,\n",
       "                            12,                      13,\n",
       "                            14,                      15,\n",
       "                            16,                      17,\n",
       "                            18,                      19,\n",
       "                            20,                      21,\n",
       "                            22,                      23,\n",
       "                            24,                      25,\n",
       "                            26,                      27,\n",
       "                            28,                      29,\n",
       "                            30,                      31,\n",
       "                         'Aug',                   'Dec',\n",
       "                         'Feb',                   'Jan',\n",
       "                         'Jul',                   'Jun',\n",
       "                         'Mar',                   'May',\n",
       "                         'Nov',                   'Oct',\n",
       "                         'Sep'],\n",
       "      dtype='object')"
      ]
     },
     "execution_count": 389,
     "metadata": {},
     "output_type": "execute_result"
    }
   ],
   "source": [
    "df.drop(['payment_type','trip_type','PickUp_hr','day', 'month','DOT','PUT' ],axis=1,inplace=True)\n",
    "df.columns"
   ]
  },
  {
   "cell_type": "code",
   "execution_count": 391,
   "metadata": {
    "collapsed": true
   },
   "outputs": [],
   "source": [
    "del df2"
   ]
  },
  {
   "cell_type": "code",
   "execution_count": 393,
   "metadata": {
    "collapsed": true
   },
   "outputs": [],
   "source": [
    "# dropping DOLocationID\n",
    "df.drop(['DOLocationID'] ,axis=1,inplace=True)"
   ]
  },
  {
   "cell_type": "markdown",
   "metadata": {},
   "source": [
    "### Saving with dummies"
   ]
  },
  {
   "cell_type": "code",
   "execution_count": 396,
   "metadata": {
    "collapsed": true
   },
   "outputs": [],
   "source": [
    "df.to_csv(save_path, index=False)"
   ]
  },
  {
   "cell_type": "code",
   "execution_count": null,
   "metadata": {
    "collapsed": true
   },
   "outputs": [],
   "source": []
  },
  {
   "cell_type": "code",
   "execution_count": null,
   "metadata": {
    "collapsed": true
   },
   "outputs": [],
   "source": []
  },
  {
   "cell_type": "code",
   "execution_count": null,
   "metadata": {
    "collapsed": true
   },
   "outputs": [],
   "source": []
  },
  {
   "cell_type": "code",
   "execution_count": null,
   "metadata": {
    "collapsed": true
   },
   "outputs": [],
   "source": []
  },
  {
   "cell_type": "code",
   "execution_count": 384,
   "metadata": {},
   "outputs": [
    {
     "data": {
      "text/html": [
       "<div>\n",
       "<style>\n",
       "    .dataframe thead tr:only-child th {\n",
       "        text-align: right;\n",
       "    }\n",
       "\n",
       "    .dataframe thead th {\n",
       "        text-align: left;\n",
       "    }\n",
       "\n",
       "    .dataframe tbody tr th {\n",
       "        vertical-align: top;\n",
       "    }\n",
       "</style>\n",
       "<table border=\"1\" class=\"dataframe\">\n",
       "  <thead>\n",
       "    <tr style=\"text-align: right;\">\n",
       "      <th></th>\n",
       "      <th>b</th>\n",
       "      <th>c</th>\n",
       "      <th>d</th>\n",
       "      <th>e</th>\n",
       "    </tr>\n",
       "  </thead>\n",
       "  <tbody>\n",
       "    <tr>\n",
       "      <th>0</th>\n",
       "      <td>1</td>\n",
       "      <td>0</td>\n",
       "      <td>0</td>\n",
       "      <td>0</td>\n",
       "    </tr>\n",
       "    <tr>\n",
       "      <th>1</th>\n",
       "      <td>1</td>\n",
       "      <td>0</td>\n",
       "      <td>0</td>\n",
       "      <td>0</td>\n",
       "    </tr>\n",
       "    <tr>\n",
       "      <th>2</th>\n",
       "      <td>0</td>\n",
       "      <td>0</td>\n",
       "      <td>0</td>\n",
       "      <td>0</td>\n",
       "    </tr>\n",
       "    <tr>\n",
       "      <th>3</th>\n",
       "      <td>0</td>\n",
       "      <td>0</td>\n",
       "      <td>0</td>\n",
       "      <td>0</td>\n",
       "    </tr>\n",
       "    <tr>\n",
       "      <th>4</th>\n",
       "      <td>0</td>\n",
       "      <td>0</td>\n",
       "      <td>0</td>\n",
       "      <td>0</td>\n",
       "    </tr>\n",
       "  </tbody>\n",
       "</table>\n",
       "</div>"
      ],
      "text/plain": [
       "   b  c  d  e\n",
       "0  1  0  0  0\n",
       "1  1  0  0  0\n",
       "2  0  0  0  0\n",
       "3  0  0  0  0\n",
       "4  0  0  0  0"
      ]
     },
     "execution_count": 384,
     "metadata": {},
     "output_type": "execute_result"
    }
   ],
   "source": [
    "#payment_type.head()"
   ]
  },
  {
   "cell_type": "code",
   "execution_count": null,
   "metadata": {
    "collapsed": true
   },
   "outputs": [],
   "source": []
  },
  {
   "cell_type": "code",
   "execution_count": null,
   "metadata": {
    "collapsed": true
   },
   "outputs": [],
   "source": []
  },
  {
   "cell_type": "code",
   "execution_count": null,
   "metadata": {
    "collapsed": true
   },
   "outputs": [],
   "source": []
  },
  {
   "cell_type": "code",
   "execution_count": 289,
   "metadata": {},
   "outputs": [
    {
     "data": {
      "text/plain": [
       "Index(['VendorID', 'RatecodeID', 'DOLocationID', 'passenger_count',\n",
       "       'trip_distance', 'fare_amount', 'extra', 'mta_tax', 'tip_amount',\n",
       "       'tolls_amount', 'improvement_surcharge', 'total_amount', 'payment_type',\n",
       "       'trip_type', 'dispatch', 'PUT', 'DOT', 'PickUp_hr', 'TMAX', 'day',\n",
       "       'month', 'ride_time_sec', 'zone'],\n",
       "      dtype='object')"
      ]
     },
     "execution_count": 289,
     "metadata": {},
     "output_type": "execute_result"
    }
   ],
   "source": [
    "df2.columns"
   ]
  },
  {
   "cell_type": "code",
   "execution_count": 290,
   "metadata": {
    "collapsed": true
   },
   "outputs": [],
   "source": [
    "X = df2.drop(['PUT','DOT','zone'],axis=1)\n",
    "y = df2['zone']"
   ]
  },
  {
   "cell_type": "code",
   "execution_count": 292,
   "metadata": {},
   "outputs": [
    {
     "name": "stdout",
     "output_type": "stream",
     "text": [
      "<class 'pandas.core.frame.DataFrame'>\n",
      "RangeIndex: 1713732 entries, 0 to 1713731\n",
      "Data columns (total 20 columns):\n",
      "VendorID                 int64\n",
      "RatecodeID               int64\n",
      "DOLocationID             int64\n",
      "passenger_count          int64\n",
      "trip_distance            float64\n",
      "fare_amount              float64\n",
      "extra                    float64\n",
      "mta_tax                  float64\n",
      "tip_amount               float64\n",
      "tolls_amount             float64\n",
      "improvement_surcharge    float64\n",
      "total_amount             float64\n",
      "payment_type             int64\n",
      "trip_type                float64\n",
      "dispatch                 int64\n",
      "PickUp_hr                int64\n",
      "TMAX                     int64\n",
      "day                      int64\n",
      "month                    int64\n",
      "ride_time_sec            float64\n",
      "dtypes: float64(10), int64(10)\n",
      "memory usage: 261.5 MB\n"
     ]
    }
   ],
   "source": [
    "X.info()"
   ]
  },
  {
   "cell_type": "code",
   "execution_count": 293,
   "metadata": {
    "collapsed": true
   },
   "outputs": [],
   "source": [
    "#del df2"
   ]
  },
  {
   "cell_type": "code",
   "execution_count": 294,
   "metadata": {
    "collapsed": true
   },
   "outputs": [],
   "source": [
    "X_train, X_test, y_train, y_test = train_test_split(\n",
    "    X, y, test_size=0.30, random_state=42)"
   ]
  },
  {
   "cell_type": "code",
   "execution_count": 295,
   "metadata": {},
   "outputs": [
    {
     "data": {
      "text/plain": [
       "(25, 25)"
      ]
     },
     "execution_count": 295,
     "metadata": {},
     "output_type": "execute_result"
    }
   ],
   "source": [
    "y_train.nunique(), y_test.nunique()"
   ]
  },
  {
   "cell_type": "code",
   "execution_count": 296,
   "metadata": {
    "collapsed": true
   },
   "outputs": [],
   "source": [
    "from sklearn.ensemble import RandomForestClassifier"
   ]
  },
  {
   "cell_type": "code",
   "execution_count": 297,
   "metadata": {},
   "outputs": [
    {
     "data": {
      "text/plain": [
       "RandomForestClassifier(bootstrap=True, class_weight=None, criterion='gini',\n",
       "            max_depth=None, max_features='auto', max_leaf_nodes=None,\n",
       "            min_impurity_decrease=0.0, min_impurity_split=None,\n",
       "            min_samples_leaf=1, min_samples_split=2,\n",
       "            min_weight_fraction_leaf=0.0, n_estimators=100, n_jobs=None,\n",
       "            oob_score=False, random_state=None, verbose=0,\n",
       "            warm_start=False)"
      ]
     },
     "execution_count": 297,
     "metadata": {},
     "output_type": "execute_result"
    }
   ],
   "source": [
    "# Creating instance and fitting the model\n",
    "rfc = RandomForestClassifier(n_estimators=100)\n",
    "rfc.fit(X_train, y_train)"
   ]
  },
  {
   "cell_type": "code",
   "execution_count": 298,
   "metadata": {
    "collapsed": true
   },
   "outputs": [],
   "source": [
    "# doing predictions\n",
    "rfc_pred = rfc.predict(X_test)"
   ]
  },
  {
   "cell_type": "code",
   "execution_count": null,
   "metadata": {
    "collapsed": true,
    "scrolled": false
   },
   "outputs": [],
   "source": []
  },
  {
   "cell_type": "code",
   "execution_count": 299,
   "metadata": {},
   "outputs": [
    {
     "name": "stdout",
     "output_type": "stream",
     "text": [
      "              precision    recall  f1-score   support\n",
      "\n",
      "           7       0.52      0.69      0.60     35197\n",
      "          25       0.25      0.19      0.22     17943\n",
      "          33       0.32      0.36      0.34     17961\n",
      "          41       0.38      0.42      0.40     39036\n",
      "          42       0.36      0.24      0.29     24498\n",
      "          49       0.34      0.16      0.22     10524\n",
      "          65       0.23      0.15      0.18     14643\n",
      "          66       0.37      0.40      0.38     14931\n",
      "          74       0.47      0.57      0.51     42583\n",
      "          75       0.52      0.56      0.54     37055\n",
      "          82       0.42      0.54      0.48     30188\n",
      "          95       0.61      0.62      0.62     17503\n",
      "          97       0.31      0.35      0.33     21902\n",
      "         112       0.39      0.18      0.25     10136\n",
      "         116       0.40      0.19      0.26     10122\n",
      "         129       0.37      0.28      0.32     19135\n",
      "         130       0.62      0.52      0.56      9184\n",
      "         145       0.61      0.38      0.47     10545\n",
      "         166       0.46      0.44      0.45     27591\n",
      "         181       0.43      0.43      0.43     23266\n",
      "         223       0.54      0.37      0.44     12873\n",
      "         244       0.55      0.59      0.57     15841\n",
      "         255       0.43      0.67      0.53     26163\n",
      "         256       0.30      0.14      0.19     10351\n",
      "         260       0.40      0.24      0.30     14949\n",
      "\n",
      "   micro avg       0.43      0.43      0.43    514120\n",
      "   macro avg       0.42      0.39      0.39    514120\n",
      "weighted avg       0.43      0.43      0.42    514120\n",
      "\n",
      "[[24307   184   245   405   143    40    95   232   610   702  1521   458\n",
      "    225   145    78   714   217   353   353   472  1603   278   983    88\n",
      "    746]\n",
      " [  646  3491  2756   252    93   272  1238   853   159   188   405   199\n",
      "   2618   102    26   106    88    64    91  2805    43   118  1119   175\n",
      "     36]\n",
      " [  445  1853  6406   269    94   208  1150  1888   262   391   427   222\n",
      "   1615    52    31    75   137    50   173  1030    42   329   690    84\n",
      "     38]\n",
      " [  504   122   211 16511  2960    39    78   211  7561  3357   534   256\n",
      "    179    43   251   171    57   106  4454   168    22   464   624    58\n",
      "     95]\n",
      " [  347    61   136  6227  5928    35    67   164  4462  1645   599   190\n",
      "    156    55   708   227    74    57  1730   132    37   902   432    39\n",
      "     88]\n",
      " [  583   610   624   225   106  1686   473   408   188   192   301   170\n",
      "   2482    76    19    86    58    75   105  1160    28    89   582   151\n",
      "     47]\n",
      " [  313  1617  2225   190    87   321  2218  1521   176   261   382   197\n",
      "   2728    38    21    77   136    37   110   973    40   203   641   102\n",
      "     29]\n",
      " [  260   625  1982   218    65   191   779  5961   243   377   310   261\n",
      "   1184    63    32    59   171    51   172   707    39   276   782    84\n",
      "     39]\n",
      " [  488    92   162  6174  1944    33    73   195 24376  4573   606   254\n",
      "    194    44   199   105   141   111  1575   201    62   443   369    70\n",
      "     99]\n",
      " [  488   118   268  3475  1060    37    76   308  5448 20744   359   180\n",
      "    190    46   175    90    90    99  2342   176    52   567   469    45\n",
      "    153]\n",
      " [ 1876   200   300   492   202    60   132   244   551   464 16427  1162\n",
      "    371   108    65  3871   250    97   316   333   285   225   843    99\n",
      "   1215]\n",
      " [  938   127   227   177    92    47   115   291   246   250  1669 10933\n",
      "    236    49    29   215   459    48   105   336    85   196   398    87\n",
      "    148]\n",
      " [  590  2006  1697   327   126  1108  1511  1088   279   330   463   224\n",
      "   7697    84    37   120   128    71   150  2375    35   139  1044   216\n",
      "     57]\n",
      " [  670   118   136   132    91    66    79   176   145   229   414   141\n",
      "    259  1874    83   163    60   282   153   187    35   144  4070   353\n",
      "     76]\n",
      " [  201    45   117  1250  1127    15    29   130  1337   641   246    78\n",
      "     81    69  1926   133    36    33   929    89    26  1293   221    31\n",
      "     39]\n",
      " [ 1689   107   137   192   130    43    99   113   278   392  6974   321\n",
      "    219    89    78  5374   108   157   127   156   321   140   676    73\n",
      "   1142]\n",
      " [  720    97   156   112    69    32    71   172   134   100   492   873\n",
      "    159    24    29   245  4755    73    53   151   156   180   226    44\n",
      "     61]\n",
      " [ 1543    91   158   249    88    57    68   226   401   343   349   173\n",
      "    168   138    35   304   137  4049   268   159   198   190   724    85\n",
      "    344]\n",
      " [  303    84   198  5012  1217    14    62   211  3529  2614   284   125\n",
      "    108    32   268   124    28    86 12211   124    31   462   381    41\n",
      "     42]\n",
      " [ 1173  1900  1185   245    93   429   717   755   262   340   512   402\n",
      "   2563   161    35   120    96    81   182  9892   140   212  1453   225\n",
      "     93]\n",
      " [ 4720    66   115    73    55    15    47    99   148   145   588   257\n",
      "     82    34    19   258   111   106   106   121  4794   147   294    30\n",
      "    443]\n",
      " [  278    57   196   756   648    20    59   157   883   819   366   192\n",
      "     82    48   607   103    95    42   462   152    67  9333   336    27\n",
      "     56]\n",
      " [  671   297   356   216    98   112   193   502   209   354   560   241\n",
      "    683  1045    53   216   120   218   186   532    58   243 17627  1268\n",
      "    105]\n",
      " [  359   172   140   124    47    70   105   264   120   170   294   144\n",
      "    407   345    12   103    66    61    81   283    54   113  5281  1480\n",
      "     56]\n",
      " [ 2347    79   119   243    91    27    52   140   365   372  3853   273\n",
      "    129    51    37  1429    94   187   125   119   556   152   497    46\n",
      "   3566]]\n"
     ]
    }
   ],
   "source": [
    "from sklearn.metrics import classification_report,confusion_matrix\n",
    "# Evaluation\n",
    "print(classification_report(y_test,rfc_pred))\n",
    "print(confusion_matrix(y_test,rfc_pred))"
   ]
  },
  {
   "cell_type": "code",
   "execution_count": null,
   "metadata": {
    "collapsed": true
   },
   "outputs": [],
   "source": []
  },
  {
   "cell_type": "code",
   "execution_count": null,
   "metadata": {
    "collapsed": true
   },
   "outputs": [],
   "source": []
  },
  {
   "cell_type": "markdown",
   "metadata": {},
   "source": [
    "### Training test one without TMAX, day, month features"
   ]
  },
  {
   "cell_type": "code",
   "execution_count": 42,
   "metadata": {
    "scrolled": false
   },
   "outputs": [
    {
     "name": "stdout",
     "output_type": "stream",
     "text": [
      "              precision    recall  f1-score   support\n",
      "\n",
      "           7       0.56      0.63      0.59     35681\n",
      "          25       0.23      0.21      0.22     18053\n",
      "          33       0.32      0.34      0.33     18138\n",
      "          41       0.36      0.36      0.36     39617\n",
      "          42       0.30      0.27      0.28     24546\n",
      "          49       0.30      0.22      0.25     10633\n",
      "          65       0.22      0.18      0.20     14878\n",
      "          66       0.37      0.40      0.38     14698\n",
      "          74       0.46      0.50      0.48     42614\n",
      "          75       0.52      0.55      0.53     36998\n",
      "          82       0.44      0.48      0.46     30520\n",
      "          95       0.64      0.64      0.64     18047\n",
      "          97       0.31      0.32      0.31     21909\n",
      "         112       0.31      0.24      0.27     10131\n",
      "         116       0.31      0.23      0.26     10655\n",
      "         129       0.34      0.31      0.32     19151\n",
      "         130       0.64      0.60      0.62      9251\n",
      "         145       0.51      0.42      0.46     10545\n",
      "         166       0.41      0.42      0.42     27741\n",
      "         181       0.42      0.43      0.43     23217\n",
      "         223       0.47      0.40      0.43     13075\n",
      "         244       0.55      0.59      0.56     16022\n",
      "         255       0.46      0.58      0.51     26125\n",
      "         256       0.28      0.21      0.24     10409\n",
      "         260       0.34      0.29      0.31     15163\n",
      "\n",
      "   micro avg       0.42      0.42      0.42    517817\n",
      "   macro avg       0.40      0.39      0.40    517817\n",
      "weighted avg       0.41      0.42      0.42    517817\n",
      "\n",
      "[[22427   217   255   368   175    92   131   215   495   515  1634   437\n",
      "    222   279   101  1091   229   707   342   415  2958   230   689   137\n",
      "   1320]\n",
      " [  302  3826  2777   141    74   521  1623   911   122   156   250   180\n",
      "   2584   146    27    83    86    77   110  2861    48   103   753   234\n",
      "     58]\n",
      " [  304  2187  6192   155    93   356  1663  2045   158   245   240   194\n",
      "   1502    77    40    63   128    88   147  1168    62   275   544   144\n",
      "     68]\n",
      " [  378    99   145 14443  4347    52    72   174  7523  3794   260   165\n",
      "    127    88   702   111    65   167  5428   167    39   685   401    75\n",
      "    110]\n",
      " [  242    75   125  5272  6515    51    58   141  4292  1685   299   123\n",
      "    109    85  1303   149    77    77  2239   106    35  1061   264    55\n",
      "    108]\n",
      " [  333   680   548   133    72  2327   607   411    99   112   190   145\n",
      "   2276   146    24    92    70   114    91  1286    46    89   490   172\n",
      "     80]\n",
      " [  215  1897  2113   124    78   505  2700  1531   144   182   215   151\n",
      "   2420    98    28    83    97    63   108  1222    43   153   499   148\n",
      "     61]\n",
      " [  188   751  1882   151    76   311  1017  5891   156   269   188   212\n",
      "   1160    95    56    84   141    86   149   726    59   235   582   166\n",
      "     67]\n",
      " [  425   103   158  6502  3126    42    93   171 21398  5063   335   221\n",
      "    119    67   656   116   122   175  2404   146    76   644   256    82\n",
      "    114]\n",
      " [  428   121   199  3451  1460    54    99   244  5348 20214   268   176\n",
      "    149    95   327    91    76   145  2706   164    67   652   276    60\n",
      "    128]\n",
      " [ 1661   214   264   311   245    91   165   242   384   334 14748  1388\n",
      "    272   161    88  5188   282   214   230   301   418   224   560   138\n",
      "   2397]\n",
      " [  559   175   213   149    87    94   114   259   197   195  1571 11603\n",
      "    206    86    46   352   678    86    79   357   101   155   346   101\n",
      "    238]\n",
      " [  293  2332  1616   177   111  1769  1968  1188   138   242   288   208\n",
      "   6931   165    51   119   116   111   128  2521    53   133   864   307\n",
      "     80]\n",
      " [  496   106   143   142    77   112   109   152   113   135   313   116\n",
      "    219  2453    64   162    59   395   125   210    73   112  3494   617\n",
      "    134]\n",
      " [  120    33    79  1222  1519    20    48    97  1241   573   159    59\n",
      "     65    89  2435    98    37    61   921    83    23  1444   149    38\n",
      "     42]\n",
      " [ 1583   103   114   162   135    68    93   112   166   182  6296   378\n",
      "    155   142    71  5885   118   231   132   158   409   149   424    80\n",
      "   1805]\n",
      " [  337    80   115    88    64    43    74   109   115    93   376   912\n",
      "    144    65    38   208  5578    74    43   136   121   124   189    53\n",
      "     72]\n",
      " [ 1272    82   125   234   122    81    66   162   334   290   337   117\n",
      "    136   253    45   292   122  4449   251   155   226   134   670   125\n",
      "    465]\n",
      " [  280    89   171  5259  1900    26    74   158  3025  2751   134    92\n",
      "     97    56   571    77    46   124 11761   120    40   546   247    44\n",
      "     53]\n",
      " [  617  2475  1332   153   103   809  1018   784   183   214   331   347\n",
      "   2361   251    42   141   107   116   158  9952   114   167  1073   232\n",
      "    137]\n",
      " [ 4371    70    86    92    67    25    58    90   122   122   542   182\n",
      "     69    71    29   416    89   176    96   117  5223    96   235    39\n",
      "    592]\n",
      " [  194    62   218   716   866    34    74   147   758   742   226   135\n",
      "     70    68   941   119    86    88   528   130    58  9382   260    46\n",
      "     74]\n",
      " [  529   428   411   232   128   192   332   486   152   250   495   209\n",
      "    653  2045    62   223   147   413   184   543   108   207 15127  2418\n",
      "    151]\n",
      " [  279   236   210   121    58   159   174   286    81   106   189   118\n",
      "    416   692    22   125    83   116    80   294    70    85  4192  2147\n",
      "     70]\n",
      " [ 2108    79    84   167   121    40    60   101   187   196  3341   266\n",
      "     95   104    32  1975    87   369   110   135   638   109   331    80\n",
      "   4348]]\n"
     ]
    }
   ],
   "source": [
    "from sklearn.metrics import classification_report,confusion_matrix\n",
    "# Evaluation\n",
    "print(classification_report(y_test,rfc_pred))\n",
    "print(confusion_matrix(y_test,rfc_pred))"
   ]
  },
  {
   "cell_type": "code",
   "execution_count": 106,
   "metadata": {
    "collapsed": true
   },
   "outputs": [],
   "source": [
    "#plt.plot(rfc_pred-y_test)"
   ]
  },
  {
   "cell_type": "code",
   "execution_count": null,
   "metadata": {
    "collapsed": true
   },
   "outputs": [],
   "source": []
  },
  {
   "cell_type": "code",
   "execution_count": null,
   "metadata": {
    "collapsed": true
   },
   "outputs": [],
   "source": []
  },
  {
   "cell_type": "code",
   "execution_count": null,
   "metadata": {
    "collapsed": true
   },
   "outputs": [],
   "source": []
  },
  {
   "cell_type": "markdown",
   "metadata": {},
   "source": [
    "## Rough work"
   ]
  },
  {
   "cell_type": "code",
   "execution_count": 110,
   "metadata": {},
   "outputs": [
    {
     "data": {
      "text/plain": [
       "74    142074\n",
       "41    131015\n",
       "75    123685\n",
       "7     118351\n",
       "82    101741\n",
       "Name: zone, dtype: int64"
      ]
     },
     "execution_count": 110,
     "metadata": {},
     "output_type": "execute_result"
    }
   ],
   "source": [
    "df2.zone.value_counts()"
   ]
  },
  {
   "cell_type": "code",
   "execution_count": 39,
   "metadata": {
    "collapsed": true
   },
   "outputs": [],
   "source": [
    "#X_train, X_test = train_test_split(\n",
    "#    working_df, test_size=0.10, random_state=42)"
   ]
  },
  {
   "cell_type": "code",
   "execution_count": 42,
   "metadata": {},
   "outputs": [
    {
     "name": "stdout",
     "output_type": "stream",
     "text": [
      "<class 'pandas.core.frame.DataFrame'>\n",
      "Int64Index: 231406 entries, 583421 to 1253288\n",
      "Data columns (total 16 columns):\n",
      "VendorID                 231406 non-null int64\n",
      "RatecodeID               231406 non-null int64\n",
      "passenger_count          231406 non-null int64\n",
      "trip_distance            231406 non-null float64\n",
      "fare_amount              231406 non-null float64\n",
      "extra                    231406 non-null float64\n",
      "mta_tax                  231406 non-null float64\n",
      "tip_amount               231406 non-null float64\n",
      "tolls_amount             231406 non-null float64\n",
      "improvement_surcharge    231406 non-null float64\n",
      "total_amount             231406 non-null float64\n",
      "payment_type             231406 non-null int64\n",
      "trip_type                231406 non-null float64\n",
      "dispatch                 231406 non-null int64\n",
      "PickUp_hr                231406 non-null int64\n",
      "zone                     231406 non-null int64\n",
      "dtypes: float64(9), int64(7)\n",
      "memory usage: 30.0 MB\n"
     ]
    }
   ],
   "source": [
    "#X_test.info()"
   ]
  },
  {
   "cell_type": "code",
   "execution_count": 43,
   "metadata": {
    "collapsed": true
   },
   "outputs": [],
   "source": [
    "#X_test.to_csv('nyc_for_ann.csv', index=False)"
   ]
  },
  {
   "cell_type": "code",
   "execution_count": 45,
   "metadata": {},
   "outputs": [
    {
     "data": {
      "text/plain": [
       "243"
      ]
     },
     "execution_count": 45,
     "metadata": {},
     "output_type": "execute_result"
    }
   ],
   "source": [
    "X_test.zone.nunique()"
   ]
  },
  {
   "cell_type": "code",
   "execution_count": null,
   "metadata": {
    "collapsed": true
   },
   "outputs": [],
   "source": [
    "X_train, X_test, y_train, y_test = train_test_split(\n",
    "    X, y, test_size=0.30, random_state=42)"
   ]
  },
  {
   "cell_type": "code",
   "execution_count": 46,
   "metadata": {
    "collapsed": true
   },
   "outputs": [],
   "source": [
    "# define baseline model\n",
    "def baseline_model():\n",
    "    # create model\n",
    "    model = Sequential()\n",
    "    model.add(Dense(8, input_dim=4, activation='relu'))\n",
    "    model.add(Dense(243, activation='softmax'))\n",
    "    # Compile model\n",
    "    model.compile(loss='categorical_crossentropy', optimizer='adam', metrics=['accuracy'])\n",
    "    return model"
   ]
  },
  {
   "cell_type": "code",
   "execution_count": 61,
   "metadata": {
    "collapsed": true
   },
   "outputs": [],
   "source": [
    "estimator = KerasClassifier(build_fn=baseline_model, nb_epoch=2, batch_size=5, verbose=0)"
   ]
  },
  {
   "cell_type": "code",
   "execution_count": 62,
   "metadata": {},
   "outputs": [
    {
     "data": {
      "text/plain": [
       "KFold(n_splits=10, random_state=101, shuffle=True)"
      ]
     },
     "execution_count": 62,
     "metadata": {},
     "output_type": "execute_result"
    }
   ],
   "source": [
    "kfold = KFold(n_splits=10, shuffle=True, random_state=101)\n",
    "kfold"
   ]
  },
  {
   "cell_type": "code",
   "execution_count": 65,
   "metadata": {},
   "outputs": [
    {
     "ename": "NameError",
     "evalue": "name 'dummy_y' is not defined",
     "output_type": "error",
     "traceback": [
      "\u001b[0;31m---------------------------------------------------------------------------\u001b[0m",
      "\u001b[0;31mNameError\u001b[0m                                 Traceback (most recent call last)",
      "\u001b[0;32m<ipython-input-65-8651b2fe45a9>\u001b[0m in \u001b[0;36m<module>\u001b[0;34m()\u001b[0m\n\u001b[0;32m----> 1\u001b[0;31m \u001b[0mresults\u001b[0m \u001b[0;34m=\u001b[0m \u001b[0mcross_val_score\u001b[0m\u001b[0;34m(\u001b[0m\u001b[0mestimator\u001b[0m\u001b[0;34m,\u001b[0m \u001b[0mX_test\u001b[0m\u001b[0;34m,\u001b[0m \u001b[0mdummy_y\u001b[0m\u001b[0;34m,\u001b[0m \u001b[0mcv\u001b[0m\u001b[0;34m=\u001b[0m\u001b[0mkfold\u001b[0m\u001b[0;34m)\u001b[0m\u001b[0;34m\u001b[0m\u001b[0m\n\u001b[0m\u001b[1;32m      2\u001b[0m \u001b[0mprint\u001b[0m\u001b[0;34m(\u001b[0m\u001b[0;34m\"Baseline: %.2f%% (%.2f%%)\"\u001b[0m \u001b[0;34m%\u001b[0m \u001b[0;34m(\u001b[0m\u001b[0mresults\u001b[0m\u001b[0;34m.\u001b[0m\u001b[0mmean\u001b[0m\u001b[0;34m(\u001b[0m\u001b[0;34m)\u001b[0m\u001b[0;34m*\u001b[0m\u001b[0;36m100\u001b[0m\u001b[0;34m,\u001b[0m \u001b[0mresults\u001b[0m\u001b[0;34m.\u001b[0m\u001b[0mstd\u001b[0m\u001b[0;34m(\u001b[0m\u001b[0;34m)\u001b[0m\u001b[0;34m*\u001b[0m\u001b[0;36m100\u001b[0m\u001b[0;34m)\u001b[0m\u001b[0;34m)\u001b[0m\u001b[0;34m\u001b[0m\u001b[0m\n",
      "\u001b[0;31mNameError\u001b[0m: name 'dummy_y' is not defined"
     ]
    }
   ],
   "source": [
    "results = cross_val_score(estimator, X_test, dummy_y, cv=kfold)\n",
    "print(\"Baseline: %.2f%% (%.2f%%)\" % (results.mean()*100, results.std()*100))"
   ]
  },
  {
   "cell_type": "code",
   "execution_count": null,
   "metadata": {
    "collapsed": true
   },
   "outputs": [],
   "source": []
  },
  {
   "cell_type": "code",
   "execution_count": null,
   "metadata": {
    "collapsed": true
   },
   "outputs": [],
   "source": []
  },
  {
   "cell_type": "code",
   "execution_count": null,
   "metadata": {
    "collapsed": true
   },
   "outputs": [],
   "source": []
  },
  {
   "cell_type": "code",
   "execution_count": null,
   "metadata": {
    "collapsed": true
   },
   "outputs": [],
   "source": []
  },
  {
   "cell_type": "code",
   "execution_count": null,
   "metadata": {
    "collapsed": true
   },
   "outputs": [],
   "source": []
  },
  {
   "cell_type": "code",
   "execution_count": 17,
   "metadata": {},
   "outputs": [
    {
     "data": {
      "text/plain": [
       "6"
      ]
     },
     "execution_count": 17,
     "metadata": {},
     "output_type": "execute_result"
    }
   ],
   "source": [
    "(working_df.count() - working_df.trip_type.value_counts().sum())['VendorID']"
   ]
  },
  {
   "cell_type": "markdown",
   "metadata": {},
   "source": [
    "So there are 6 NaN in `trip_type`<br>\n",
    "Let's fill them with 1.0 as we have more 1's"
   ]
  },
  {
   "cell_type": "code",
   "execution_count": 18,
   "metadata": {},
   "outputs": [
    {
     "data": {
      "text/plain": [
       "VendorID                 False\n",
       "RatecodeID               False\n",
       "passenger_count          False\n",
       "trip_distance            False\n",
       "fare_amount              False\n",
       "extra                    False\n",
       "mta_tax                  False\n",
       "tip_amount               False\n",
       "tolls_amount             False\n",
       "improvement_surcharge    False\n",
       "total_amount             False\n",
       "payment_type             False\n",
       "trip_type                False\n",
       "dispatch                 False\n",
       "PickUp_hr                False\n",
       "zone                     False\n",
       "dtype: bool"
      ]
     },
     "execution_count": 18,
     "metadata": {},
     "output_type": "execute_result"
    }
   ],
   "source": [
    "working_df.trip_type.fillna(value=1.0, inplace=True)\n",
    "col_mask=working_df.isnull().any(axis=0) \n",
    "col_mask\n",
    "#.value_counts().sum()"
   ]
  },
  {
   "cell_type": "code",
   "execution_count": 19,
   "metadata": {
    "collapsed": true
   },
   "outputs": [],
   "source": [
    "from sklearn.model_selection import train_test_split"
   ]
  },
  {
   "cell_type": "code",
   "execution_count": 20,
   "metadata": {
    "collapsed": true
   },
   "outputs": [],
   "source": [
    "X = working_df.drop('zone',axis=1)\n",
    "y = working_df['zone']"
   ]
  },
  {
   "cell_type": "code",
   "execution_count": 21,
   "metadata": {
    "collapsed": true
   },
   "outputs": [],
   "source": [
    "#X = X.as_matrix().astype(np.float)\n",
    "#y = y.as_matrix().astype(np.float)"
   ]
  },
  {
   "cell_type": "code",
   "execution_count": 22,
   "metadata": {
    "collapsed": true
   },
   "outputs": [],
   "source": [
    "X_train, X_test, y_train, y_test = train_test_split(\n",
    "    X, y, test_size=0.30, random_state=42)"
   ]
  },
  {
   "cell_type": "code",
   "execution_count": 76,
   "metadata": {},
   "outputs": [
    {
     "data": {
      "text/plain": [
       "False"
      ]
     },
     "execution_count": 76,
     "metadata": {},
     "output_type": "execute_result"
    }
   ],
   "source": [
    "(X_train.zone.unique()== X_test.zone.unique())"
   ]
  },
  {
   "cell_type": "code",
   "execution_count": 79,
   "metadata": {},
   "outputs": [
    {
     "data": {
      "text/plain": [
       "243"
      ]
     },
     "execution_count": 79,
     "metadata": {},
     "output_type": "execute_result"
    }
   ],
   "source": [
    "X_test.zone.nunique()"
   ]
  },
  {
   "cell_type": "code",
   "execution_count": null,
   "metadata": {
    "collapsed": true
   },
   "outputs": [],
   "source": []
  },
  {
   "cell_type": "code",
   "execution_count": null,
   "metadata": {
    "collapsed": true
   },
   "outputs": [],
   "source": []
  },
  {
   "cell_type": "code",
   "execution_count": 397,
   "metadata": {
    "collapsed": true
   },
   "outputs": [],
   "source": [
    "a=[82,7,75,41,74]"
   ]
  },
  {
   "cell_type": "code",
   "execution_count": 398,
   "metadata": {
    "collapsed": true
   },
   "outputs": [],
   "source": [
    "test_df = working_df[working_df.zone.isin(a)]"
   ]
  },
  {
   "cell_type": "code",
   "execution_count": null,
   "metadata": {
    "collapsed": true
   },
   "outputs": [],
   "source": []
  },
  {
   "cell_type": "code",
   "execution_count": 399,
   "metadata": {},
   "outputs": [
    {
     "data": {
      "text/plain": [
       "74    141258\n",
       "41    130057\n",
       "75    122824\n",
       "7     117667\n",
       "82    101090\n",
       "Name: zone, dtype: int64"
      ]
     },
     "execution_count": 399,
     "metadata": {},
     "output_type": "execute_result"
    }
   ],
   "source": [
    "test_df.zone.value_counts()"
   ]
  },
  {
   "cell_type": "code",
   "execution_count": null,
   "metadata": {
    "collapsed": true
   },
   "outputs": [],
   "source": []
  },
  {
   "cell_type": "code",
   "execution_count": null,
   "metadata": {
    "collapsed": true
   },
   "outputs": [],
   "source": []
  },
  {
   "cell_type": "code",
   "execution_count": null,
   "metadata": {
    "collapsed": true
   },
   "outputs": [],
   "source": []
  },
  {
   "cell_type": "code",
   "execution_count": null,
   "metadata": {
    "collapsed": true
   },
   "outputs": [],
   "source": []
  }
 ],
 "metadata": {
  "kernelspec": {
   "display_name": "Python 3",
   "language": "python",
   "name": "python3"
  },
  "language_info": {
   "codemirror_mode": {
    "name": "ipython",
    "version": 3
   },
   "file_extension": ".py",
   "mimetype": "text/x-python",
   "name": "python",
   "nbconvert_exporter": "python",
   "pygments_lexer": "ipython3",
   "version": "3.6.1"
  }
 },
 "nbformat": 4,
 "nbformat_minor": 2
}
