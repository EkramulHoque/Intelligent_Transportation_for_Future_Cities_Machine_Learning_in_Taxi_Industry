{
 "cells": [
  {
   "cell_type": "markdown",
   "metadata": {},
   "source": [
    "**Importing some important libraries**"
   ]
  },
  {
   "cell_type": "code",
   "execution_count": 179,
   "metadata": {
    "collapsed": true
   },
   "outputs": [],
   "source": [
    "import numpy as np\n",
    "import pandas as pd\n",
    "import matplotlib.pyplot as plt\n",
    "import seaborn as sns\n",
    "%matplotlib inline"
   ]
  },
  {
   "cell_type": "markdown",
   "metadata": {},
   "source": [
    "**Lets consider the green data for January 2018**"
   ]
  },
  {
   "cell_type": "code",
   "execution_count": 180,
   "metadata": {
    "collapsed": true
   },
   "outputs": [],
   "source": [
    "#df = pd.read_csv('yellow_tripdata_2018-01.csv')\n",
    "df = pd.read_csv('green_tripdata_2018-01.csv')"
   ]
  },
  {
   "cell_type": "code",
   "execution_count": 181,
   "metadata": {},
   "outputs": [
    {
     "name": "stdout",
     "output_type": "stream",
     "text": [
      "<class 'pandas.core.frame.DataFrame'>\n",
      "RangeIndex: 793529 entries, 0 to 793528\n",
      "Data columns (total 19 columns):\n",
      "VendorID                 793529 non-null int64\n",
      "lpep_pickup_datetime     793529 non-null object\n",
      "lpep_dropoff_datetime    793529 non-null object\n",
      "store_and_fwd_flag       793529 non-null object\n",
      "RatecodeID               793529 non-null int64\n",
      "PULocationID             793529 non-null int64\n",
      "DOLocationID             793529 non-null int64\n",
      "passenger_count          793529 non-null int64\n",
      "trip_distance            793529 non-null float64\n",
      "fare_amount              793529 non-null float64\n",
      "extra                    793529 non-null float64\n",
      "mta_tax                  793529 non-null float64\n",
      "tip_amount               793529 non-null float64\n",
      "tolls_amount             793529 non-null float64\n",
      "ehail_fee                0 non-null float64\n",
      "improvement_surcharge    793529 non-null float64\n",
      "total_amount             793529 non-null float64\n",
      "payment_type             793529 non-null int64\n",
      "trip_type                793526 non-null float64\n",
      "dtypes: float64(10), int64(6), object(3)\n",
      "memory usage: 115.0+ MB\n"
     ]
    }
   ],
   "source": [
    "df.info()"
   ]
  },
  {
   "cell_type": "markdown",
   "metadata": {},
   "source": [
    "Looks like `ehail_fee` is useless column, its 0 all the time, lets drop it at the moment!"
   ]
  },
  {
   "cell_type": "code",
   "execution_count": 182,
   "metadata": {
    "scrolled": false
   },
   "outputs": [
    {
     "name": "stdout",
     "output_type": "stream",
     "text": [
      "<class 'pandas.core.frame.DataFrame'>\n",
      "RangeIndex: 793529 entries, 0 to 793528\n",
      "Data columns (total 18 columns):\n",
      "VendorID                 793529 non-null int64\n",
      "lpep_pickup_datetime     793529 non-null object\n",
      "lpep_dropoff_datetime    793529 non-null object\n",
      "store_and_fwd_flag       793529 non-null object\n",
      "RatecodeID               793529 non-null int64\n",
      "PULocationID             793529 non-null int64\n",
      "DOLocationID             793529 non-null int64\n",
      "passenger_count          793529 non-null int64\n",
      "trip_distance            793529 non-null float64\n",
      "fare_amount              793529 non-null float64\n",
      "extra                    793529 non-null float64\n",
      "mta_tax                  793529 non-null float64\n",
      "tip_amount               793529 non-null float64\n",
      "tolls_amount             793529 non-null float64\n",
      "improvement_surcharge    793529 non-null float64\n",
      "total_amount             793529 non-null float64\n",
      "payment_type             793529 non-null int64\n",
      "trip_type                793526 non-null float64\n",
      "dtypes: float64(9), int64(6), object(3)\n",
      "memory usage: 109.0+ MB\n"
     ]
    }
   ],
   "source": [
    "df.drop('ehail_fee', inplace=True, axis=1)\n",
    "df.info()"
   ]
  },
  {
   "cell_type": "markdown",
   "metadata": {},
   "source": [
    "Let's have a quick look on the `store_and_fwd_flag` column"
   ]
  },
  {
   "cell_type": "code",
   "execution_count": 183,
   "metadata": {},
   "outputs": [
    {
     "data": {
      "text/plain": [
       "(array(['N', 'Y'], dtype=object), N    792170\n",
       " Y      1359\n",
       " Name: store_and_fwd_flag, dtype: int64)"
      ]
     },
     "execution_count": 183,
     "metadata": {},
     "output_type": "execute_result"
    }
   ],
   "source": [
    "df.store_and_fwd_flag.unique(), df.store_and_fwd_flag.value_counts()"
   ]
  },
  {
   "cell_type": "markdown",
   "metadata": {},
   "source": [
    "`store_and_fwd_flag` is either the customer was dispatched or a flag.<br>\n",
    "Let's convert this to `1/0 ==> N = 1, Y = 0` with new column name `dispatch`. **Notice that dispatch is common type of trip**<br>\n",
    "Another thing we can see, which day the flag is more than dispatch, probability if higher for the flag is on weekends nights!<br>\n",
    "Let's write a custom function to convert the categorical col to 1/0"
   ]
  },
  {
   "cell_type": "code",
   "execution_count": 184,
   "metadata": {
    "collapsed": true
   },
   "outputs": [],
   "source": [
    "def cat_to_num(x):\n",
    "    if x.lower() == 'n':\n",
    "        return 1\n",
    "    if x.lower() == 'y':\n",
    "        return 0"
   ]
  },
  {
   "cell_type": "code",
   "execution_count": 185,
   "metadata": {},
   "outputs": [],
   "source": [
    "df['dispatch'] = df['store_and_fwd_flag'].apply(cat_to_num)"
   ]
  },
  {
   "cell_type": "code",
   "execution_count": 186,
   "metadata": {},
   "outputs": [
    {
     "data": {
      "text/plain": [
       "1    792170\n",
       "0      1359\n",
       "Name: dispatch, dtype: int64"
      ]
     },
     "execution_count": 186,
     "metadata": {},
     "output_type": "execute_result"
    }
   ],
   "source": [
    "df.dispatch.value_counts()"
   ]
  },
  {
   "cell_type": "markdown",
   "metadata": {},
   "source": [
    "We can drop `store_and_fwd_flag`, we don't need it anymore after `dispatch` column."
   ]
  },
  {
   "cell_type": "code",
   "execution_count": 189,
   "metadata": {
    "collapsed": true
   },
   "outputs": [],
   "source": [
    "df.drop('store_and_fwd_flag', inplace=True, axis=1)"
   ]
  },
  {
   "cell_type": "markdown",
   "metadata": {},
   "source": [
    "I don't know what is VendorID! **However**, we can consider two dispatch companies, this could be another feature and suggest the preferred company to call for a cab. "
   ]
  },
  {
   "cell_type": "code",
   "execution_count": 190,
   "metadata": {},
   "outputs": [
    {
     "data": {
      "text/plain": [
       "2    655835\n",
       "1    137694\n",
       "Name: VendorID, dtype: int64"
      ]
     },
     "execution_count": 190,
     "metadata": {},
     "output_type": "execute_result"
    }
   ],
   "source": [
    "df.VendorID.value_counts()"
   ]
  },
  {
   "cell_type": "code",
   "execution_count": 191,
   "metadata": {},
   "outputs": [
    {
     "data": {
      "text/html": [
       "<div>\n",
       "<style>\n",
       "    .dataframe thead tr:only-child th {\n",
       "        text-align: right;\n",
       "    }\n",
       "\n",
       "    .dataframe thead th {\n",
       "        text-align: left;\n",
       "    }\n",
       "\n",
       "    .dataframe tbody tr th {\n",
       "        vertical-align: top;\n",
       "    }\n",
       "</style>\n",
       "<table border=\"1\" class=\"dataframe\">\n",
       "  <thead>\n",
       "    <tr style=\"text-align: right;\">\n",
       "      <th></th>\n",
       "      <th>VendorID</th>\n",
       "      <th>lpep_pickup_datetime</th>\n",
       "      <th>lpep_dropoff_datetime</th>\n",
       "      <th>RatecodeID</th>\n",
       "      <th>PULocationID</th>\n",
       "      <th>DOLocationID</th>\n",
       "      <th>passenger_count</th>\n",
       "      <th>trip_distance</th>\n",
       "      <th>fare_amount</th>\n",
       "      <th>extra</th>\n",
       "      <th>mta_tax</th>\n",
       "      <th>tip_amount</th>\n",
       "      <th>tolls_amount</th>\n",
       "      <th>improvement_surcharge</th>\n",
       "      <th>total_amount</th>\n",
       "      <th>payment_type</th>\n",
       "      <th>trip_type</th>\n",
       "      <th>dispatch</th>\n",
       "    </tr>\n",
       "  </thead>\n",
       "  <tbody>\n",
       "    <tr>\n",
       "      <th>0</th>\n",
       "      <td>2</td>\n",
       "      <td>2018-01-01 00:18:50</td>\n",
       "      <td>2018-01-01 00:24:39</td>\n",
       "      <td>1</td>\n",
       "      <td>236</td>\n",
       "      <td>236</td>\n",
       "      <td>5</td>\n",
       "      <td>0.70</td>\n",
       "      <td>6.0</td>\n",
       "      <td>0.5</td>\n",
       "      <td>0.5</td>\n",
       "      <td>0.0</td>\n",
       "      <td>0.0</td>\n",
       "      <td>0.3</td>\n",
       "      <td>7.3</td>\n",
       "      <td>2</td>\n",
       "      <td>1.0</td>\n",
       "      <td>1</td>\n",
       "    </tr>\n",
       "    <tr>\n",
       "      <th>1</th>\n",
       "      <td>2</td>\n",
       "      <td>2018-01-01 00:30:26</td>\n",
       "      <td>2018-01-01 00:46:42</td>\n",
       "      <td>1</td>\n",
       "      <td>43</td>\n",
       "      <td>42</td>\n",
       "      <td>5</td>\n",
       "      <td>3.50</td>\n",
       "      <td>14.5</td>\n",
       "      <td>0.5</td>\n",
       "      <td>0.5</td>\n",
       "      <td>0.0</td>\n",
       "      <td>0.0</td>\n",
       "      <td>0.3</td>\n",
       "      <td>15.8</td>\n",
       "      <td>2</td>\n",
       "      <td>1.0</td>\n",
       "      <td>1</td>\n",
       "    </tr>\n",
       "    <tr>\n",
       "      <th>2</th>\n",
       "      <td>2</td>\n",
       "      <td>2018-01-01 00:07:25</td>\n",
       "      <td>2018-01-01 00:19:45</td>\n",
       "      <td>1</td>\n",
       "      <td>74</td>\n",
       "      <td>152</td>\n",
       "      <td>1</td>\n",
       "      <td>2.14</td>\n",
       "      <td>10.0</td>\n",
       "      <td>0.5</td>\n",
       "      <td>0.5</td>\n",
       "      <td>0.0</td>\n",
       "      <td>0.0</td>\n",
       "      <td>0.3</td>\n",
       "      <td>11.3</td>\n",
       "      <td>2</td>\n",
       "      <td>1.0</td>\n",
       "      <td>1</td>\n",
       "    </tr>\n",
       "    <tr>\n",
       "      <th>3</th>\n",
       "      <td>2</td>\n",
       "      <td>2018-01-01 00:32:40</td>\n",
       "      <td>2018-01-01 00:33:41</td>\n",
       "      <td>1</td>\n",
       "      <td>255</td>\n",
       "      <td>255</td>\n",
       "      <td>1</td>\n",
       "      <td>0.03</td>\n",
       "      <td>-3.0</td>\n",
       "      <td>-0.5</td>\n",
       "      <td>-0.5</td>\n",
       "      <td>0.0</td>\n",
       "      <td>0.0</td>\n",
       "      <td>-0.3</td>\n",
       "      <td>-4.3</td>\n",
       "      <td>3</td>\n",
       "      <td>1.0</td>\n",
       "      <td>1</td>\n",
       "    </tr>\n",
       "    <tr>\n",
       "      <th>4</th>\n",
       "      <td>2</td>\n",
       "      <td>2018-01-01 00:32:40</td>\n",
       "      <td>2018-01-01 00:33:41</td>\n",
       "      <td>1</td>\n",
       "      <td>255</td>\n",
       "      <td>255</td>\n",
       "      <td>1</td>\n",
       "      <td>0.03</td>\n",
       "      <td>3.0</td>\n",
       "      <td>0.5</td>\n",
       "      <td>0.5</td>\n",
       "      <td>0.0</td>\n",
       "      <td>0.0</td>\n",
       "      <td>0.3</td>\n",
       "      <td>4.3</td>\n",
       "      <td>2</td>\n",
       "      <td>1.0</td>\n",
       "      <td>1</td>\n",
       "    </tr>\n",
       "  </tbody>\n",
       "</table>\n",
       "</div>"
      ],
      "text/plain": [
       "   VendorID lpep_pickup_datetime lpep_dropoff_datetime  RatecodeID  \\\n",
       "0         2  2018-01-01 00:18:50   2018-01-01 00:24:39           1   \n",
       "1         2  2018-01-01 00:30:26   2018-01-01 00:46:42           1   \n",
       "2         2  2018-01-01 00:07:25   2018-01-01 00:19:45           1   \n",
       "3         2  2018-01-01 00:32:40   2018-01-01 00:33:41           1   \n",
       "4         2  2018-01-01 00:32:40   2018-01-01 00:33:41           1   \n",
       "\n",
       "   PULocationID  DOLocationID  passenger_count  trip_distance  fare_amount  \\\n",
       "0           236           236                5           0.70          6.0   \n",
       "1            43            42                5           3.50         14.5   \n",
       "2            74           152                1           2.14         10.0   \n",
       "3           255           255                1           0.03         -3.0   \n",
       "4           255           255                1           0.03          3.0   \n",
       "\n",
       "   extra  mta_tax  tip_amount  tolls_amount  improvement_surcharge  \\\n",
       "0    0.5      0.5         0.0           0.0                    0.3   \n",
       "1    0.5      0.5         0.0           0.0                    0.3   \n",
       "2    0.5      0.5         0.0           0.0                    0.3   \n",
       "3   -0.5     -0.5         0.0           0.0                   -0.3   \n",
       "4    0.5      0.5         0.0           0.0                    0.3   \n",
       "\n",
       "   total_amount  payment_type  trip_type  dispatch  \n",
       "0           7.3             2        1.0         1  \n",
       "1          15.8             2        1.0         1  \n",
       "2          11.3             2        1.0         1  \n",
       "3          -4.3             3        1.0         1  \n",
       "4           4.3             2        1.0         1  "
      ]
     },
     "execution_count": 191,
     "metadata": {},
     "output_type": "execute_result"
    }
   ],
   "source": [
    "df.head()"
   ]
  },
  {
   "cell_type": "markdown",
   "metadata": {},
   "source": [
    "**Dealing with `lpep_pickup_datetime & lpep_dropoff_datetime`** Columns<br>\n",
    "* Separate dates and time from both columns.\n",
    "* Some trips started in one date and end on the next date, we can avoid them to keep the things simple\n",
    "* drop the original columns \n",
    "\n",
    "new columns will be <br>\n",
    "* PUD -- PickUp Date\n",
    "* PUT -- PickUp Time\n",
    "* DOD -- DropOff Date\n",
    "* DOT -- DropOff Time"
   ]
  },
  {
   "cell_type": "code",
   "execution_count": 192,
   "metadata": {
    "collapsed": true
   },
   "outputs": [],
   "source": [
    "df['PUD'] = pd.to_datetime(df['lpep_pickup_datetime']).dt.date\n",
    "df['PUT'] = pd.to_datetime(df['lpep_pickup_datetime']).dt.time\n",
    "df['DOD'] = pd.to_datetime(df['lpep_dropoff_datetime']).dt.date\n",
    "df['DOT'] = pd.to_datetime(df['lpep_dropoff_datetime']).dt.time\n",
    "df.drop(['lpep_pickup_datetime','lpep_dropoff_datetime'], axis = 1, inplace =True)"
   ]
  },
  {
   "cell_type": "code",
   "execution_count": 194,
   "metadata": {
    "collapsed": true
   },
   "outputs": [],
   "source": [
    "df = df[df['DOD'] == df['PUD']]"
   ]
  },
  {
   "cell_type": "markdown",
   "metadata": {},
   "source": [
    "I think, now we don't need two dates now, we can create rename either (DOD or PUD) to data and delete the other!"
   ]
  },
  {
   "cell_type": "code",
   "execution_count": 198,
   "metadata": {
    "collapsed": true
   },
   "outputs": [],
   "source": [
    "df['date']=df['DOD']\n",
    "df.drop(['DOD','PUD'], inplace = True, axis = 1)"
   ]
  },
  {
   "cell_type": "code",
   "execution_count": 199,
   "metadata": {
    "scrolled": false
   },
   "outputs": [
    {
     "name": "stdout",
     "output_type": "stream",
     "text": [
      "<class 'pandas.core.frame.DataFrame'>\n",
      "Int64Index: 783769 entries, 0 to 793528\n",
      "Data columns (total 19 columns):\n",
      "VendorID                 783769 non-null int64\n",
      "RatecodeID               783769 non-null int64\n",
      "PULocationID             783769 non-null int64\n",
      "DOLocationID             783769 non-null int64\n",
      "passenger_count          783769 non-null int64\n",
      "trip_distance            783769 non-null float64\n",
      "fare_amount              783769 non-null float64\n",
      "extra                    783769 non-null float64\n",
      "mta_tax                  783769 non-null float64\n",
      "tip_amount               783769 non-null float64\n",
      "tolls_amount             783769 non-null float64\n",
      "improvement_surcharge    783769 non-null float64\n",
      "total_amount             783769 non-null float64\n",
      "payment_type             783769 non-null int64\n",
      "trip_type                783766 non-null float64\n",
      "dispatch                 783769 non-null int64\n",
      "PUT                      783769 non-null object\n",
      "DOT                      783769 non-null object\n",
      "date                     783769 non-null object\n",
      "dtypes: float64(9), int64(7), object(3)\n",
      "memory usage: 119.6+ MB\n"
     ]
    }
   ],
   "source": [
    "df.info()"
   ]
  },
  {
   "cell_type": "markdown",
   "metadata": {},
   "source": [
    "**Comment please**<br>\n",
    "We can create a column for a common hour  for pick-ups and drop-offs in some way (e.g. rounding the ride to the previous hour for some mins in the next hours say 15 mins). This way, we can make the data simple and count no of rides in each hour. A bar plot can tell us the busy hours that will schedule available resources (in this case no of cabs) on the respective time (we can add zone here as well). "
   ]
  },
  {
   "cell_type": "code",
   "execution_count": 200,
   "metadata": {},
   "outputs": [
    {
     "data": {
      "text/plain": [
       "1     768043\n",
       "5      13692\n",
       "2       1314\n",
       "4        410\n",
       "3        297\n",
       "6         10\n",
       "99         3\n",
       "Name: RatecodeID, dtype: int64"
      ]
     },
     "execution_count": 200,
     "metadata": {},
     "output_type": "execute_result"
    }
   ],
   "source": [
    "df.RatecodeID.value_counts()"
   ]
  },
  {
   "cell_type": "markdown",
   "metadata": {},
   "source": [
    "**Comments please**<br>\n",
    "Once again, there are 7 rate codes, it is clear that the regular code '1' is maximum rides. It is great if we can find this information from the website. We can use these codes as is for ML part but for EDA, its good to suggest which code is for what type of customer. If we could not find any info, we can self suggest the codes, no problem!"
   ]
  },
  {
   "cell_type": "code",
   "execution_count": 217,
   "metadata": {},
   "outputs": [
    {
     "data": {
      "text/plain": [
       "<matplotlib.text.Text at 0x1acd447e10>"
      ]
     },
     "execution_count": 217,
     "metadata": {},
     "output_type": "execute_result"
    },
    {
     "data": {
      "image/png": "[encoded data removed]",
      "text/plain": [
       "<matplotlib.figure.Figure at 0x1ab07678d0>"
      ]
     },
     "metadata": {},
     "output_type": "display_data"
    }
   ],
   "source": [
    "fig, ax = plt.subplots(figsize = (18,4))\n",
    "sns.barplot(df.PULocationID.value_counts().index, df.PULocationID.value_counts().values, ax = ax)\n",
    "ax.set_ylim(0,60000);\n",
    "ax.set_ylabel('No. of rides')\n",
    "ax.set_xlabel('Zone')\n",
    "ax.set_title('Pick Ups')"
   ]
  },
  {
   "cell_type": "code",
   "execution_count": 218,
   "metadata": {},
   "outputs": [
    {
     "data": {
      "text/plain": [
       "<matplotlib.text.Text at 0x1a50e7ab00>"
      ]
     },
     "execution_count": 218,
     "metadata": {},
     "output_type": "execute_result"
    },
    {
     "data": {
      "image/png": "[encoded data removed]",
      "text/plain": [
       "<matplotlib.figure.Figure at 0x1a50e59400>"
      ]
     },
     "metadata": {},
     "output_type": "display_data"
    }
   ],
   "source": [
    "fig, ax = plt.subplots(figsize = (18,4))\n",
    "sns.barplot(df.DOLocationID.value_counts().index, df.DOLocationID.value_counts().values, ax = ax)\n",
    "ax.set_ylim(0,60000);\n",
    "ax.set_ylabel('No. of rides')\n",
    "ax.set_xlabel('Zone')\n",
    "ax.set_title('Drop Ups')"
   ]
  },
  {
   "cell_type": "markdown",
   "metadata": {},
   "source": [
    "The plots above may not look very good at the moment, however, they are suggesting the regions for the most calls. If we plot them w.r.t the time, we can see the flow of customer and get an idea of the commercial and residential zones. Remember, people living close to their offices have low probability to take cab.<br>\n",
    "We may need to think about some kind of aggregation for these plots so that they look good. We can use custom pellet with selected colors to convey message.<br>\n",
    "Another idea is to re-zone the city, which might not be a realistic thing because you never know how the zones are divided. Sometime, adjacent zones could have very different numbers, however this is not common in cab industry. <br>\n",
    "We might be able to get a correlation for selected features in a heatmap....we can think about it."
   ]
  },
  {
   "cell_type": "code",
   "execution_count": 222,
   "metadata": {
    "collapsed": true
   },
   "outputs": [],
   "source": [
    "df.to_csv('green_jan_2018_cleaned_1.csv', index=False)"
   ]
  },
  {
   "cell_type": "code",
   "execution_count": null,
   "metadata": {
    "collapsed": true
   },
   "outputs": [],
   "source": []
  }
 ],
 "metadata": {
  "kernelspec": {
   "display_name": "Python 3",
   "language": "python",
   "name": "python3"
  },
  "language_info": {
   "codemirror_mode": {
    "name": "ipython",
    "version": 3
   },
   "file_extension": ".py",
   "mimetype": "text/x-python",
   "name": "python",
   "nbconvert_exporter": "python",
   "pygments_lexer": "ipython3",
   "version": "3.6.1"
  }
 },
 "nbformat": 4,
 "nbformat_minor": 2
}
