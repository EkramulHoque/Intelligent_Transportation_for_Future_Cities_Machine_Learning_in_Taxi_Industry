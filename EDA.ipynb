{
 "cells": [
  {
   "cell_type": "code",
   "execution_count": 185,
   "metadata": {
    "collapsed": true
   },
   "outputs": [],
   "source": [
    "import numpy as np\n",
    "import pandas as pd\n",
    "import matplotlib.pyplot as plt\n",
    "import seaborn as sns\n",
    "sns.set_style('white')\n",
    "#import datetime\n",
    "#import math\n",
    "import warnings\n",
    "warnings.filterwarnings('ignore')#, category=DeprecationWarning) \n",
    "%matplotlib inline"
   ]
  },
  {
   "cell_type": "code",
   "execution_count": 51,
   "metadata": {
    "collapsed": true
   },
   "outputs": [],
   "source": [
    "#cols = ['itr', 'train-rmse-mean', 'train-rmse-std', 'test-rmse-mean', 'test-rmse-std']"
   ]
  },
  {
   "cell_type": "code",
   "execution_count": 193,
   "metadata": {},
   "outputs": [],
   "source": [
    "dfxg = pd.read_csv('rmse-value-XGBoost.txt',sep='\\s+')#, index_col=cols )#, header=None)"
   ]
  },
  {
   "cell_type": "code",
   "execution_count": 194,
   "metadata": {},
   "outputs": [],
   "source": [
    "#df.to_csv('rmse-value-XGBoost.csv', index=False)"
   ]
  },
  {
   "cell_type": "code",
   "execution_count": 195,
   "metadata": {},
   "outputs": [],
   "source": [
    "#df=pd.read_csv('rmse-value-XGBoost.csv')"
   ]
  },
  {
   "cell_type": "code",
   "execution_count": 196,
   "metadata": {},
   "outputs": [
    {
     "name": "stdout",
     "output_type": "stream",
     "text": [
      "<class 'pandas.core.frame.DataFrame'>\n",
      "RangeIndex: 50 entries, 0 to 49\n",
      "Data columns (total 5 columns):\n",
      "itr                50 non-null int64\n",
      "train-rmse-mean    50 non-null float64\n",
      "train-rmse-std     50 non-null float64\n",
      "test-rmse-mean     50 non-null float64\n",
      "test-rmse-std      50 non-null float64\n",
      "dtypes: float64(4), int64(1)\n",
      "memory usage: 2.0 KB\n"
     ]
    }
   ],
   "source": [
    "dfxg.info()"
   ]
  },
  {
   "cell_type": "code",
   "execution_count": 197,
   "metadata": {
    "scrolled": false
   },
   "outputs": [
    {
     "data": {
      "text/plain": [
       "<matplotlib.collections.PathCollection at 0x1a3c827860>"
      ]
     },
     "execution_count": 197,
     "metadata": {},
     "output_type": "execute_result"
    },
    {
     "data": {
      "image/png": "[encoded data removed]",
      "text/plain": [
       "<matplotlib.figure.Figure at 0x1a3c75ea90>"
      ]
     },
     "metadata": {},
     "output_type": "display_data"
    }
   ],
   "source": [
    "plt.scatter(dfxg['itr'],dfxg['train-rmse-mean'])"
   ]
  },
  {
   "cell_type": "code",
   "execution_count": null,
   "metadata": {},
   "outputs": [],
   "source": []
  },
  {
   "cell_type": "code",
   "execution_count": null,
   "metadata": {
    "collapsed": true
   },
   "outputs": [],
   "source": []
  },
  {
   "cell_type": "code",
   "execution_count": null,
   "metadata": {
    "collapsed": true
   },
   "outputs": [],
   "source": []
  },
  {
   "cell_type": "code",
   "execution_count": null,
   "metadata": {
    "collapsed": true
   },
   "outputs": [],
   "source": []
  },
  {
   "cell_type": "markdown",
   "metadata": {},
   "source": [
    "# EDA -- Final data `nyc_for_ann.csv`"
   ]
  },
  {
   "cell_type": "code",
   "execution_count": 198,
   "metadata": {
    "collapsed": true
   },
   "outputs": [],
   "source": [
    "df = pd.read_csv('nyc_for_ann.csv')"
   ]
  },
  {
   "cell_type": "code",
   "execution_count": 199,
   "metadata": {},
   "outputs": [
    {
     "data": {
      "text/html": [
       "<div>\n",
       "<style>\n",
       "    .dataframe thead tr:only-child th {\n",
       "        text-align: right;\n",
       "    }\n",
       "\n",
       "    .dataframe thead th {\n",
       "        text-align: left;\n",
       "    }\n",
       "\n",
       "    .dataframe tbody tr th {\n",
       "        vertical-align: top;\n",
       "    }\n",
       "</style>\n",
       "<table border=\"1\" class=\"dataframe\">\n",
       "  <thead>\n",
       "    <tr style=\"text-align: right;\">\n",
       "      <th></th>\n",
       "      <th>VendorID</th>\n",
       "      <th>RatecodeID</th>\n",
       "      <th>passenger_count</th>\n",
       "      <th>trip_distance</th>\n",
       "      <th>fare_amount</th>\n",
       "      <th>extra</th>\n",
       "      <th>mta_tax</th>\n",
       "      <th>tip_amount</th>\n",
       "      <th>tolls_amount</th>\n",
       "      <th>improvement_surcharge</th>\n",
       "      <th>total_amount</th>\n",
       "      <th>payment_type</th>\n",
       "      <th>trip_type</th>\n",
       "      <th>dispatch</th>\n",
       "      <th>PickUp_hr</th>\n",
       "      <th>DOLocationID</th>\n",
       "      <th>zone</th>\n",
       "    </tr>\n",
       "  </thead>\n",
       "  <tbody>\n",
       "    <tr>\n",
       "      <th>0</th>\n",
       "      <td>2</td>\n",
       "      <td>1</td>\n",
       "      <td>2</td>\n",
       "      <td>1.36</td>\n",
       "      <td>6.5</td>\n",
       "      <td>0.0</td>\n",
       "      <td>0.5</td>\n",
       "      <td>0.00</td>\n",
       "      <td>0.0</td>\n",
       "      <td>0.3</td>\n",
       "      <td>7.30</td>\n",
       "      <td>2</td>\n",
       "      <td>1.0</td>\n",
       "      <td>1</td>\n",
       "      <td>11</td>\n",
       "      <td>41</td>\n",
       "      <td>75</td>\n",
       "    </tr>\n",
       "    <tr>\n",
       "      <th>1</th>\n",
       "      <td>1</td>\n",
       "      <td>1</td>\n",
       "      <td>1</td>\n",
       "      <td>0.70</td>\n",
       "      <td>4.0</td>\n",
       "      <td>0.5</td>\n",
       "      <td>0.5</td>\n",
       "      <td>1.30</td>\n",
       "      <td>0.0</td>\n",
       "      <td>0.3</td>\n",
       "      <td>6.60</td>\n",
       "      <td>1</td>\n",
       "      <td>1.0</td>\n",
       "      <td>1</td>\n",
       "      <td>4</td>\n",
       "      <td>95</td>\n",
       "      <td>95</td>\n",
       "    </tr>\n",
       "    <tr>\n",
       "      <th>2</th>\n",
       "      <td>2</td>\n",
       "      <td>1</td>\n",
       "      <td>2</td>\n",
       "      <td>4.65</td>\n",
       "      <td>20.5</td>\n",
       "      <td>1.0</td>\n",
       "      <td>0.5</td>\n",
       "      <td>4.46</td>\n",
       "      <td>0.0</td>\n",
       "      <td>0.3</td>\n",
       "      <td>26.76</td>\n",
       "      <td>1</td>\n",
       "      <td>1.0</td>\n",
       "      <td>1</td>\n",
       "      <td>19</td>\n",
       "      <td>225</td>\n",
       "      <td>65</td>\n",
       "    </tr>\n",
       "    <tr>\n",
       "      <th>3</th>\n",
       "      <td>2</td>\n",
       "      <td>1</td>\n",
       "      <td>5</td>\n",
       "      <td>2.17</td>\n",
       "      <td>9.0</td>\n",
       "      <td>0.0</td>\n",
       "      <td>0.5</td>\n",
       "      <td>0.00</td>\n",
       "      <td>0.0</td>\n",
       "      <td>0.3</td>\n",
       "      <td>9.80</td>\n",
       "      <td>2</td>\n",
       "      <td>1.0</td>\n",
       "      <td>1</td>\n",
       "      <td>6</td>\n",
       "      <td>95</td>\n",
       "      <td>82</td>\n",
       "    </tr>\n",
       "    <tr>\n",
       "      <th>4</th>\n",
       "      <td>2</td>\n",
       "      <td>1</td>\n",
       "      <td>1</td>\n",
       "      <td>0.89</td>\n",
       "      <td>6.0</td>\n",
       "      <td>0.0</td>\n",
       "      <td>0.5</td>\n",
       "      <td>0.00</td>\n",
       "      <td>0.0</td>\n",
       "      <td>0.3</td>\n",
       "      <td>6.80</td>\n",
       "      <td>2</td>\n",
       "      <td>1.0</td>\n",
       "      <td>1</td>\n",
       "      <td>15</td>\n",
       "      <td>116</td>\n",
       "      <td>42</td>\n",
       "    </tr>\n",
       "  </tbody>\n",
       "</table>\n",
       "</div>"
      ],
      "text/plain": [
       "   VendorID  RatecodeID  passenger_count  trip_distance  fare_amount  extra  \\\n",
       "0         2           1                2           1.36          6.5    0.0   \n",
       "1         1           1                1           0.70          4.0    0.5   \n",
       "2         2           1                2           4.65         20.5    1.0   \n",
       "3         2           1                5           2.17          9.0    0.0   \n",
       "4         2           1                1           0.89          6.0    0.0   \n",
       "\n",
       "   mta_tax  tip_amount  tolls_amount  improvement_surcharge  total_amount  \\\n",
       "0      0.5        0.00           0.0                    0.3          7.30   \n",
       "1      0.5        1.30           0.0                    0.3          6.60   \n",
       "2      0.5        4.46           0.0                    0.3         26.76   \n",
       "3      0.5        0.00           0.0                    0.3          9.80   \n",
       "4      0.5        0.00           0.0                    0.3          6.80   \n",
       "\n",
       "   payment_type  trip_type  dispatch  PickUp_hr  DOLocationID  zone  \n",
       "0             2        1.0         1         11            41    75  \n",
       "1             1        1.0         1          4            95    95  \n",
       "2             1        1.0         1         19           225    65  \n",
       "3             2        1.0         1          6            95    82  \n",
       "4             2        1.0         1         15           116    42  "
      ]
     },
     "execution_count": 199,
     "metadata": {},
     "output_type": "execute_result"
    }
   ],
   "source": [
    "df.head()"
   ]
  },
  {
   "cell_type": "code",
   "execution_count": 200,
   "metadata": {},
   "outputs": [],
   "source": [
    "rides_by_hour = df.groupby('PickUp_hr').count()"
   ]
  },
  {
   "cell_type": "code",
   "execution_count": 201,
   "metadata": {},
   "outputs": [
    {
     "data": {
      "text/html": [
       "<div>\n",
       "<style>\n",
       "    .dataframe thead tr:only-child th {\n",
       "        text-align: right;\n",
       "    }\n",
       "\n",
       "    .dataframe thead th {\n",
       "        text-align: left;\n",
       "    }\n",
       "\n",
       "    .dataframe tbody tr th {\n",
       "        vertical-align: top;\n",
       "    }\n",
       "</style>\n",
       "<table border=\"1\" class=\"dataframe\">\n",
       "  <thead>\n",
       "    <tr style=\"text-align: right;\">\n",
       "      <th></th>\n",
       "      <th>VendorID</th>\n",
       "      <th>RatecodeID</th>\n",
       "      <th>passenger_count</th>\n",
       "      <th>trip_distance</th>\n",
       "      <th>fare_amount</th>\n",
       "      <th>extra</th>\n",
       "      <th>mta_tax</th>\n",
       "      <th>tip_amount</th>\n",
       "      <th>tolls_amount</th>\n",
       "      <th>improvement_surcharge</th>\n",
       "      <th>total_amount</th>\n",
       "      <th>payment_type</th>\n",
       "      <th>trip_type</th>\n",
       "      <th>dispatch</th>\n",
       "      <th>DOLocationID</th>\n",
       "      <th>zone</th>\n",
       "    </tr>\n",
       "    <tr>\n",
       "      <th>PickUp_hr</th>\n",
       "      <th></th>\n",
       "      <th></th>\n",
       "      <th></th>\n",
       "      <th></th>\n",
       "      <th></th>\n",
       "      <th></th>\n",
       "      <th></th>\n",
       "      <th></th>\n",
       "      <th></th>\n",
       "      <th></th>\n",
       "      <th></th>\n",
       "      <th></th>\n",
       "      <th></th>\n",
       "      <th></th>\n",
       "      <th></th>\n",
       "      <th></th>\n",
       "    </tr>\n",
       "  </thead>\n",
       "  <tbody>\n",
       "    <tr>\n",
       "      <th>0</th>\n",
       "      <td>68283</td>\n",
       "      <td>68283</td>\n",
       "      <td>68283</td>\n",
       "      <td>68283</td>\n",
       "      <td>68283</td>\n",
       "      <td>68283</td>\n",
       "      <td>68283</td>\n",
       "      <td>68283</td>\n",
       "      <td>68283</td>\n",
       "      <td>68283</td>\n",
       "      <td>68283</td>\n",
       "      <td>68283</td>\n",
       "      <td>68283</td>\n",
       "      <td>68283</td>\n",
       "      <td>68283</td>\n",
       "      <td>68283</td>\n",
       "    </tr>\n",
       "    <tr>\n",
       "      <th>1</th>\n",
       "      <td>52124</td>\n",
       "      <td>52124</td>\n",
       "      <td>52124</td>\n",
       "      <td>52124</td>\n",
       "      <td>52124</td>\n",
       "      <td>52124</td>\n",
       "      <td>52124</td>\n",
       "      <td>52124</td>\n",
       "      <td>52124</td>\n",
       "      <td>52124</td>\n",
       "      <td>52124</td>\n",
       "      <td>52124</td>\n",
       "      <td>52124</td>\n",
       "      <td>52124</td>\n",
       "      <td>52124</td>\n",
       "      <td>52124</td>\n",
       "    </tr>\n",
       "    <tr>\n",
       "      <th>2</th>\n",
       "      <td>36940</td>\n",
       "      <td>36940</td>\n",
       "      <td>36940</td>\n",
       "      <td>36940</td>\n",
       "      <td>36940</td>\n",
       "      <td>36940</td>\n",
       "      <td>36940</td>\n",
       "      <td>36940</td>\n",
       "      <td>36940</td>\n",
       "      <td>36940</td>\n",
       "      <td>36940</td>\n",
       "      <td>36940</td>\n",
       "      <td>36940</td>\n",
       "      <td>36940</td>\n",
       "      <td>36940</td>\n",
       "      <td>36940</td>\n",
       "    </tr>\n",
       "    <tr>\n",
       "      <th>3</th>\n",
       "      <td>28293</td>\n",
       "      <td>28293</td>\n",
       "      <td>28293</td>\n",
       "      <td>28293</td>\n",
       "      <td>28293</td>\n",
       "      <td>28293</td>\n",
       "      <td>28293</td>\n",
       "      <td>28293</td>\n",
       "      <td>28293</td>\n",
       "      <td>28293</td>\n",
       "      <td>28293</td>\n",
       "      <td>28293</td>\n",
       "      <td>28293</td>\n",
       "      <td>28293</td>\n",
       "      <td>28293</td>\n",
       "      <td>28293</td>\n",
       "    </tr>\n",
       "    <tr>\n",
       "      <th>4</th>\n",
       "      <td>23181</td>\n",
       "      <td>23181</td>\n",
       "      <td>23181</td>\n",
       "      <td>23181</td>\n",
       "      <td>23181</td>\n",
       "      <td>23181</td>\n",
       "      <td>23181</td>\n",
       "      <td>23181</td>\n",
       "      <td>23181</td>\n",
       "      <td>23181</td>\n",
       "      <td>23181</td>\n",
       "      <td>23181</td>\n",
       "      <td>23181</td>\n",
       "      <td>23181</td>\n",
       "      <td>23181</td>\n",
       "      <td>23181</td>\n",
       "    </tr>\n",
       "  </tbody>\n",
       "</table>\n",
       "</div>"
      ],
      "text/plain": [
       "           VendorID  RatecodeID  passenger_count  trip_distance  fare_amount  \\\n",
       "PickUp_hr                                                                      \n",
       "0             68283       68283            68283          68283        68283   \n",
       "1             52124       52124            52124          52124        52124   \n",
       "2             36940       36940            36940          36940        36940   \n",
       "3             28293       28293            28293          28293        28293   \n",
       "4             23181       23181            23181          23181        23181   \n",
       "\n",
       "           extra  mta_tax  tip_amount  tolls_amount  improvement_surcharge  \\\n",
       "PickUp_hr                                                                    \n",
       "0          68283    68283       68283         68283                  68283   \n",
       "1          52124    52124       52124         52124                  52124   \n",
       "2          36940    36940       36940         36940                  36940   \n",
       "3          28293    28293       28293         28293                  28293   \n",
       "4          23181    23181       23181         23181                  23181   \n",
       "\n",
       "           total_amount  payment_type  trip_type  dispatch  DOLocationID  \\\n",
       "PickUp_hr                                                                  \n",
       "0                 68283         68283      68283     68283         68283   \n",
       "1                 52124         52124      52124     52124         52124   \n",
       "2                 36940         36940      36940     36940         36940   \n",
       "3                 28293         28293      28293     28293         28293   \n",
       "4                 23181         23181      23181     23181         23181   \n",
       "\n",
       "            zone  \n",
       "PickUp_hr         \n",
       "0          68283  \n",
       "1          52124  \n",
       "2          36940  \n",
       "3          28293  \n",
       "4          23181  "
      ]
     },
     "execution_count": 201,
     "metadata": {},
     "output_type": "execute_result"
    }
   ],
   "source": [
    "rides_by_hour.head()"
   ]
  },
  {
   "cell_type": "markdown",
   "metadata": {},
   "source": [
    "**Creating costume palette**<br>\n",
    "we can select any column from this grouped data. they all have same value of count"
   ]
  },
  {
   "cell_type": "code",
   "execution_count": 202,
   "metadata": {},
   "outputs": [],
   "source": [
    "#cust_list=list(rides_by_hour['VendorID'])\n",
    "cust_list=list(rides_by_hour['VendorID'])\n",
    "count = 0\n",
    "custom_palette = {}\n",
    "for q in cust_list:\n",
    "#for q in set(set(df['PickUp_hr'])):\n",
    "#    print(q)\n",
    "    if q >= 80000:        \n",
    "        custom_palette[count]= 'r' \n",
    "        count=count+1\n",
    "    elif (q >= 50000 and q <= 80000):        \n",
    "        custom_palette[count]= 'g' \n",
    "        count=count+1\n",
    "    else:   \n",
    "#        print('b')\n",
    "        custom_palette[count]= 'grey' \n",
    "        count=count+1"
   ]
  },
  {
   "cell_type": "code",
   "execution_count": 210,
   "metadata": {},
   "outputs": [
    {
     "data": {
      "image/png": "[encoded data removed]",
      "text/plain": [
       "<matplotlib.figure.Figure at 0x1a38dd1f60>"
      ]
     },
     "metadata": {},
     "output_type": "display_data"
    }
   ],
   "source": [
    "#we can select any column from this grouped data. they all have same value of count\n",
    "#fig , ax , = plt.subplots(ncols = 1, figsize = (12,4))\n",
    "fig, ax = plt.subplots(figsize = (15,6))\n",
    "sns.barplot(rides_by_hour.index, rides_by_hour.VendorID/100, ax = ax, palette = custom_palette)\n",
    "ax.set_xlabel('Hour', size = 20)\n",
    "ax.set_ylabel('Taxi Demand (x 100)', size = 20)\n",
    "ax.tick_params(labelsize=14)\n",
    "fig.savefig(\"T_Demand_24_hr.png\", dpi = 200)\n",
    "#ax.set_ylim(0,150);"
   ]
  },
  {
   "cell_type": "code",
   "execution_count": 155,
   "metadata": {},
   "outputs": [
    {
     "name": "stdout",
     "output_type": "stream",
     "text": [
      "68283\n",
      "52124\n",
      "36940\n",
      "28293\n",
      "23181\n",
      "15527\n",
      "22307\n",
      "45922\n",
      "69405\n",
      "73937\n",
      "70012\n",
      "70687\n",
      "71588\n",
      "72244\n",
      "82082\n",
      "92961\n",
      "102273\n",
      "114483\n",
      "126553\n",
      "121468\n",
      "106453\n",
      "99280\n",
      "91766\n",
      "68285\n"
     ]
    }
   ],
   "source": [
    "#cust_list=list(rides_by_hour['VendorID'])\n",
    "cust_list=list(rides_by_hour['VendorID'])\n",
    "count = 0\n",
    "custom_palette = {}\n",
    "for q in cust_list:\n",
    "#for q in set(set(df['PickUp_hr'])):\n",
    "    print(q)\n",
    "    if q > 60000:\n",
    "        \n",
    "        custom_palette[count]= 'r' \n",
    "        count=count+1\n",
    "    else:\n",
    "        \n",
    "        custom_palette[count]= 'grey' \n",
    "        count=count+1"
   ]
  },
  {
   "cell_type": "code",
   "execution_count": 211,
   "metadata": {},
   "outputs": [
    {
     "data": {
      "text/plain": [
       "[68283,\n",
       " 52124,\n",
       " 36940,\n",
       " 28293,\n",
       " 23181,\n",
       " 15527,\n",
       " 22307,\n",
       " 45922,\n",
       " 69405,\n",
       " 73937,\n",
       " 70012,\n",
       " 70687,\n",
       " 71588,\n",
       " 72244,\n",
       " 82082,\n",
       " 92961,\n",
       " 102273,\n",
       " 114483,\n",
       " 126553,\n",
       " 121468,\n",
       " 106453,\n",
       " 99280,\n",
       " 91766,\n",
       " 68285]"
      ]
     },
     "execution_count": 211,
     "metadata": {},
     "output_type": "execute_result"
    }
   ],
   "source": [
    "cust_list"
   ]
  },
  {
   "cell_type": "code",
   "execution_count": 163,
   "metadata": {},
   "outputs": [
    {
     "data": {
      "text/plain": [
       "{0: 'g',\n",
       " 1: 'g',\n",
       " 2: 'g',\n",
       " 3: 'g',\n",
       " 4: 'g',\n",
       " 5: 'g',\n",
       " 6: 'g',\n",
       " 7: 'g',\n",
       " 8: 'g',\n",
       " 9: 'g',\n",
       " 10: 'g',\n",
       " 11: 'g',\n",
       " 12: 'g',\n",
       " 13: 'g',\n",
       " 14: 'r',\n",
       " 15: 'r',\n",
       " 16: 'r',\n",
       " 17: 'r',\n",
       " 18: 'r',\n",
       " 19: 'r',\n",
       " 20: 'r',\n",
       " 21: 'r',\n",
       " 22: 'r',\n",
       " 23: 'g'}"
      ]
     },
     "execution_count": 163,
     "metadata": {},
     "output_type": "execute_result"
    }
   ],
   "source": [
    "custom_palette"
   ]
  },
  {
   "cell_type": "code",
   "execution_count": null,
   "metadata": {
    "collapsed": true
   },
   "outputs": [],
   "source": []
  },
  {
   "cell_type": "code",
   "execution_count": null,
   "metadata": {
    "collapsed": true
   },
   "outputs": [],
   "source": []
  },
  {
   "cell_type": "code",
   "execution_count": null,
   "metadata": {
    "collapsed": true
   },
   "outputs": [],
   "source": []
  },
  {
   "cell_type": "code",
   "execution_count": null,
   "metadata": {
    "collapsed": true
   },
   "outputs": [],
   "source": []
  },
  {
   "cell_type": "code",
   "execution_count": null,
   "metadata": {
    "collapsed": true
   },
   "outputs": [],
   "source": [
    "cust_list=list(rides_by_hour['VendorID'])\n",
    "custom_palette = {}\n",
    "for q in cust_list:\n",
    "    if q > 60000.0:\n",
    "        custom_palette[q]= 'r'\n",
    "    else:\n",
    "        custom_palette[q]= 'grey'  "
   ]
  },
  {
   "cell_type": "code",
   "execution_count": null,
   "metadata": {
    "collapsed": true
   },
   "outputs": [],
   "source": []
  },
  {
   "cell_type": "code",
   "execution_count": null,
   "metadata": {
    "collapsed": true
   },
   "outputs": [],
   "source": []
  },
  {
   "cell_type": "code",
   "execution_count": null,
   "metadata": {
    "collapsed": true
   },
   "outputs": [],
   "source": []
  },
  {
   "cell_type": "code",
   "execution_count": null,
   "metadata": {
    "collapsed": true
   },
   "outputs": [],
   "source": []
  },
  {
   "cell_type": "code",
   "execution_count": null,
   "metadata": {
    "collapsed": true
   },
   "outputs": [],
   "source": []
  },
  {
   "cell_type": "code",
   "execution_count": null,
   "metadata": {
    "collapsed": true
   },
   "outputs": [],
   "source": []
  },
  {
   "cell_type": "code",
   "execution_count": null,
   "metadata": {
    "collapsed": true
   },
   "outputs": [],
   "source": []
  },
  {
   "cell_type": "code",
   "execution_count": null,
   "metadata": {
    "collapsed": true
   },
   "outputs": [],
   "source": []
  },
  {
   "cell_type": "code",
   "execution_count": null,
   "metadata": {
    "collapsed": true
   },
   "outputs": [],
   "source": []
  },
  {
   "cell_type": "code",
   "execution_count": null,
   "metadata": {
    "collapsed": true
   },
   "outputs": [],
   "source": []
  },
  {
   "cell_type": "code",
   "execution_count": null,
   "metadata": {
    "collapsed": true
   },
   "outputs": [],
   "source": []
  },
  {
   "cell_type": "code",
   "execution_count": null,
   "metadata": {
    "collapsed": true
   },
   "outputs": [],
   "source": []
  }
 ],
 "metadata": {
  "kernelspec": {
   "display_name": "Python 3",
   "language": "python",
   "name": "python3"
  },
  "language_info": {
   "codemirror_mode": {
    "name": "ipython",
    "version": 3
   },
   "file_extension": ".py",
   "mimetype": "text/x-python",
   "name": "python",
   "nbconvert_exporter": "python",
   "pygments_lexer": "ipython3",
   "version": "3.6.1"
  }
 },
 "nbformat": 4,
 "nbformat_minor": 2
}
