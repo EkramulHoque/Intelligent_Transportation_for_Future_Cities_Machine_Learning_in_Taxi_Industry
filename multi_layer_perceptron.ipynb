{
 "cells": [
  {
   "cell_type": "code",
   "execution_count": 41,
   "metadata": {},
   "outputs": [],
   "source": [
    "from numpy import array\n",
    "from numpy import argmax\n",
    "from keras.optimizers import RMSprop, Adam\n",
    "from keras.utils import to_categorical\n",
    "from sklearn.model_selection import train_test_split\n",
    "import matplotlib.pyplot as plt\n",
    "import pandas as pd\n",
    "import numpy as np\n",
    "from keras.datasets import mnist\n",
    "from keras.models import Sequential\n",
    "from keras.layers.core import Dense, Activation, Dropout\n",
    "from keras.optimizers import SGD\n",
    "from keras.utils import np_utils\n",
    "from sklearn import preprocessing\n",
    "from sklearn.preprocessing import MinMaxScaler\n",
    "from sklearn.preprocessing import LabelEncoder\n",
    "np.random.seed(1671)"
   ]
  },
  {
   "cell_type": "markdown",
   "metadata": {},
   "source": [
    "Graph plot for training and testing data"
   ]
  },
  {
   "cell_type": "code",
   "execution_count": 50,
   "metadata": {},
   "outputs": [],
   "source": [
    "def graph_plot(history):\n",
    "    fig = plt.figure()\n",
    "    plt.plot(history.history['loss'], label='train')\n",
    "    plt.plot(history.history['val_loss'], label='validation')\n",
    "    plt.ylabel(\"Loss\")\n",
    "    plt.xlabel(\"Epochs\")\n",
    "    plt.legend()\n",
    "    plt.show()\n",
    "    fig.savefig('error_result.png')"
   ]
  },
  {
   "cell_type": "code",
   "execution_count": 15,
   "metadata": {},
   "outputs": [],
   "source": [
    "def labelEncoding(y):\n",
    "    encoder = LabelEncoder()\n",
    "    encoder.fit(y)\n",
    "    y = encoder.transform(y)\n",
    "    y = np_utils.to_categorical(y)\n",
    "    return y"
   ]
  },
  {
   "cell_type": "code",
   "execution_count": 42,
   "metadata": {},
   "outputs": [
    {
     "name": "stdout",
     "output_type": "stream",
     "text": [
      "<class 'pandas.core.frame.DataFrame'>\n",
      "RangeIndex: 1713732 entries, 0 to 1713731\n",
      "Data columns (total 23 columns):\n",
      "VendorID                 int64\n",
      "RatecodeID               int64\n",
      "DOLocationID             int64\n",
      "passenger_count          int64\n",
      "trip_distance            float64\n",
      "fare_amount              float64\n",
      "extra                    float64\n",
      "mta_tax                  float64\n",
      "tip_amount               float64\n",
      "tolls_amount             float64\n",
      "improvement_surcharge    float64\n",
      "total_amount             float64\n",
      "payment_type             int64\n",
      "trip_type                float64\n",
      "dispatch                 int64\n",
      "PUT                      object\n",
      "DOT                      object\n",
      "PickUp_hr                int64\n",
      "TMAX                     int64\n",
      "day                      int64\n",
      "month                    int64\n",
      "ride_time_sec            float64\n",
      "zone                     int64\n",
      "dtypes: float64(10), int64(11), object(2)\n",
      "memory usage: 300.7+ MB\n"
     ]
    }
   ],
   "source": [
    "dataset = pd.read_csv('nyc_for_ann.csv')\n",
    "#dataset = pd.read_csv('nyc_dummies.csv')\n",
    "dataset.info()"
   ]
  },
  {
   "cell_type": "markdown",
   "metadata": {},
   "source": [
    "Dropped all the features that has high correlation (refer to the correlation test) and date time value"
   ]
  },
  {
   "cell_type": "code",
   "execution_count": 43,
   "metadata": {},
   "outputs": [
    {
     "data": {
      "text/html": [
       "<div>\n",
       "<style scoped>\n",
       "    .dataframe tbody tr th:only-of-type {\n",
       "        vertical-align: middle;\n",
       "    }\n",
       "\n",
       "    .dataframe tbody tr th {\n",
       "        vertical-align: top;\n",
       "    }\n",
       "\n",
       "    .dataframe thead th {\n",
       "        text-align: right;\n",
       "    }\n",
       "</style>\n",
       "<table border=\"1\" class=\"dataframe\">\n",
       "  <thead>\n",
       "    <tr style=\"text-align: right;\">\n",
       "      <th></th>\n",
       "      <th>VendorID</th>\n",
       "      <th>RatecodeID</th>\n",
       "      <th>DOLocationID</th>\n",
       "      <th>passenger_count</th>\n",
       "      <th>trip_distance</th>\n",
       "      <th>fare_amount</th>\n",
       "      <th>extra</th>\n",
       "      <th>mta_tax</th>\n",
       "      <th>tip_amount</th>\n",
       "      <th>tolls_amount</th>\n",
       "      <th>improvement_surcharge</th>\n",
       "      <th>total_amount</th>\n",
       "      <th>payment_type</th>\n",
       "      <th>trip_type</th>\n",
       "      <th>dispatch</th>\n",
       "      <th>PickUp_hr</th>\n",
       "      <th>TMAX</th>\n",
       "      <th>month</th>\n",
       "      <th>ride_time_sec</th>\n",
       "    </tr>\n",
       "  </thead>\n",
       "  <tbody>\n",
       "    <tr>\n",
       "      <th>0</th>\n",
       "      <td>2</td>\n",
       "      <td>1</td>\n",
       "      <td>217</td>\n",
       "      <td>1</td>\n",
       "      <td>2.90</td>\n",
       "      <td>14.5</td>\n",
       "      <td>0.0</td>\n",
       "      <td>0.5</td>\n",
       "      <td>0.00</td>\n",
       "      <td>0.0</td>\n",
       "      <td>0.3</td>\n",
       "      <td>15.30</td>\n",
       "      <td>2</td>\n",
       "      <td>1.0</td>\n",
       "      <td>1</td>\n",
       "      <td>11</td>\n",
       "      <td>33</td>\n",
       "      <td>1</td>\n",
       "      <td>1117.0</td>\n",
       "    </tr>\n",
       "    <tr>\n",
       "      <th>1</th>\n",
       "      <td>2</td>\n",
       "      <td>1</td>\n",
       "      <td>91</td>\n",
       "      <td>6</td>\n",
       "      <td>4.77</td>\n",
       "      <td>16.5</td>\n",
       "      <td>0.5</td>\n",
       "      <td>0.5</td>\n",
       "      <td>0.00</td>\n",
       "      <td>0.0</td>\n",
       "      <td>0.3</td>\n",
       "      <td>17.80</td>\n",
       "      <td>2</td>\n",
       "      <td>1.0</td>\n",
       "      <td>1</td>\n",
       "      <td>22</td>\n",
       "      <td>33</td>\n",
       "      <td>1</td>\n",
       "      <td>1033.0</td>\n",
       "    </tr>\n",
       "    <tr>\n",
       "      <th>2</th>\n",
       "      <td>2</td>\n",
       "      <td>1</td>\n",
       "      <td>74</td>\n",
       "      <td>1</td>\n",
       "      <td>1.95</td>\n",
       "      <td>11.5</td>\n",
       "      <td>0.0</td>\n",
       "      <td>0.5</td>\n",
       "      <td>0.00</td>\n",
       "      <td>0.0</td>\n",
       "      <td>0.3</td>\n",
       "      <td>12.30</td>\n",
       "      <td>1</td>\n",
       "      <td>1.0</td>\n",
       "      <td>1</td>\n",
       "      <td>14</td>\n",
       "      <td>33</td>\n",
       "      <td>1</td>\n",
       "      <td>945.0</td>\n",
       "    </tr>\n",
       "    <tr>\n",
       "      <th>3</th>\n",
       "      <td>1</td>\n",
       "      <td>1</td>\n",
       "      <td>217</td>\n",
       "      <td>1</td>\n",
       "      <td>2.20</td>\n",
       "      <td>12.5</td>\n",
       "      <td>0.5</td>\n",
       "      <td>0.5</td>\n",
       "      <td>2.75</td>\n",
       "      <td>0.0</td>\n",
       "      <td>0.3</td>\n",
       "      <td>16.55</td>\n",
       "      <td>1</td>\n",
       "      <td>1.0</td>\n",
       "      <td>1</td>\n",
       "      <td>23</td>\n",
       "      <td>33</td>\n",
       "      <td>1</td>\n",
       "      <td>1021.0</td>\n",
       "    </tr>\n",
       "    <tr>\n",
       "      <th>4</th>\n",
       "      <td>2</td>\n",
       "      <td>1</td>\n",
       "      <td>4</td>\n",
       "      <td>1</td>\n",
       "      <td>2.82</td>\n",
       "      <td>13.0</td>\n",
       "      <td>0.5</td>\n",
       "      <td>0.5</td>\n",
       "      <td>1.00</td>\n",
       "      <td>0.0</td>\n",
       "      <td>0.3</td>\n",
       "      <td>15.30</td>\n",
       "      <td>1</td>\n",
       "      <td>1.0</td>\n",
       "      <td>1</td>\n",
       "      <td>23</td>\n",
       "      <td>33</td>\n",
       "      <td>1</td>\n",
       "      <td>921.0</td>\n",
       "    </tr>\n",
       "  </tbody>\n",
       "</table>\n",
       "</div>"
      ],
      "text/plain": [
       "   VendorID  RatecodeID  DOLocationID  passenger_count  trip_distance  \\\n",
       "0         2           1           217                1           2.90   \n",
       "1         2           1            91                6           4.77   \n",
       "2         2           1            74                1           1.95   \n",
       "3         1           1           217                1           2.20   \n",
       "4         2           1             4                1           2.82   \n",
       "\n",
       "   fare_amount  extra  mta_tax  tip_amount  tolls_amount  \\\n",
       "0         14.5    0.0      0.5        0.00           0.0   \n",
       "1         16.5    0.5      0.5        0.00           0.0   \n",
       "2         11.5    0.0      0.5        0.00           0.0   \n",
       "3         12.5    0.5      0.5        2.75           0.0   \n",
       "4         13.0    0.5      0.5        1.00           0.0   \n",
       "\n",
       "   improvement_surcharge  total_amount  payment_type  trip_type  dispatch  \\\n",
       "0                    0.3         15.30             2        1.0         1   \n",
       "1                    0.3         17.80             2        1.0         1   \n",
       "2                    0.3         12.30             1        1.0         1   \n",
       "3                    0.3         16.55             1        1.0         1   \n",
       "4                    0.3         15.30             1        1.0         1   \n",
       "\n",
       "   PickUp_hr  TMAX  month  ride_time_sec  \n",
       "0         11    33      1         1117.0  \n",
       "1         22    33      1         1033.0  \n",
       "2         14    33      1          945.0  \n",
       "3         23    33      1         1021.0  \n",
       "4         23    33      1          921.0  "
      ]
     },
     "execution_count": 43,
     "metadata": {},
     "output_type": "execute_result"
    }
   ],
   "source": [
    "# X = dataset.drop(columns=['dispatch','trip_type', 'VendorID','improvement_surcharge','payment_type','mta_tax','ride_time_sec', \n",
    "#                          'RatecodeID','tolls_amount','PUT','DOT'],axis=1)\n",
    "X = dataset.drop(columns=['PUT','DOT','day','zone'],axis=1)\n",
    "#X = dataset.drop('zone',axis=1)\n",
    "#X = dataset[['extra', 'trip_type','trip_distance','payment_type','mta_tax']]\n",
    "#X = dataset[['VendorID','RatecodeID','passenger_count','trip_distance','fare_amount','extra','mta_tax','tip_amount','tolls_amount','improvement_surcharge','total_amount','dispatch','TMAX','ride_time_sec']]\n",
    "y = dataset['zone']\n",
    "del dataset\n",
    "X.head()"
   ]
  },
  {
   "cell_type": "markdown",
   "metadata": {},
   "source": [
    "We decide to randomly drop with the dropout probability some of the values propagated inside our internal dense network of hidden layers. In machine learning, this is a well-known form of regularization"
   ]
  },
  {
   "cell_type": "code",
   "execution_count": 5,
   "metadata": {},
   "outputs": [],
   "source": [
    "NB_EPOCH = 50\n",
    "BATCH_SIZE = 100\n",
    "VALIDATION_SPLIT=0.2\n",
    "VERBOSE = 1\n",
    "OPTIMIZER = Adam(lr=0.001, decay = (0.001) / NB_EPOCH ) # optimizer, explained later in this chapter\n",
    "N_HIDDEN = 128\n",
    "DROPOUT = 0.3"
   ]
  },
  {
   "cell_type": "markdown",
   "metadata": {},
   "source": [
    "We have to map the zones to distinct categories; example in our target column we have something like 7,7,7,5,6,3,2... which are our zones. Now first we decide how many unique zones/classes are here. Then map each zones to a value here its a vector. Example for zone 7 it would [0,0,0,0,0,0,1,0,0,0,0,0,0,....]"
   ]
  },
  {
   "cell_type": "code",
   "execution_count": 6,
   "metadata": {},
   "outputs": [],
   "source": [
    "def OneHotEncoding(y):\n",
    "    data = array(y)\n",
    "    encoded = to_categorical(data)\n",
    "    print(np.shape(encoded))\n",
    "    return encoded"
   ]
  },
  {
   "cell_type": "markdown",
   "metadata": {},
   "source": [
    "Multilayer Perceptron Model"
   ]
  },
  {
   "cell_type": "code",
   "execution_count": 7,
   "metadata": {},
   "outputs": [],
   "source": [
    "def model(N_HIDDEN,RESHAPED,NB_CLASSES,OPTIMIZER,DROPOUT):\n",
    "    model = Sequential()\n",
    "    model.add(Dense(N_HIDDEN, input_shape=(RESHAPED,)))\n",
    "    model.add(Activation('relu'))\n",
    "    model.add(Dense(N_HIDDEN))\n",
    "    model.add(Activation('relu'))\n",
    "    #model.add(Dropout(DROPOUT))\n",
    "    model.add(Dense(NB_CLASSES))\n",
    "    model.add(Activation('softmax'))\n",
    "    model.summary()\n",
    "    model.compile(loss='categorical_crossentropy',\n",
    "    optimizer=OPTIMIZER,\n",
    "    metrics=['accuracy'])\n",
    "    return model"
   ]
  },
  {
   "cell_type": "code",
   "execution_count": 44,
   "metadata": {},
   "outputs": [],
   "source": [
    "X_train, X_test, y_train, y_test = train_test_split(X, y, test_size=0.2, random_state=123)\n",
    "RESHAPED = len(X_train.columns)"
   ]
  },
  {
   "cell_type": "code",
   "execution_count": 9,
   "metadata": {},
   "outputs": [
    {
     "name": "stderr",
     "output_type": "stream",
     "text": [
      "c:\\users\\user\\appdata\\local\\conda\\conda\\envs\\tf_gpu\\lib\\site-packages\\sklearn\\preprocessing\\data.py:323: DataConversionWarning: Data with input dtype int64, float64 were all converted to float64 by MinMaxScaler.\n",
      "  return self.partial_fit(X, y)\n"
     ]
    }
   ],
   "source": [
    "scaler = MinMaxScaler()\n",
    "X_train = scaler.fit_transform(X_train)\n",
    "X_test = scaler.transform(X_test)"
   ]
  },
  {
   "cell_type": "code",
   "execution_count": 10,
   "metadata": {},
   "outputs": [
    {
     "name": "stdout",
     "output_type": "stream",
     "text": [
      "(1370985, 261)\n"
     ]
    }
   ],
   "source": [
    "y_train = OneHotEncoding(y_train)"
   ]
  },
  {
   "cell_type": "code",
   "execution_count": 11,
   "metadata": {},
   "outputs": [],
   "source": [
    "#unique_elements, counts_elements = np.unique(y_train, return_counts=True)\n",
    "NB_CLASSES = y_train.shape[1]"
   ]
  },
  {
   "cell_type": "code",
   "execution_count": 12,
   "metadata": {},
   "outputs": [
    {
     "name": "stdout",
     "output_type": "stream",
     "text": [
      "_________________________________________________________________\n",
      "Layer (type)                 Output Shape              Param #   \n",
      "=================================================================\n",
      "dense_1 (Dense)              (None, 128)               2560      \n",
      "_________________________________________________________________\n",
      "activation_1 (Activation)    (None, 128)               0         \n",
      "_________________________________________________________________\n",
      "dense_2 (Dense)              (None, 128)               16512     \n",
      "_________________________________________________________________\n",
      "activation_2 (Activation)    (None, 128)               0         \n",
      "_________________________________________________________________\n",
      "dense_3 (Dense)              (None, 261)               33669     \n",
      "_________________________________________________________________\n",
      "activation_3 (Activation)    (None, 261)               0         \n",
      "=================================================================\n",
      "Total params: 52,741\n",
      "Trainable params: 52,741\n",
      "Non-trainable params: 0\n",
      "_________________________________________________________________\n"
     ]
    }
   ],
   "source": [
    "model= model(N_HIDDEN,RESHAPED,NB_CLASSES,OPTIMIZER,DROPOUT)"
   ]
  },
  {
   "cell_type": "code",
   "execution_count": 13,
   "metadata": {},
   "outputs": [
    {
     "name": "stdout",
     "output_type": "stream",
     "text": [
      "Train on 1096788 samples, validate on 274197 samples\n",
      "Epoch 1/50\n",
      "1096788/1096788 [==============================] - 36s 33us/step - loss: 2.7183 - acc: 0.1907 - val_loss: 2.5488 - val_acc: 0.2325\n",
      "Epoch 2/50\n",
      "1096788/1096788 [==============================] - 34s 31us/step - loss: 2.4561 - acc: 0.2527 - val_loss: 2.3587 - val_acc: 0.2727\n",
      "Epoch 3/50\n",
      "1096788/1096788 [==============================] - 34s 31us/step - loss: 2.2947 - acc: 0.2878 - val_loss: 2.2405 - val_acc: 0.2999\n",
      "Epoch 4/50\n",
      "1096788/1096788 [==============================] - 34s 31us/step - loss: 2.1967 - acc: 0.3065 - val_loss: 2.1683 - val_acc: 0.3085\n",
      "Epoch 5/50\n",
      "1096788/1096788 [==============================] - 34s 31us/step - loss: 2.1341 - acc: 0.3187 - val_loss: 2.1064 - val_acc: 0.3239\n",
      "Epoch 6/50\n",
      "1096788/1096788 [==============================] - 34s 31us/step - loss: 2.0888 - acc: 0.3278 - val_loss: 2.0723 - val_acc: 0.3320\n",
      "Epoch 7/50\n",
      "1096788/1096788 [==============================] - 34s 31us/step - loss: 2.0537 - acc: 0.3356 - val_loss: 2.0445 - val_acc: 0.3384\n",
      "Epoch 8/50\n",
      "1096788/1096788 [==============================] - 34s 31us/step - loss: 2.0265 - acc: 0.3421 - val_loss: 2.0138 - val_acc: 0.3450\n",
      "Epoch 9/50\n",
      "1096788/1096788 [==============================] - 34s 31us/step - loss: 2.0051 - acc: 0.3472 - val_loss: 1.9963 - val_acc: 0.3511\n",
      "Epoch 10/50\n",
      "1096788/1096788 [==============================] - 34s 31us/step - loss: 1.9879 - acc: 0.3515 - val_loss: 1.9801 - val_acc: 0.3532\n",
      "Epoch 11/50\n",
      "1096788/1096788 [==============================] - 34s 31us/step - loss: 1.9730 - acc: 0.3553 - val_loss: 1.9654 - val_acc: 0.3561\n",
      "Epoch 12/50\n",
      "1096788/1096788 [==============================] - 34s 31us/step - loss: 1.9606 - acc: 0.3592 - val_loss: 1.9561 - val_acc: 0.3584\n",
      "Epoch 13/50\n",
      "1096788/1096788 [==============================] - 35s 32us/step - loss: 1.9494 - acc: 0.3620 - val_loss: 1.9450 - val_acc: 0.3625\n",
      "Epoch 14/50\n",
      "1096788/1096788 [==============================] - 34s 31us/step - loss: 1.9396 - acc: 0.3648 - val_loss: 1.9409 - val_acc: 0.3612\n",
      "Epoch 15/50\n",
      "1096788/1096788 [==============================] - 34s 31us/step - loss: 1.9308 - acc: 0.3672 - val_loss: 1.9400 - val_acc: 0.3640\n",
      "Epoch 16/50\n",
      "1096788/1096788 [==============================] - 34s 31us/step - loss: 1.9225 - acc: 0.3698 - val_loss: 1.9207 - val_acc: 0.3695\n",
      "Epoch 17/50\n",
      "1096788/1096788 [==============================] - 34s 31us/step - loss: 1.9149 - acc: 0.3717 - val_loss: 1.9161 - val_acc: 0.3693\n",
      "Epoch 18/50\n",
      "1096788/1096788 [==============================] - 34s 31us/step - loss: 1.9079 - acc: 0.3738 - val_loss: 1.9094 - val_acc: 0.3722\n",
      "Epoch 19/50\n",
      "1096788/1096788 [==============================] - 34s 31us/step - loss: 1.9018 - acc: 0.3754 - val_loss: 1.9019 - val_acc: 0.3761\n",
      "Epoch 20/50\n",
      "1096788/1096788 [==============================] - 34s 31us/step - loss: 1.8963 - acc: 0.3776 - val_loss: 1.8967 - val_acc: 0.3757\n",
      "Epoch 21/50\n",
      "1096788/1096788 [==============================] - 34s 31us/step - loss: 1.8909 - acc: 0.3783 - val_loss: 1.8934 - val_acc: 0.3765\n",
      "Epoch 22/50\n",
      "1096788/1096788 [==============================] - 34s 31us/step - loss: 1.8861 - acc: 0.3797 - val_loss: 1.8877 - val_acc: 0.3763\n",
      "Epoch 23/50\n",
      "1096788/1096788 [==============================] - 34s 31us/step - loss: 1.8815 - acc: 0.3811 - val_loss: 1.8836 - val_acc: 0.3798\n",
      "Epoch 24/50\n",
      "1096788/1096788 [==============================] - 34s 31us/step - loss: 1.8775 - acc: 0.3823 - val_loss: 1.8799 - val_acc: 0.3804\n",
      "Epoch 25/50\n",
      "1096788/1096788 [==============================] - 34s 31us/step - loss: 1.8734 - acc: 0.3835 - val_loss: 1.8772 - val_acc: 0.3828\n",
      "Epoch 26/50\n",
      "1096788/1096788 [==============================] - 35s 31us/step - loss: 1.8698 - acc: 0.3844 - val_loss: 1.8746 - val_acc: 0.3825\n",
      "Epoch 27/50\n",
      "1096788/1096788 [==============================] - 35s 32us/step - loss: 1.8663 - acc: 0.3856 - val_loss: 1.8681 - val_acc: 0.3849\n",
      "Epoch 28/50\n",
      "1096788/1096788 [==============================] - 34s 31us/step - loss: 1.8631 - acc: 0.3867 - val_loss: 1.8681 - val_acc: 0.3831\n",
      "Epoch 29/50\n",
      "1096788/1096788 [==============================] - 34s 31us/step - loss: 1.8600 - acc: 0.3873 - val_loss: 1.8634 - val_acc: 0.3867\n",
      "Epoch 30/50\n",
      "1096788/1096788 [==============================] - 34s 31us/step - loss: 1.8571 - acc: 0.3881 - val_loss: 1.8584 - val_acc: 0.3884\n",
      "Epoch 31/50\n",
      "1096788/1096788 [==============================] - 34s 31us/step - loss: 1.8542 - acc: 0.3892 - val_loss: 1.8571 - val_acc: 0.3898\n",
      "Epoch 32/50\n",
      "1096788/1096788 [==============================] - 34s 31us/step - loss: 1.8514 - acc: 0.3898 - val_loss: 1.8562 - val_acc: 0.3878\n",
      "Epoch 33/50\n",
      "1096788/1096788 [==============================] - 34s 31us/step - loss: 1.8489 - acc: 0.3907 - val_loss: 1.8524 - val_acc: 0.3878\n",
      "Epoch 34/50\n",
      "1096788/1096788 [==============================] - 34s 31us/step - loss: 1.8465 - acc: 0.3915 - val_loss: 1.8516 - val_acc: 0.3898\n",
      "Epoch 35/50\n",
      "1096788/1096788 [==============================] - 34s 31us/step - loss: 1.8441 - acc: 0.3919 - val_loss: 1.8484 - val_acc: 0.3909\n",
      "Epoch 36/50\n",
      "1096788/1096788 [==============================] - 34s 31us/step - loss: 1.8419 - acc: 0.3928 - val_loss: 1.8468 - val_acc: 0.3914\n",
      "Epoch 37/50\n",
      "1096788/1096788 [==============================] - 34s 31us/step - loss: 1.8398 - acc: 0.3931 - val_loss: 1.8432 - val_acc: 0.3920\n",
      "Epoch 38/50\n",
      "1096788/1096788 [==============================] - 34s 31us/step - loss: 1.8378 - acc: 0.3938 - val_loss: 1.8415 - val_acc: 0.3910\n",
      "Epoch 39/50\n",
      "1096788/1096788 [==============================] - 34s 31us/step - loss: 1.8358 - acc: 0.3941 - val_loss: 1.8415 - val_acc: 0.3929\n",
      "Epoch 40/50\n",
      "1096788/1096788 [==============================] - 35s 31us/step - loss: 1.8338 - acc: 0.3953 - val_loss: 1.8370 - val_acc: 0.3936\n",
      "Epoch 41/50\n",
      "1096788/1096788 [==============================] - 34s 31us/step - loss: 1.8320 - acc: 0.3953 - val_loss: 1.8369 - val_acc: 0.3940\n",
      "Epoch 42/50\n",
      "1096788/1096788 [==============================] - 34s 31us/step - loss: 1.8302 - acc: 0.3962 - val_loss: 1.8359 - val_acc: 0.3934\n",
      "Epoch 43/50\n",
      "1096788/1096788 [==============================] - 34s 31us/step - loss: 1.8285 - acc: 0.3965 - val_loss: 1.8321 - val_acc: 0.3948\n",
      "Epoch 44/50\n",
      "1096788/1096788 [==============================] - 34s 31us/step - loss: 1.8269 - acc: 0.3969 - val_loss: 1.8304 - val_acc: 0.3965\n",
      "Epoch 45/50\n",
      "1096788/1096788 [==============================] - 34s 31us/step - loss: 1.8254 - acc: 0.3975 - val_loss: 1.8296 - val_acc: 0.3958\n",
      "Epoch 46/50\n",
      "1096788/1096788 [==============================] - 34s 31us/step - loss: 1.8237 - acc: 0.3980 - val_loss: 1.8286 - val_acc: 0.3965\n",
      "Epoch 47/50\n",
      "1096788/1096788 [==============================] - 35s 32us/step - loss: 1.8223 - acc: 0.3983 - val_loss: 1.8285 - val_acc: 0.3968\n",
      "Epoch 48/50\n",
      "1096788/1096788 [==============================] - 34s 31us/step - loss: 1.8209 - acc: 0.3988 - val_loss: 1.8254 - val_acc: 0.3977\n",
      "Epoch 49/50\n",
      "1096788/1096788 [==============================] - 34s 31us/step - loss: 1.8195 - acc: 0.3994 - val_loss: 1.8236 - val_acc: 0.3983\n",
      "Epoch 50/50\n",
      "1096788/1096788 [==============================] - 34s 31us/step - loss: 1.8181 - acc: 0.3999 - val_loss: 1.8232 - val_acc: 0.3981\n"
     ]
    }
   ],
   "source": [
    "history = model.fit(X_train, y_train,\n",
    "batch_size=BATCH_SIZE, epochs=NB_EPOCH,\n",
    "verbose=VERBOSE, validation_split=VALIDATION_SPLIT)"
   ]
  },
  {
   "cell_type": "code",
   "execution_count": 52,
   "metadata": {},
   "outputs": [
    {
     "data": {
      "image/png": "[encoded data removed]",
      "text/plain": [
       "<Figure size 432x288 with 1 Axes>"
      ]
     },
     "metadata": {
      "needs_background": "light"
     },
     "output_type": "display_data"
    }
   ],
   "source": [
    "graph_plot(history)"
   ]
  },
  {
   "cell_type": "markdown",
   "metadata": {},
   "source": [
    "Prediction"
   ]
  },
  {
   "cell_type": "code",
   "execution_count": 19,
   "metadata": {},
   "outputs": [
    {
     "name": "stdout",
     "output_type": "stream",
     "text": [
      "(342747, 261)\n"
     ]
    }
   ],
   "source": [
    "y_test = OneHotEncoding(y_test)"
   ]
  },
  {
   "cell_type": "code",
   "execution_count": 20,
   "metadata": {},
   "outputs": [
    {
     "name": "stdout",
     "output_type": "stream",
     "text": [
      "342747/342747 [==============================] - 10s 28us/step\n",
      "Test score: 1.8268432333566031\n",
      "Test accuracy: 0.39709756759324166\n"
     ]
    }
   ],
   "source": [
    "score = model.evaluate(X_test, y_test, verbose=VERBOSE)\n",
    "print(\"Test score:\", score[0])\n",
    "print('Test accuracy:', score[1])"
   ]
  },
  {
   "cell_type": "code",
   "execution_count": 24,
   "metadata": {},
   "outputs": [
    {
     "name": "stdout",
     "output_type": "stream",
     "text": [
      "342747/342747 [==============================] - 6s 17us/step\n"
     ]
    }
   ],
   "source": [
    "prediction = model.predict_classes(X_test, verbose=1)"
   ]
  },
  {
   "cell_type": "code",
   "execution_count": 25,
   "metadata": {},
   "outputs": [
    {
     "ename": "AttributeError",
     "evalue": "'numpy.ndarray' object has no attribute 'csv'",
     "output_type": "error",
     "traceback": [
      "\u001b[1;31m---------------------------------------------------------------------------\u001b[0m",
      "\u001b[1;31mAttributeError\u001b[0m                            Traceback (most recent call last)",
      "\u001b[1;32m<ipython-input-25-d272cc0ebfae>\u001b[0m in \u001b[0;36m<module>\u001b[1;34m\u001b[0m\n\u001b[1;32m----> 1\u001b[1;33m \u001b[0mprediction\u001b[0m\u001b[1;33m.\u001b[0m\u001b[0mcsv\u001b[0m\u001b[1;33m(\u001b[0m\u001b[1;34m'prediction.csv'\u001b[0m\u001b[1;33m)\u001b[0m\u001b[1;33m\u001b[0m\u001b[1;33m\u001b[0m\u001b[0m\n\u001b[0m",
      "\u001b[1;31mAttributeError\u001b[0m: 'numpy.ndarray' object has no attribute 'csv'"
     ]
    }
   ],
   "source": [
    "prediction.csv('prediction.csv')"
   ]
  },
  {
   "cell_type": "code",
   "execution_count": 26,
   "metadata": {},
   "outputs": [],
   "source": [
    "np.savetxt(\"prediction.csv\", prediction, delimiter=\",\")"
   ]
  },
  {
   "cell_type": "code",
   "execution_count": 45,
   "metadata": {},
   "outputs": [],
   "source": [
    "np.savetxt(\"features.csv\",X_train,delimiter=\",\")"
   ]
  },
  {
   "cell_type": "code",
   "execution_count": 46,
   "metadata": {},
   "outputs": [],
   "source": [
    "np.savetxt(\"targets.csv\",y_train,delimiter=\",\")"
   ]
  },
  {
   "cell_type": "code",
   "execution_count": 40,
   "metadata": {},
   "outputs": [
    {
     "ename": "NameError",
     "evalue": "name 'dataset' is not defined",
     "output_type": "error",
     "traceback": [
      "\u001b[1;31m---------------------------------------------------------------------------\u001b[0m",
      "\u001b[1;31mNameError\u001b[0m                                 Traceback (most recent call last)",
      "\u001b[1;32m<ipython-input-40-5b45a2f97954>\u001b[0m in \u001b[0;36m<module>\u001b[1;34m\u001b[0m\n\u001b[1;32m----> 1\u001b[1;33m \u001b[1;32mdel\u001b[0m \u001b[0mdataset\u001b[0m\u001b[1;33m\u001b[0m\u001b[1;33m\u001b[0m\u001b[0m\n\u001b[0m\u001b[0;32m      2\u001b[0m \u001b[1;32mdel\u001b[0m \u001b[0mdata_to_predict\u001b[0m\u001b[1;33m\u001b[0m\u001b[1;33m\u001b[0m\u001b[0m\n\u001b[0;32m      3\u001b[0m \u001b[1;32mdel\u001b[0m \u001b[0my_train\u001b[0m\u001b[1;33m\u001b[0m\u001b[1;33m\u001b[0m\u001b[0m\n\u001b[0;32m      4\u001b[0m \u001b[1;32mdel\u001b[0m \u001b[0mX_train\u001b[0m\u001b[1;33m\u001b[0m\u001b[1;33m\u001b[0m\u001b[0m\n",
      "\u001b[1;31mNameError\u001b[0m: name 'dataset' is not defined"
     ]
    }
   ],
   "source": [
    "del dataset\n",
    "del data_to_predict\n",
    "del y_train\n",
    "del X_train"
   ]
  },
  {
   "cell_type": "code",
   "execution_count": null,
   "metadata": {},
   "outputs": [],
   "source": []
  }
 ],
 "metadata": {
  "kernelspec": {
   "display_name": "Python 3",
   "language": "python",
   "name": "python3"
  },
  "language_info": {
   "codemirror_mode": {
    "name": "ipython",
    "version": 3
   },
   "file_extension": ".py",
   "mimetype": "text/x-python",
   "name": "python",
   "nbconvert_exporter": "python",
   "pygments_lexer": "ipython3",
   "version": "3.6.7"
  }
 },
 "nbformat": 4,
 "nbformat_minor": 2
}
