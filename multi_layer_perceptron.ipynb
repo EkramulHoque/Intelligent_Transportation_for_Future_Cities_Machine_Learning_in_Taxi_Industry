{
 "cells": [
  {
   "cell_type": "code",
   "execution_count": 1,
   "metadata": {},
   "outputs": [
    {
     "name": "stderr",
     "output_type": "stream",
     "text": [
      "Using TensorFlow backend.\n"
     ]
    }
   ],
   "source": [
    "from numpy import array\n",
    "from numpy import argmax\n",
    "from keras.optimizers import RMSprop, Adam\n",
    "from keras.utils import to_categorical\n",
    "from sklearn.model_selection import train_test_split\n",
    "import matplotlib.pyplot as plt\n",
    "import pandas as pd\n",
    "import numpy as np\n",
    "import os\n",
    "from keras.datasets import mnist\n",
    "from keras.models import Sequential\n",
    "from keras.layers.core import Dense, Activation, Dropout\n",
    "from keras.optimizers import SGD\n",
    "from keras.utils import np_utils\n",
    "from keras.callbacks import EarlyStopping\n",
    "from sklearn import preprocessing\n",
    "from sklearn.preprocessing import MinMaxScaler\n",
    "from sklearn.preprocessing import LabelEncoder\n",
    "np.random.seed(1671)"
   ]
  },
  {
   "cell_type": "markdown",
   "metadata": {},
   "source": [
    "Graph plot for training and testing data"
   ]
  },
  {
   "cell_type": "code",
   "execution_count": 2,
   "metadata": {},
   "outputs": [],
   "source": [
    "def graph_plot(model_history):\n",
    "    fig, axs = plt.subplots(1,2,figsize=(15,5))\n",
    "    # summarize history for accuracy\n",
    "    axs[0].plot(range(1,len(model_history.history['acc'])+1),model_history.history['acc'])\n",
    "    axs[0].plot(range(1,len(model_history.history['val_acc'])+1),model_history.history['val_acc'])\n",
    "    axs[0].set_title('Model Accuracy')\n",
    "    axs[0].set_ylabel('Accuracy')\n",
    "    axs[0].set_xlabel('Epoch')\n",
    "    axs[0].set_xticks(np.arange(1,len(model_history.history['acc'])+1),len(model_history.history['acc'])/10)\n",
    "    axs[0].legend(['train', 'val'], loc='best')\n",
    "    # summarize history for loss\n",
    "    axs[1].plot(range(1,len(model_history.history['loss'])+1),model_history.history['loss'])\n",
    "    axs[1].plot(range(1,len(model_history.history['val_loss'])+1),model_history.history['val_loss'])\n",
    "    axs[1].set_title('Model Loss')\n",
    "    axs[1].set_ylabel('Loss')\n",
    "    axs[1].set_xlabel('Epoch')\n",
    "    axs[1].set_xticks(np.arange(1,len(model_history.history['loss'])+1),len(model_history.history['loss'])/10)\n",
    "    axs[1].legend(['train', 'val'], loc='best')\n",
    "    fig.savefig('model-score.png')\n",
    "    plt.show()"
   ]
  },
  {
   "cell_type": "code",
   "execution_count": 12,
   "metadata": {},
   "outputs": [],
   "source": [
    "def labelEncoding(y):\n",
    "    encoder = LabelEncoder()\n",
    "    encoder.fit(y)\n",
    "    y = encoder.transform(y)\n",
    "    y = np_utils.to_categorical(y)\n",
    "    return y"
   ]
  },
  {
   "cell_type": "code",
   "execution_count": 5,
   "metadata": {},
   "outputs": [],
   "source": [
    "def accuracy(test_x, test_y, model):\n",
    "    result = model.predict(test_x)\n",
    "    predicted_class = np.argmax(result, axis=1)\n",
    "    true_class = np.argmax(test_y, axis=1)\n",
    "    num_correct = np.sum(predicted_class == true_class) \n",
    "    accuracy = float(num_correct)/result.shape[0]\n",
    "    return (accuracy * 100)"
   ]
  },
  {
   "cell_type": "code",
   "execution_count": 4,
   "metadata": {},
   "outputs": [
    {
     "name": "stdout",
     "output_type": "stream",
     "text": [
      "<class 'pandas.core.frame.DataFrame'>\n",
      "RangeIndex: 1713732 entries, 0 to 1713731\n",
      "Data columns (total 23 columns):\n",
      "VendorID                 int64\n",
      "RatecodeID               int64\n",
      "DOLocationID             int64\n",
      "passenger_count          int64\n",
      "trip_distance            float64\n",
      "fare_amount              float64\n",
      "extra                    float64\n",
      "mta_tax                  float64\n",
      "tip_amount               float64\n",
      "tolls_amount             float64\n",
      "improvement_surcharge    float64\n",
      "total_amount             float64\n",
      "payment_type             int64\n",
      "trip_type                float64\n",
      "dispatch                 int64\n",
      "PUT                      object\n",
      "DOT                      object\n",
      "PickUp_hr                int64\n",
      "TMAX                     int64\n",
      "day                      int64\n",
      "month                    int64\n",
      "ride_time_sec            float64\n",
      "zone                     int64\n",
      "dtypes: float64(10), int64(11), object(2)\n",
      "memory usage: 300.7+ MB\n"
     ]
    }
   ],
   "source": [
    "dataset = pd.read_csv('nyc_for_ann.csv')\n",
    "#dataset = pd.read_csv('nyc_dummies.csv')\n",
    "dataset.info()"
   ]
  },
  {
   "cell_type": "markdown",
   "metadata": {},
   "source": [
    "Dropped all the features that has high correlation (refer to the correlation test) and date time value"
   ]
  },
  {
   "cell_type": "code",
   "execution_count": 5,
   "metadata": {},
   "outputs": [
    {
     "data": {
      "text/html": [
       "<div>\n",
       "<style scoped>\n",
       "    .dataframe tbody tr th:only-of-type {\n",
       "        vertical-align: middle;\n",
       "    }\n",
       "\n",
       "    .dataframe tbody tr th {\n",
       "        vertical-align: top;\n",
       "    }\n",
       "\n",
       "    .dataframe thead th {\n",
       "        text-align: right;\n",
       "    }\n",
       "</style>\n",
       "<table border=\"1\" class=\"dataframe\">\n",
       "  <thead>\n",
       "    <tr style=\"text-align: right;\">\n",
       "      <th></th>\n",
       "      <th>VendorID</th>\n",
       "      <th>RatecodeID</th>\n",
       "      <th>DOLocationID</th>\n",
       "      <th>passenger_count</th>\n",
       "      <th>trip_distance</th>\n",
       "      <th>fare_amount</th>\n",
       "      <th>extra</th>\n",
       "      <th>mta_tax</th>\n",
       "      <th>tip_amount</th>\n",
       "      <th>tolls_amount</th>\n",
       "      <th>improvement_surcharge</th>\n",
       "      <th>total_amount</th>\n",
       "      <th>payment_type</th>\n",
       "      <th>trip_type</th>\n",
       "      <th>dispatch</th>\n",
       "      <th>PickUp_hr</th>\n",
       "      <th>TMAX</th>\n",
       "      <th>day</th>\n",
       "      <th>month</th>\n",
       "      <th>ride_time_sec</th>\n",
       "    </tr>\n",
       "  </thead>\n",
       "  <tbody>\n",
       "    <tr>\n",
       "      <th>0</th>\n",
       "      <td>2</td>\n",
       "      <td>1</td>\n",
       "      <td>217</td>\n",
       "      <td>1</td>\n",
       "      <td>2.90</td>\n",
       "      <td>14.5</td>\n",
       "      <td>0.0</td>\n",
       "      <td>0.5</td>\n",
       "      <td>0.00</td>\n",
       "      <td>0.0</td>\n",
       "      <td>0.3</td>\n",
       "      <td>15.30</td>\n",
       "      <td>2</td>\n",
       "      <td>1.0</td>\n",
       "      <td>1</td>\n",
       "      <td>11</td>\n",
       "      <td>33</td>\n",
       "      <td>6</td>\n",
       "      <td>1</td>\n",
       "      <td>1117.0</td>\n",
       "    </tr>\n",
       "    <tr>\n",
       "      <th>1</th>\n",
       "      <td>2</td>\n",
       "      <td>1</td>\n",
       "      <td>91</td>\n",
       "      <td>6</td>\n",
       "      <td>4.77</td>\n",
       "      <td>16.5</td>\n",
       "      <td>0.5</td>\n",
       "      <td>0.5</td>\n",
       "      <td>0.00</td>\n",
       "      <td>0.0</td>\n",
       "      <td>0.3</td>\n",
       "      <td>17.80</td>\n",
       "      <td>2</td>\n",
       "      <td>1.0</td>\n",
       "      <td>1</td>\n",
       "      <td>22</td>\n",
       "      <td>33</td>\n",
       "      <td>6</td>\n",
       "      <td>1</td>\n",
       "      <td>1033.0</td>\n",
       "    </tr>\n",
       "    <tr>\n",
       "      <th>2</th>\n",
       "      <td>2</td>\n",
       "      <td>1</td>\n",
       "      <td>74</td>\n",
       "      <td>1</td>\n",
       "      <td>1.95</td>\n",
       "      <td>11.5</td>\n",
       "      <td>0.0</td>\n",
       "      <td>0.5</td>\n",
       "      <td>0.00</td>\n",
       "      <td>0.0</td>\n",
       "      <td>0.3</td>\n",
       "      <td>12.30</td>\n",
       "      <td>1</td>\n",
       "      <td>1.0</td>\n",
       "      <td>1</td>\n",
       "      <td>14</td>\n",
       "      <td>33</td>\n",
       "      <td>6</td>\n",
       "      <td>1</td>\n",
       "      <td>945.0</td>\n",
       "    </tr>\n",
       "    <tr>\n",
       "      <th>3</th>\n",
       "      <td>1</td>\n",
       "      <td>1</td>\n",
       "      <td>217</td>\n",
       "      <td>1</td>\n",
       "      <td>2.20</td>\n",
       "      <td>12.5</td>\n",
       "      <td>0.5</td>\n",
       "      <td>0.5</td>\n",
       "      <td>2.75</td>\n",
       "      <td>0.0</td>\n",
       "      <td>0.3</td>\n",
       "      <td>16.55</td>\n",
       "      <td>1</td>\n",
       "      <td>1.0</td>\n",
       "      <td>1</td>\n",
       "      <td>23</td>\n",
       "      <td>33</td>\n",
       "      <td>6</td>\n",
       "      <td>1</td>\n",
       "      <td>1021.0</td>\n",
       "    </tr>\n",
       "    <tr>\n",
       "      <th>4</th>\n",
       "      <td>2</td>\n",
       "      <td>1</td>\n",
       "      <td>4</td>\n",
       "      <td>1</td>\n",
       "      <td>2.82</td>\n",
       "      <td>13.0</td>\n",
       "      <td>0.5</td>\n",
       "      <td>0.5</td>\n",
       "      <td>1.00</td>\n",
       "      <td>0.0</td>\n",
       "      <td>0.3</td>\n",
       "      <td>15.30</td>\n",
       "      <td>1</td>\n",
       "      <td>1.0</td>\n",
       "      <td>1</td>\n",
       "      <td>23</td>\n",
       "      <td>33</td>\n",
       "      <td>6</td>\n",
       "      <td>1</td>\n",
       "      <td>921.0</td>\n",
       "    </tr>\n",
       "  </tbody>\n",
       "</table>\n",
       "</div>"
      ],
      "text/plain": [
       "   VendorID  RatecodeID  DOLocationID  passenger_count  trip_distance  \\\n",
       "0         2           1           217                1           2.90   \n",
       "1         2           1            91                6           4.77   \n",
       "2         2           1            74                1           1.95   \n",
       "3         1           1           217                1           2.20   \n",
       "4         2           1             4                1           2.82   \n",
       "\n",
       "   fare_amount  extra  mta_tax  tip_amount  tolls_amount  \\\n",
       "0         14.5    0.0      0.5        0.00           0.0   \n",
       "1         16.5    0.5      0.5        0.00           0.0   \n",
       "2         11.5    0.0      0.5        0.00           0.0   \n",
       "3         12.5    0.5      0.5        2.75           0.0   \n",
       "4         13.0    0.5      0.5        1.00           0.0   \n",
       "\n",
       "   improvement_surcharge  total_amount  payment_type  trip_type  dispatch  \\\n",
       "0                    0.3         15.30             2        1.0         1   \n",
       "1                    0.3         17.80             2        1.0         1   \n",
       "2                    0.3         12.30             1        1.0         1   \n",
       "3                    0.3         16.55             1        1.0         1   \n",
       "4                    0.3         15.30             1        1.0         1   \n",
       "\n",
       "   PickUp_hr  TMAX  day  month  ride_time_sec  \n",
       "0         11    33    6      1         1117.0  \n",
       "1         22    33    6      1         1033.0  \n",
       "2         14    33    6      1          945.0  \n",
       "3         23    33    6      1         1021.0  \n",
       "4         23    33    6      1          921.0  "
      ]
     },
     "execution_count": 5,
     "metadata": {},
     "output_type": "execute_result"
    }
   ],
   "source": [
    "X = dataset.drop(columns=['PUT','DOT','zone'],axis=1)\n",
    "y = dataset['zone']\n",
    "del dataset\n",
    "X.head()"
   ]
  },
  {
   "cell_type": "markdown",
   "metadata": {},
   "source": [
    "We decide to randomly drop with the dropout probability some of the values propagated inside our internal dense network of hidden layers. In machine learning, this is a well-known form of regularization"
   ]
  },
  {
   "cell_type": "code",
   "execution_count": 6,
   "metadata": {},
   "outputs": [],
   "source": [
    "NB_EPOCH = 30\n",
    "BATCH_SIZE = 100\n",
    "VALIDATION_SPLIT=0.2\n",
    "VERBOSE = 1\n",
    "OPTIMIZER = Adam(lr=0.001, decay = (0.001) / NB_EPOCH ) # optimizer, explained later in this chapter\n",
    "#OPTIMIZER = SGD(lr=0.1)\n",
    "N_HIDDEN = 128\n",
    "DROPOUT = 0.3"
   ]
  },
  {
   "cell_type": "markdown",
   "metadata": {},
   "source": [
    "We have to map the zones to distinct categories; example in our target column we have something like 7,7,7,5,6,3,2... which are our zones. Now first we decide how many unique zones/classes are here. Then map each zones to a value here its a vector. Example for zone 7 it would [0,0,0,0,0,0,1,0,0,0,0,0,0,....]"
   ]
  },
  {
   "cell_type": "code",
   "execution_count": 7,
   "metadata": {},
   "outputs": [],
   "source": [
    "def OneHotEncoding(y):\n",
    "    data = array(y)\n",
    "    encoded = to_categorical(data)\n",
    "    print(np.shape(encoded))\n",
    "    return encoded"
   ]
  },
  {
   "cell_type": "code",
   "execution_count": 7,
   "metadata": {},
   "outputs": [],
   "source": [
    "def model_nn(num_input_nodes,num_classes,DROPOUT):\n",
    "    model = Sequential()\n",
    "    model.add(Dense(512, input_dim=num_input_nodes))\n",
    "    model.add(Activation('relu'))\n",
    "    model.add(Dense(256))\n",
    "    model.add(Activation('relu'))\n",
    "    model.add(Dense(128))\n",
    "    model.add(Activation('relu'))\n",
    "    #model.add(Dropout(DROPOUT))\n",
    "    model.add(Dense(64))\n",
    "    model.add(Activation('relu'))\n",
    "    model.add(Dense(num_classes))\n",
    "    model.add(Activation('softmax'))\n",
    "    model.summary()\n",
    "    model.compile(loss='categorical_crossentropy',\n",
    "    optimizer=OPTIMIZER,\n",
    "    metrics=['accuracy'])\n",
    "    return model\n",
    "    "
   ]
  },
  {
   "cell_type": "markdown",
   "metadata": {},
   "source": [
    "Multilayer Perceptron Model"
   ]
  },
  {
   "cell_type": "code",
   "execution_count": 9,
   "metadata": {},
   "outputs": [],
   "source": [
    "def model(N_HIDDEN,RESHAPED,NB_CLASSES,OPTIMIZER,DROPOUT):\n",
    "    model = Sequential()\n",
    "    model.add(Dense(N_HIDDEN, input_shape=(RESHAPED,)))\n",
    "    model.add(Activation('relu'))\n",
    "    model.add(Dense(N_HIDDEN))\n",
    "    model.add(Activation('relu'))\n",
    "    #model.add(Dropout(DROPOUT))\n",
    "    model.add(Dense(NB_CLASSES))\n",
    "    model.add(Activation('softmax'))\n",
    "    model.summary()\n",
    "    model.compile(loss='categorical_crossentropy',\n",
    "    optimizer=OPTIMIZER,\n",
    "    metrics=['accuracy'])\n",
    "    return model"
   ]
  },
  {
   "cell_type": "code",
   "execution_count": 8,
   "metadata": {},
   "outputs": [],
   "source": [
    "X_train, X_test, y_train, y_test = train_test_split(X, y, test_size=0.2, random_state=123)\n",
    "RESHAPED = len(X_train.columns)"
   ]
  },
  {
   "cell_type": "code",
   "execution_count": 9,
   "metadata": {},
   "outputs": [
    {
     "name": "stderr",
     "output_type": "stream",
     "text": [
      "c:\\users\\user\\appdata\\local\\conda\\conda\\envs\\tf_gpu\\lib\\site-packages\\sklearn\\preprocessing\\data.py:323: DataConversionWarning: Data with input dtype int64, float64 were all converted to float64 by MinMaxScaler.\n",
      "  return self.partial_fit(X, y)\n"
     ]
    }
   ],
   "source": [
    "scaler = MinMaxScaler()\n",
    "X_train = scaler.fit_transform(X_train)\n",
    "X_test = scaler.transform(X_test)"
   ]
  },
  {
   "cell_type": "code",
   "execution_count": 13,
   "metadata": {},
   "outputs": [],
   "source": [
    "#y_train = OneHotEncoding(y_train)\n",
    "y_train = labelEncoding(y_train)"
   ]
  },
  {
   "cell_type": "code",
   "execution_count": 14,
   "metadata": {},
   "outputs": [],
   "source": [
    "#unique_elements, counts_elements = np.unique(y_train, return_counts=True)\n",
    "NB_CLASSES = y_train.shape[1]"
   ]
  },
  {
   "cell_type": "code",
   "execution_count": null,
   "metadata": {},
   "outputs": [],
   "source": [
    "outputFolder = './output-mnist'\n",
    "if not os.path.exists(outputFolder):\n",
    "    os.makedirs(outputFolder)\n",
    "filepath=outputFolder+\"/weights-{epoch:02d}-{val_acc:.2f}.hdf5\"\n",
    "checkpoint = ModelCheckpoint(filepath, monitor='val_acc', verbose=1, \\\n",
    "                             save_best_only=False, save_weights_only=True, \\\n",
    "                             mode='auto', period=10)\n",
    "callbacks_list = [checkpoint]"
   ]
  },
  {
   "cell_type": "code",
   "execution_count": 15,
   "metadata": {},
   "outputs": [],
   "source": [
    "earlystop = EarlyStopping(monitor='val_acc', min_delta=0.0001, patience=5, \\\n",
    "                          verbose=1, mode='auto')\n",
    "callbacks_list = [earlystop]"
   ]
  },
  {
   "cell_type": "code",
   "execution_count": 16,
   "metadata": {},
   "outputs": [
    {
     "name": "stdout",
     "output_type": "stream",
     "text": [
      "_________________________________________________________________\n",
      "Layer (type)                 Output Shape              Param #   \n",
      "=================================================================\n",
      "dense_1 (Dense)              (None, 512)               10752     \n",
      "_________________________________________________________________\n",
      "activation_1 (Activation)    (None, 512)               0         \n",
      "_________________________________________________________________\n",
      "dense_2 (Dense)              (None, 256)               131328    \n",
      "_________________________________________________________________\n",
      "activation_2 (Activation)    (None, 256)               0         \n",
      "_________________________________________________________________\n",
      "dense_3 (Dense)              (None, 128)               32896     \n",
      "_________________________________________________________________\n",
      "activation_3 (Activation)    (None, 128)               0         \n",
      "_________________________________________________________________\n",
      "dense_4 (Dense)              (None, 64)                8256      \n",
      "_________________________________________________________________\n",
      "activation_4 (Activation)    (None, 64)                0         \n",
      "_________________________________________________________________\n",
      "dense_5 (Dense)              (None, 25)                1625      \n",
      "_________________________________________________________________\n",
      "activation_5 (Activation)    (None, 25)                0         \n",
      "=================================================================\n",
      "Total params: 184,857\n",
      "Trainable params: 184,857\n",
      "Non-trainable params: 0\n",
      "_________________________________________________________________\n"
     ]
    }
   ],
   "source": [
    "model = model_nn(X_train.shape[1],y_train.shape[1],DROPOUT)"
   ]
  },
  {
   "cell_type": "code",
   "execution_count": 12,
   "metadata": {},
   "outputs": [
    {
     "name": "stdout",
     "output_type": "stream",
     "text": [
      "_________________________________________________________________\n",
      "Layer (type)                 Output Shape              Param #   \n",
      "=================================================================\n",
      "dense_1 (Dense)              (None, 128)               2560      \n",
      "_________________________________________________________________\n",
      "activation_1 (Activation)    (None, 128)               0         \n",
      "_________________________________________________________________\n",
      "dense_2 (Dense)              (None, 128)               16512     \n",
      "_________________________________________________________________\n",
      "activation_2 (Activation)    (None, 128)               0         \n",
      "_________________________________________________________________\n",
      "dense_3 (Dense)              (None, 261)               33669     \n",
      "_________________________________________________________________\n",
      "activation_3 (Activation)    (None, 261)               0         \n",
      "=================================================================\n",
      "Total params: 52,741\n",
      "Trainable params: 52,741\n",
      "Non-trainable params: 0\n",
      "_________________________________________________________________\n"
     ]
    }
   ],
   "source": [
    "model= model(N_HIDDEN,RESHAPED,NB_CLASSES,OPTIMIZER,DROPOUT)"
   ]
  },
  {
   "cell_type": "code",
   "execution_count": 17,
   "metadata": {},
   "outputs": [
    {
     "name": "stdout",
     "output_type": "stream",
     "text": [
      "Train on 1096788 samples, validate on 274197 samples\n",
      "Epoch 1/30\n",
      "1096788/1096788 [==============================] - 44s 40us/step - loss: 2.2998 - acc: 0.2727 - val_loss: 1.9955 - val_acc: 0.3411\n",
      "Epoch 2/30\n",
      "1096788/1096788 [==============================] - 43s 39us/step - loss: 1.9046 - acc: 0.3619 - val_loss: 1.8607 - val_acc: 0.3684\n",
      "Epoch 3/30\n",
      "1096788/1096788 [==============================] - 43s 39us/step - loss: 1.7977 - acc: 0.3903 - val_loss: 1.7497 - val_acc: 0.4037\n",
      "Epoch 4/30\n",
      "1096788/1096788 [==============================] - 43s 39us/step - loss: 1.7396 - acc: 0.4061 - val_loss: 1.7073 - val_acc: 0.4130\n",
      "Epoch 5/30\n",
      "1096788/1096788 [==============================] - 43s 39us/step - loss: 1.7013 - acc: 0.4170 - val_loss: 1.6915 - val_acc: 0.4169\n",
      "Epoch 6/30\n",
      "1096788/1096788 [==============================] - 43s 39us/step - loss: 1.6739 - acc: 0.4246 - val_loss: 1.6504 - val_acc: 0.4344\n",
      "Epoch 7/30\n",
      "1096788/1096788 [==============================] - 43s 39us/step - loss: 1.6529 - acc: 0.4302 - val_loss: 1.6366 - val_acc: 0.4365\n",
      "Epoch 8/30\n",
      "1096788/1096788 [==============================] - 43s 39us/step - loss: 1.6346 - acc: 0.4355 - val_loss: 1.6226 - val_acc: 0.4399\n",
      "Epoch 9/30\n",
      "1096788/1096788 [==============================] - 43s 39us/step - loss: 1.6195 - acc: 0.4393 - val_loss: 1.6200 - val_acc: 0.4387\n",
      "Epoch 10/30\n",
      "1096788/1096788 [==============================] - 43s 39us/step - loss: 1.6076 - acc: 0.4422 - val_loss: 1.6072 - val_acc: 0.4430\n",
      "Epoch 11/30\n",
      "1096788/1096788 [==============================] - 43s 39us/step - loss: 1.5965 - acc: 0.4455 - val_loss: 1.5913 - val_acc: 0.4463\n",
      "Epoch 12/30\n",
      "1096788/1096788 [==============================] - 43s 39us/step - loss: 1.5875 - acc: 0.4478 - val_loss: 1.5874 - val_acc: 0.4486\n",
      "Epoch 13/30\n",
      "1096788/1096788 [==============================] - 43s 39us/step - loss: 1.5799 - acc: 0.4496 - val_loss: 1.5819 - val_acc: 0.4501\n",
      "Epoch 14/30\n",
      "1096788/1096788 [==============================] - 43s 39us/step - loss: 1.5722 - acc: 0.4520 - val_loss: 1.5767 - val_acc: 0.4520\n",
      "Epoch 15/30\n",
      "1096788/1096788 [==============================] - 43s 39us/step - loss: 1.5662 - acc: 0.4535 - val_loss: 1.5710 - val_acc: 0.4522\n",
      "Epoch 16/30\n",
      "1096788/1096788 [==============================] - 43s 39us/step - loss: 1.5606 - acc: 0.4550 - val_loss: 1.5746 - val_acc: 0.4515\n",
      "Epoch 17/30\n",
      "1096788/1096788 [==============================] - 43s 39us/step - loss: 1.5556 - acc: 0.4559 - val_loss: 1.5540 - val_acc: 0.4573\n",
      "Epoch 18/30\n",
      "1096788/1096788 [==============================] - 43s 39us/step - loss: 1.5512 - acc: 0.4575 - val_loss: 1.5558 - val_acc: 0.4556\n",
      "Epoch 19/30\n",
      "1096788/1096788 [==============================] - 43s 39us/step - loss: 1.5467 - acc: 0.4585 - val_loss: 1.5535 - val_acc: 0.4564\n",
      "Epoch 20/30\n",
      "1096788/1096788 [==============================] - 43s 39us/step - loss: 1.5430 - acc: 0.4597 - val_loss: 1.5520 - val_acc: 0.4559\n",
      "Epoch 21/30\n",
      "1096788/1096788 [==============================] - 43s 39us/step - loss: 1.5394 - acc: 0.4604 - val_loss: 1.5603 - val_acc: 0.4543\n",
      "Epoch 22/30\n",
      "1096788/1096788 [==============================] - 43s 39us/step - loss: 1.5359 - acc: 0.4611 - val_loss: 1.5456 - val_acc: 0.4603\n",
      "Epoch 23/30\n",
      "1096788/1096788 [==============================] - 43s 39us/step - loss: 1.5328 - acc: 0.4621 - val_loss: 1.5360 - val_acc: 0.4615\n",
      "Epoch 24/30\n",
      "1096788/1096788 [==============================] - 43s 39us/step - loss: 1.5298 - acc: 0.4629 - val_loss: 1.5358 - val_acc: 0.4614\n",
      "Epoch 25/30\n",
      "1096788/1096788 [==============================] - 43s 39us/step - loss: 1.5274 - acc: 0.4634 - val_loss: 1.5448 - val_acc: 0.4593\n",
      "Epoch 26/30\n",
      "1096788/1096788 [==============================] - 43s 39us/step - loss: 1.5246 - acc: 0.4639 - val_loss: 1.5337 - val_acc: 0.4610\n",
      "Epoch 27/30\n",
      "1096788/1096788 [==============================] - 43s 40us/step - loss: 1.5221 - acc: 0.4652 - val_loss: 1.5370 - val_acc: 0.4591\n",
      "Epoch 28/30\n",
      "1096788/1096788 [==============================] - 44s 40us/step - loss: 1.5194 - acc: 0.4655 - val_loss: 1.5294 - val_acc: 0.4634\n",
      "Epoch 29/30\n",
      "1096788/1096788 [==============================] - 43s 39us/step - loss: 1.5177 - acc: 0.4662 - val_loss: 1.5288 - val_acc: 0.4635\n",
      "Epoch 30/30\n",
      "1096788/1096788 [==============================] - 43s 39us/step - loss: 1.5155 - acc: 0.4667 - val_loss: 1.5237 - val_acc: 0.4653\n"
     ]
    }
   ],
   "source": [
    "history = model.fit(X_train, y_train,\n",
    "batch_size=BATCH_SIZE, epochs=NB_EPOCH,\n",
    "verbose=VERBOSE,callbacks=callbacks_list,validation_split=VALIDATION_SPLIT)"
   ]
  },
  {
   "cell_type": "code",
   "execution_count": 18,
   "metadata": {},
   "outputs": [
    {
     "data": {
      "image/png": "[encoded data removed]",
      "text/plain": [
       "<Figure size 1080x360 with 2 Axes>"
      ]
     },
     "metadata": {
      "needs_background": "light"
     },
     "output_type": "display_data"
    }
   ],
   "source": [
    "graph_plot(history)"
   ]
  },
  {
   "cell_type": "markdown",
   "metadata": {},
   "source": [
    "Prediction"
   ]
  },
  {
   "cell_type": "code",
   "execution_count": 20,
   "metadata": {},
   "outputs": [],
   "source": [
    "y_test = labelEncoding(y_test)"
   ]
  },
  {
   "cell_type": "code",
   "execution_count": null,
   "metadata": {},
   "outputs": [],
   "source": []
  },
  {
   "cell_type": "code",
   "execution_count": 21,
   "metadata": {},
   "outputs": [
    {
     "name": "stdout",
     "output_type": "stream",
     "text": [
      "342747/342747 [==============================] - 9s 27us/step\n",
      "Test score: 1.52572639175016\n",
      "Test accuracy: 0.4651769380904923\n"
     ]
    }
   ],
   "source": [
    "score = model.evaluate(X_test, y_test, verbose=VERBOSE)\n",
    "print(\"Test score:\", score[0])\n",
    "print('Test accuracy:', score[1])"
   ]
  },
  {
   "cell_type": "code",
   "execution_count": 24,
   "metadata": {},
   "outputs": [
    {
     "name": "stdout",
     "output_type": "stream",
     "text": [
      "342747/342747 [==============================] - 6s 17us/step\n"
     ]
    }
   ],
   "source": [
    "prediction = model.predict_classes(X_test, verbose=1)"
   ]
  },
  {
   "cell_type": "code",
   "execution_count": 25,
   "metadata": {},
   "outputs": [
    {
     "ename": "AttributeError",
     "evalue": "'numpy.ndarray' object has no attribute 'csv'",
     "output_type": "error",
     "traceback": [
      "\u001b[1;31m---------------------------------------------------------------------------\u001b[0m",
      "\u001b[1;31mAttributeError\u001b[0m                            Traceback (most recent call last)",
      "\u001b[1;32m<ipython-input-25-d272cc0ebfae>\u001b[0m in \u001b[0;36m<module>\u001b[1;34m\u001b[0m\n\u001b[1;32m----> 1\u001b[1;33m \u001b[0mprediction\u001b[0m\u001b[1;33m.\u001b[0m\u001b[0mcsv\u001b[0m\u001b[1;33m(\u001b[0m\u001b[1;34m'prediction.csv'\u001b[0m\u001b[1;33m)\u001b[0m\u001b[1;33m\u001b[0m\u001b[1;33m\u001b[0m\u001b[0m\n\u001b[0m",
      "\u001b[1;31mAttributeError\u001b[0m: 'numpy.ndarray' object has no attribute 'csv'"
     ]
    }
   ],
   "source": [
    "prediction.csv('prediction.csv')"
   ]
  },
  {
   "cell_type": "code",
   "execution_count": 26,
   "metadata": {},
   "outputs": [],
   "source": [
    "np.savetxt(\"prediction.csv\", prediction, delimiter=\",\")"
   ]
  },
  {
   "cell_type": "code",
   "execution_count": 45,
   "metadata": {},
   "outputs": [],
   "source": [
    "np.savetxt(\"features.csv\",X_train,delimiter=\",\")"
   ]
  },
  {
   "cell_type": "code",
   "execution_count": 46,
   "metadata": {},
   "outputs": [],
   "source": [
    "np.savetxt(\"targets.csv\",y_train,delimiter=\",\")"
   ]
  },
  {
   "cell_type": "code",
   "execution_count": 40,
   "metadata": {},
   "outputs": [
    {
     "ename": "NameError",
     "evalue": "name 'dataset' is not defined",
     "output_type": "error",
     "traceback": [
      "\u001b[1;31m---------------------------------------------------------------------------\u001b[0m",
      "\u001b[1;31mNameError\u001b[0m                                 Traceback (most recent call last)",
      "\u001b[1;32m<ipython-input-40-5b45a2f97954>\u001b[0m in \u001b[0;36m<module>\u001b[1;34m\u001b[0m\n\u001b[1;32m----> 1\u001b[1;33m \u001b[1;32mdel\u001b[0m \u001b[0mdataset\u001b[0m\u001b[1;33m\u001b[0m\u001b[1;33m\u001b[0m\u001b[0m\n\u001b[0m\u001b[0;32m      2\u001b[0m \u001b[1;32mdel\u001b[0m \u001b[0mdata_to_predict\u001b[0m\u001b[1;33m\u001b[0m\u001b[1;33m\u001b[0m\u001b[0m\n\u001b[0;32m      3\u001b[0m \u001b[1;32mdel\u001b[0m \u001b[0my_train\u001b[0m\u001b[1;33m\u001b[0m\u001b[1;33m\u001b[0m\u001b[0m\n\u001b[0;32m      4\u001b[0m \u001b[1;32mdel\u001b[0m \u001b[0mX_train\u001b[0m\u001b[1;33m\u001b[0m\u001b[1;33m\u001b[0m\u001b[0m\n",
      "\u001b[1;31mNameError\u001b[0m: name 'dataset' is not defined"
     ]
    }
   ],
   "source": [
    "del dataset\n",
    "del data_to_predict\n",
    "del y_train\n",
    "del X_train"
   ]
  },
  {
   "cell_type": "code",
   "execution_count": null,
   "metadata": {},
   "outputs": [],
   "source": []
  }
 ],
 "metadata": {
  "kernelspec": {
   "display_name": "Python 3",
   "language": "python",
   "name": "python3"
  },
  "language_info": {
   "codemirror_mode": {
    "name": "ipython",
    "version": 3
   },
   "file_extension": ".py",
   "mimetype": "text/x-python",
   "name": "python",
   "nbconvert_exporter": "python",
   "pygments_lexer": "ipython3",
   "version": "3.6.7"
  }
 },
 "nbformat": 4,
 "nbformat_minor": 2
}
